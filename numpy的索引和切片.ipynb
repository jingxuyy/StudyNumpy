{
 "cells": [
  {
   "cell_type": "markdown",
   "id": "901f7d38",
   "metadata": {},
   "source": [
    "## numpy索引和切片"
   ]
  },
  {
   "cell_type": "code",
   "execution_count": 2,
   "id": "aab28f1d",
   "metadata": {},
   "outputs": [],
   "source": [
    "import numpy as np"
   ]
  },
  {
   "cell_type": "markdown",
   "id": "d81d38cf",
   "metadata": {},
   "source": [
    "### numpy索引\n",
    "> 根据下标取numpy数组中的元素\n",
    "- 数组和列表相同，可以通过下标进行获取元素，并且使用规则相同"
   ]
  },
  {
   "cell_type": "markdown",
   "id": "b5250d2d",
   "metadata": {},
   "source": [
    "#### 一维数组\n",
    "- 数组名[索引值]"
   ]
  },
  {
   "cell_type": "code",
   "execution_count": 3,
   "id": "8b89dc77",
   "metadata": {},
   "outputs": [
    {
     "data": {
      "text/plain": [
       "array([ 0,  2,  4,  6,  8, 10, 12, 14, 16, 18])"
      ]
     },
     "execution_count": 3,
     "metadata": {},
     "output_type": "execute_result"
    }
   ],
   "source": [
    "data = np.array([i for i in range(20) if i % 2 == 0])\n",
    "data"
   ]
  },
  {
   "cell_type": "code",
   "execution_count": 4,
   "id": "fa12bfbc",
   "metadata": {},
   "outputs": [
    {
     "data": {
      "text/plain": [
       "0"
      ]
     },
     "execution_count": 4,
     "metadata": {},
     "output_type": "execute_result"
    }
   ],
   "source": [
    "data[0]"
   ]
  },
  {
   "cell_type": "code",
   "execution_count": 5,
   "id": "c933e310",
   "metadata": {},
   "outputs": [
    {
     "data": {
      "text/plain": [
       "12"
      ]
     },
     "execution_count": 5,
     "metadata": {},
     "output_type": "execute_result"
    }
   ],
   "source": [
    "data[6]"
   ]
  },
  {
   "cell_type": "markdown",
   "id": "19004a03",
   "metadata": {},
   "source": [
    "#### 二维数组\n",
    "- 二维数组相当于是一维数组，但是此一维数组的元素又是一维数组\n",
    "- 数组名[索引值]  ：此种方式取出的是一个一维数组\n",
    "- 数组名[索引值][索引值] ：此种方式取出的是二维数组中的一个元素\n",
    "- 数组名[行索引,列索引] ：此种方式可以直接获得二维数组的某个元素"
   ]
  },
  {
   "cell_type": "code",
   "execution_count": 6,
   "id": "806b22a2",
   "metadata": {},
   "outputs": [
    {
     "data": {
      "text/plain": [
       "array([[ 0,  1,  2,  3,  4],\n",
       "       [ 5,  6,  7,  8,  9],\n",
       "       [10, 11, 12, 13, 14],\n",
       "       [15, 16, 17, 18, 19]])"
      ]
     },
     "execution_count": 6,
     "metadata": {},
     "output_type": "execute_result"
    }
   ],
   "source": [
    "data = np.arange(20).reshape(4,5)\n",
    "data"
   ]
  },
  {
   "cell_type": "code",
   "execution_count": 7,
   "id": "8412ce4b",
   "metadata": {},
   "outputs": [
    {
     "data": {
      "text/plain": [
       "array([15, 16, 17, 18, 19])"
      ]
     },
     "execution_count": 7,
     "metadata": {},
     "output_type": "execute_result"
    }
   ],
   "source": [
    "data[3]"
   ]
  },
  {
   "cell_type": "code",
   "execution_count": 8,
   "id": "d74a2d0c",
   "metadata": {},
   "outputs": [
    {
     "data": {
      "text/plain": [
       "array([0, 1, 2, 3, 4])"
      ]
     },
     "execution_count": 8,
     "metadata": {},
     "output_type": "execute_result"
    }
   ],
   "source": [
    "data[0]"
   ]
  },
  {
   "cell_type": "code",
   "execution_count": 9,
   "id": "a24cea46",
   "metadata": {},
   "outputs": [
    {
     "data": {
      "text/plain": [
       "17"
      ]
     },
     "execution_count": 9,
     "metadata": {},
     "output_type": "execute_result"
    }
   ],
   "source": [
    "data[3][2]"
   ]
  },
  {
   "cell_type": "code",
   "execution_count": 10,
   "id": "853e59a7",
   "metadata": {},
   "outputs": [
    {
     "data": {
      "text/plain": [
       "17"
      ]
     },
     "execution_count": 10,
     "metadata": {},
     "output_type": "execute_result"
    }
   ],
   "source": [
    "data[3,2]"
   ]
  },
  {
   "cell_type": "markdown",
   "id": "6254d95c",
   "metadata": {},
   "source": [
    "三维数组\n",
    "- 三维数组可以看作是一个一维数组，不过这个一维数组的元素是二维数组\n",
    "- 取元素方式和二维数组相同，只不过多一个维度"
   ]
  },
  {
   "cell_type": "code",
   "execution_count": 11,
   "id": "fca1c769",
   "metadata": {},
   "outputs": [
    {
     "data": {
      "text/plain": [
       "array([[[ 0,  1,  2,  3,  4],\n",
       "        [ 5,  6,  7,  8,  9]],\n",
       "\n",
       "       [[10, 11, 12, 13, 14],\n",
       "        [15, 16, 17, 18, 19]]])"
      ]
     },
     "execution_count": 11,
     "metadata": {},
     "output_type": "execute_result"
    }
   ],
   "source": [
    "data = np.arange(20).reshape(2,2,5)\n",
    "data"
   ]
  },
  {
   "cell_type": "code",
   "execution_count": 12,
   "id": "2f504461",
   "metadata": {},
   "outputs": [
    {
     "data": {
      "text/plain": [
       "array([[0, 1, 2, 3, 4],\n",
       "       [5, 6, 7, 8, 9]])"
      ]
     },
     "execution_count": 12,
     "metadata": {},
     "output_type": "execute_result"
    }
   ],
   "source": [
    "data[0]"
   ]
  },
  {
   "cell_type": "code",
   "execution_count": 13,
   "id": "97372e6e",
   "metadata": {},
   "outputs": [
    {
     "data": {
      "text/plain": [
       "array([[10, 11, 12, 13, 14],\n",
       "       [15, 16, 17, 18, 19]])"
      ]
     },
     "execution_count": 13,
     "metadata": {},
     "output_type": "execute_result"
    }
   ],
   "source": [
    "data[1]"
   ]
  },
  {
   "cell_type": "code",
   "execution_count": 17,
   "id": "7e2a1a23",
   "metadata": {},
   "outputs": [
    {
     "data": {
      "text/plain": [
       "array([5, 6, 7, 8, 9])"
      ]
     },
     "execution_count": 17,
     "metadata": {},
     "output_type": "execute_result"
    }
   ],
   "source": [
    "data[0][1]"
   ]
  },
  {
   "cell_type": "code",
   "execution_count": 14,
   "id": "8a50a808",
   "metadata": {},
   "outputs": [
    {
     "data": {
      "text/plain": [
       "array([5, 6, 7, 8, 9])"
      ]
     },
     "execution_count": 14,
     "metadata": {},
     "output_type": "execute_result"
    }
   ],
   "source": [
    "data[0,1]"
   ]
  },
  {
   "cell_type": "code",
   "execution_count": 18,
   "id": "1e21e63c",
   "metadata": {},
   "outputs": [
    {
     "data": {
      "text/plain": [
       "array([10, 11, 12, 13, 14])"
      ]
     },
     "execution_count": 18,
     "metadata": {},
     "output_type": "execute_result"
    }
   ],
   "source": [
    "data[1][0]"
   ]
  },
  {
   "cell_type": "code",
   "execution_count": 16,
   "id": "bca669bf",
   "metadata": {},
   "outputs": [
    {
     "data": {
      "text/plain": [
       "array([10, 11, 12, 13, 14])"
      ]
     },
     "execution_count": 16,
     "metadata": {},
     "output_type": "execute_result"
    }
   ],
   "source": [
    "data[1,0]"
   ]
  },
  {
   "cell_type": "code",
   "execution_count": 19,
   "id": "56fca588",
   "metadata": {},
   "outputs": [
    {
     "data": {
      "text/plain": [
       "0"
      ]
     },
     "execution_count": 19,
     "metadata": {},
     "output_type": "execute_result"
    }
   ],
   "source": [
    "data[0][0][0]"
   ]
  },
  {
   "cell_type": "code",
   "execution_count": 20,
   "id": "e1a2d0a7",
   "metadata": {},
   "outputs": [
    {
     "data": {
      "text/plain": [
       "0"
      ]
     },
     "execution_count": 20,
     "metadata": {},
     "output_type": "execute_result"
    }
   ],
   "source": [
    "data[0,0,0]"
   ]
  },
  {
   "cell_type": "code",
   "execution_count": 21,
   "id": "7c1ad420",
   "metadata": {},
   "outputs": [
    {
     "data": {
      "text/plain": [
       "18"
      ]
     },
     "execution_count": 21,
     "metadata": {},
     "output_type": "execute_result"
    }
   ],
   "source": [
    "data[1][1][3]"
   ]
  },
  {
   "cell_type": "code",
   "execution_count": 22,
   "id": "6b765b2c",
   "metadata": {},
   "outputs": [
    {
     "data": {
      "text/plain": [
       "18"
      ]
     },
     "execution_count": 22,
     "metadata": {},
     "output_type": "execute_result"
    }
   ],
   "source": [
    "data[1,1,3]"
   ]
  },
  {
   "cell_type": "markdown",
   "id": "bdd040d4",
   "metadata": {},
   "source": [
    "- 高维数组同理\n",
    "- 一维数组取出的是一个元素\n",
    "- 二维数组取出的是一个一维数组\n",
    "- 三维数组取出的是一个二维数组\n",
    "- n维数组取出的是一个n-1维数组"
   ]
  },
  {
   "cell_type": "markdown",
   "id": "e1133235",
   "metadata": {},
   "source": [
    "### numpy切片\n",
    "- numpy索引是取出一个元素，而切片是为了一次取出多个元素\n",
    "- numpy数组的切片和list列表的切片使用规则基本相同 \n",
    "- 数组名[start:end:step]  左闭右开区间\n",
    "    1. start开始位置，默认为0\n",
    "    2. end结束位置，默认为数组长度-1\n",
    "    3. step步长，默认值为1\n",
    "- 切片整个数组  数组名[::]\n",
    "- 切片整个数组，且倒序  数组名[::-1.]"
   ]
  },
  {
   "cell_type": "markdown",
   "id": "3fa97f8f",
   "metadata": {},
   "source": [
    "#### 一维数组"
   ]
  },
  {
   "cell_type": "code",
   "execution_count": 23,
   "id": "6e2e8734",
   "metadata": {},
   "outputs": [
    {
     "data": {
      "text/plain": [
       "array([ 0,  1,  2,  3,  4,  5,  6,  7,  8,  9, 10, 11, 12, 13, 14])"
      ]
     },
     "execution_count": 23,
     "metadata": {},
     "output_type": "execute_result"
    }
   ],
   "source": [
    "data = np.arange(15)\n",
    "data"
   ]
  },
  {
   "cell_type": "code",
   "execution_count": 24,
   "id": "8944e38d",
   "metadata": {},
   "outputs": [
    {
     "data": {
      "text/plain": [
       "array([1, 2, 3, 4])"
      ]
     },
     "execution_count": 24,
     "metadata": {},
     "output_type": "execute_result"
    }
   ],
   "source": [
    "data[1:5]"
   ]
  },
  {
   "cell_type": "code",
   "execution_count": 25,
   "id": "a7a1f05e",
   "metadata": {},
   "outputs": [
    {
     "data": {
      "text/plain": [
       "array([1, 2, 3, 4])"
      ]
     },
     "execution_count": 25,
     "metadata": {},
     "output_type": "execute_result"
    }
   ],
   "source": [
    "data[1:5:1]"
   ]
  },
  {
   "cell_type": "code",
   "execution_count": 26,
   "id": "79b3fc23",
   "metadata": {},
   "outputs": [
    {
     "data": {
      "text/plain": [
       "array([1, 3, 5, 7, 9])"
      ]
     },
     "execution_count": 26,
     "metadata": {},
     "output_type": "execute_result"
    }
   ],
   "source": [
    "data[1:10:2]"
   ]
  },
  {
   "cell_type": "code",
   "execution_count": 27,
   "id": "b33b4e84",
   "metadata": {},
   "outputs": [
    {
     "data": {
      "text/plain": [
       "array([14, 12, 10,  8,  6])"
      ]
     },
     "execution_count": 27,
     "metadata": {},
     "output_type": "execute_result"
    }
   ],
   "source": [
    "data[-1:-10:-2]"
   ]
  },
  {
   "cell_type": "code",
   "execution_count": 29,
   "id": "de9f9841",
   "metadata": {},
   "outputs": [
    {
     "data": {
      "text/plain": [
       "array([ 0,  1,  2,  3,  4,  5,  6,  7,  8,  9, 10, 11, 12, 13, 14])"
      ]
     },
     "execution_count": 29,
     "metadata": {},
     "output_type": "execute_result"
    }
   ],
   "source": [
    "data[::]"
   ]
  },
  {
   "cell_type": "code",
   "execution_count": 30,
   "id": "46484914",
   "metadata": {},
   "outputs": [
    {
     "data": {
      "text/plain": [
       "array([14, 13, 12, 11, 10,  9,  8,  7,  6,  5,  4,  3,  2,  1,  0])"
      ]
     },
     "execution_count": 30,
     "metadata": {},
     "output_type": "execute_result"
    }
   ],
   "source": [
    "data[::-1]"
   ]
  },
  {
   "cell_type": "markdown",
   "id": "60eb7790",
   "metadata": {},
   "source": [
    "#### 二维数组\n",
    "- 二维数组分为行索引切片和列索引切片\n",
    "- 二维数组名[行切片,列切片]\n",
    "- 行切片或者列切片规则和一维数组切片规则相同\n",
    "- 数组名[:,:] 表示原样切片\n",
    "- 数组名[:,列切片] 表示保留所有行，再对列进行切片\n",
    "- 数组名[行切片,:] 表示保留所有列，再对行进行切片"
   ]
  },
  {
   "cell_type": "code",
   "execution_count": 39,
   "id": "3a4b315a",
   "metadata": {},
   "outputs": [
    {
     "data": {
      "text/plain": [
       "array([[ 0,  1,  2,  3,  4],\n",
       "       [ 5,  6,  7,  8,  9],\n",
       "       [10, 11, 12, 13, 14],\n",
       "       [15, 16, 17, 18, 19]])"
      ]
     },
     "execution_count": 39,
     "metadata": {},
     "output_type": "execute_result"
    }
   ],
   "source": [
    "data = np.arange(20).reshape(4,-1)\n",
    "data"
   ]
  },
  {
   "cell_type": "code",
   "execution_count": 40,
   "id": "5fd4276c",
   "metadata": {},
   "outputs": [
    {
     "data": {
      "text/plain": [
       "array([5, 6, 7, 8, 9])"
      ]
     },
     "execution_count": 40,
     "metadata": {},
     "output_type": "execute_result"
    }
   ],
   "source": [
    "data[1]"
   ]
  },
  {
   "cell_type": "code",
   "execution_count": 33,
   "id": "91fcb1c3",
   "metadata": {},
   "outputs": [
    {
     "data": {
      "text/plain": [
       "array([[1, 2],\n",
       "       [6, 7]])"
      ]
     },
     "execution_count": 33,
     "metadata": {},
     "output_type": "execute_result"
    }
   ],
   "source": [
    "data[0:2,1:3]"
   ]
  },
  {
   "cell_type": "code",
   "execution_count": 34,
   "id": "1f264c2f",
   "metadata": {},
   "outputs": [
    {
     "data": {
      "text/plain": [
       "array([[ 1,  2],\n",
       "       [ 6,  7],\n",
       "       [11, 12],\n",
       "       [16, 17]])"
      ]
     },
     "execution_count": 34,
     "metadata": {},
     "output_type": "execute_result"
    }
   ],
   "source": [
    "data[:,1:3]"
   ]
  },
  {
   "cell_type": "code",
   "execution_count": 35,
   "id": "3e7ac01b",
   "metadata": {},
   "outputs": [
    {
     "data": {
      "text/plain": [
       "array([[0, 1, 2, 3, 4],\n",
       "       [5, 6, 7, 8, 9]])"
      ]
     },
     "execution_count": 35,
     "metadata": {},
     "output_type": "execute_result"
    }
   ],
   "source": [
    "data[0:2,:]"
   ]
  },
  {
   "cell_type": "markdown",
   "id": "e19ec4ac",
   "metadata": {},
   "source": [
    "#### 三维数组切片\n",
    "- 和二维数组切片类似，只是多了一个维度"
   ]
  },
  {
   "cell_type": "code",
   "execution_count": 41,
   "id": "142a7cf3",
   "metadata": {},
   "outputs": [
    {
     "data": {
      "text/plain": [
       "array([[[ 0,  1,  2,  3,  4],\n",
       "        [ 5,  6,  7,  8,  9],\n",
       "        [10, 11, 12, 13, 14],\n",
       "        [15, 16, 17, 18, 19]],\n",
       "\n",
       "       [[20, 21, 22, 23, 24],\n",
       "        [25, 26, 27, 28, 29],\n",
       "        [30, 31, 32, 33, 34],\n",
       "        [35, 36, 37, 38, 39]],\n",
       "\n",
       "       [[40, 41, 42, 43, 44],\n",
       "        [45, 46, 47, 48, 49],\n",
       "        [50, 51, 52, 53, 54],\n",
       "        [55, 56, 57, 58, 59]]])"
      ]
     },
     "execution_count": 41,
     "metadata": {},
     "output_type": "execute_result"
    }
   ],
   "source": [
    "data = np.arange(60).reshape(3,4,-1)\n",
    "data"
   ]
  },
  {
   "cell_type": "code",
   "execution_count": 42,
   "id": "16b470d4",
   "metadata": {},
   "outputs": [
    {
     "data": {
      "text/plain": [
       "array([[20, 21, 22, 23, 24],\n",
       "       [25, 26, 27, 28, 29],\n",
       "       [30, 31, 32, 33, 34],\n",
       "       [35, 36, 37, 38, 39]])"
      ]
     },
     "execution_count": 42,
     "metadata": {},
     "output_type": "execute_result"
    }
   ],
   "source": [
    "data[1]"
   ]
  },
  {
   "cell_type": "code",
   "execution_count": 43,
   "id": "ea6c0f3e",
   "metadata": {},
   "outputs": [
    {
     "data": {
      "text/plain": [
       "array([[[ 7,  8],\n",
       "        [12, 13]],\n",
       "\n",
       "       [[27, 28],\n",
       "        [32, 33]],\n",
       "\n",
       "       [[47, 48],\n",
       "        [52, 53]]])"
      ]
     },
     "execution_count": 43,
     "metadata": {},
     "output_type": "execute_result"
    }
   ],
   "source": [
    "data[:,1:3,2:4]"
   ]
  },
  {
   "cell_type": "code",
   "execution_count": 44,
   "id": "749eef8d",
   "metadata": {},
   "outputs": [
    {
     "data": {
      "text/plain": [
       "array([[[ 7,  8],\n",
       "        [12, 13]],\n",
       "\n",
       "       [[27, 28],\n",
       "        [32, 33]]])"
      ]
     },
     "execution_count": 44,
     "metadata": {},
     "output_type": "execute_result"
    }
   ],
   "source": [
    "data[:2,1:3,2:4]"
   ]
  },
  {
   "cell_type": "markdown",
   "id": "a3b19a88",
   "metadata": {},
   "source": [
    "### 不连续取值\n",
    "- 一般来说，索引是取单个元素\n",
    "- 切片是取多个连续元素\n",
    "- 切片也可以取多个不连续元素\n",
    "- 只要指定要取得元素位置即可"
   ]
  },
  {
   "cell_type": "markdown",
   "id": "75e15142",
   "metadata": {},
   "source": [
    "#### 一维数组\n",
    "- 数组名[索引组成的列表或者数组]"
   ]
  },
  {
   "cell_type": "code",
   "execution_count": 45,
   "id": "6aaf3ac1",
   "metadata": {},
   "outputs": [
    {
     "data": {
      "text/plain": [
       "array([1, 3, 6, 0, 4, 8, 2, 5])"
      ]
     },
     "execution_count": 45,
     "metadata": {},
     "output_type": "execute_result"
    }
   ],
   "source": [
    "data = np.array([1,3,6,0,4,8,2,5])\n",
    "data"
   ]
  },
  {
   "cell_type": "code",
   "execution_count": 46,
   "id": "a69340f9",
   "metadata": {},
   "outputs": [
    {
     "data": {
      "text/plain": [
       "array([1, 4, 3, 6])"
      ]
     },
     "execution_count": 46,
     "metadata": {},
     "output_type": "execute_result"
    }
   ],
   "source": [
    "data[[0,4,1,2]]"
   ]
  },
  {
   "cell_type": "code",
   "execution_count": 47,
   "id": "c94ca025",
   "metadata": {},
   "outputs": [
    {
     "data": {
      "text/plain": [
       "array([1, 4, 3, 6])"
      ]
     },
     "execution_count": 47,
     "metadata": {},
     "output_type": "execute_result"
    }
   ],
   "source": [
    "index = np.array([0,4,1,2])\n",
    "data[index]"
   ]
  },
  {
   "cell_type": "markdown",
   "id": "706b5f44",
   "metadata": {},
   "source": [
    "#### 二维数组\n",
    "- 数组名[行索引组成的列表或者数组, 列索引组成的列表或者数组]"
   ]
  },
  {
   "cell_type": "code",
   "execution_count": 49,
   "id": "5037e3a6",
   "metadata": {},
   "outputs": [
    {
     "data": {
      "text/plain": [
       "array([[ 0,  1,  2,  3,  4],\n",
       "       [ 5,  6,  7,  8,  9],\n",
       "       [10, 11, 12, 13, 14],\n",
       "       [15, 16, 17, 18, 19],\n",
       "       [20, 21, 22, 23, 24],\n",
       "       [25, 26, 27, 28, 29]])"
      ]
     },
     "execution_count": 49,
     "metadata": {},
     "output_type": "execute_result"
    }
   ],
   "source": [
    "data = np.arange(30).reshape(6,5)\n",
    "data"
   ]
  },
  {
   "cell_type": "code",
   "execution_count": 50,
   "id": "2842142d",
   "metadata": {},
   "outputs": [
    {
     "data": {
      "text/plain": [
       "array([ 5, 16, 29])"
      ]
     },
     "execution_count": 50,
     "metadata": {},
     "output_type": "execute_result"
    }
   ],
   "source": [
    "index = [1,3,5]\n",
    "column = [0,1,4]\n",
    "data[index,column]"
   ]
  },
  {
   "cell_type": "code",
   "execution_count": 51,
   "id": "b207e5f5",
   "metadata": {},
   "outputs": [
    {
     "data": {
      "text/plain": [
       "array([[ 0,  1,  4],\n",
       "       [ 5,  6,  9],\n",
       "       [10, 11, 14],\n",
       "       [15, 16, 19],\n",
       "       [20, 21, 24],\n",
       "       [25, 26, 29]])"
      ]
     },
     "execution_count": 51,
     "metadata": {},
     "output_type": "execute_result"
    }
   ],
   "source": [
    "data[:,column]"
   ]
  },
  {
   "cell_type": "code",
   "execution_count": 52,
   "id": "11dc39a7",
   "metadata": {},
   "outputs": [
    {
     "data": {
      "text/plain": [
       "array([[ 5,  6,  7,  8,  9],\n",
       "       [15, 16, 17, 18, 19],\n",
       "       [25, 26, 27, 28, 29]])"
      ]
     },
     "execution_count": 52,
     "metadata": {},
     "output_type": "execute_result"
    }
   ],
   "source": [
    "data[index,:]"
   ]
  },
  {
   "cell_type": "markdown",
   "id": "5fea57f8",
   "metadata": {},
   "source": [
    "#### 三维数组同理"
   ]
  },
  {
   "cell_type": "code",
   "execution_count": 54,
   "id": "78d664fa",
   "metadata": {},
   "outputs": [
    {
     "data": {
      "text/plain": [
       "array([[[ 0,  1,  2,  3,  4],\n",
       "        [ 5,  6,  7,  8,  9],\n",
       "        [10, 11, 12, 13, 14]],\n",
       "\n",
       "       [[15, 16, 17, 18, 19],\n",
       "        [20, 21, 22, 23, 24],\n",
       "        [25, 26, 27, 28, 29]],\n",
       "\n",
       "       [[30, 31, 32, 33, 34],\n",
       "        [35, 36, 37, 38, 39],\n",
       "        [40, 41, 42, 43, 44]],\n",
       "\n",
       "       [[45, 46, 47, 48, 49],\n",
       "        [50, 51, 52, 53, 54],\n",
       "        [55, 56, 57, 58, 59]]])"
      ]
     },
     "execution_count": 54,
     "metadata": {},
     "output_type": "execute_result"
    }
   ],
   "source": [
    "data = np.arange(60).reshape(-1,3,5)\n",
    "data"
   ]
  },
  {
   "cell_type": "code",
   "execution_count": 55,
   "id": "81b49d47",
   "metadata": {},
   "outputs": [
    {
     "data": {
      "text/plain": [
       "array([[ 0,  1,  2,  3,  4],\n",
       "       [ 5,  6,  7,  8,  9],\n",
       "       [10, 11, 12, 13, 14]])"
      ]
     },
     "execution_count": 55,
     "metadata": {},
     "output_type": "execute_result"
    }
   ],
   "source": [
    "data[0]"
   ]
  },
  {
   "cell_type": "code",
   "execution_count": 57,
   "id": "85460efd",
   "metadata": {},
   "outputs": [
    {
     "data": {
      "text/plain": [
       "array([[[ 1,  3],\n",
       "        [ 6,  8],\n",
       "        [11, 13]],\n",
       "\n",
       "       [[16, 18],\n",
       "        [21, 23],\n",
       "        [26, 28]],\n",
       "\n",
       "       [[31, 33],\n",
       "        [36, 38],\n",
       "        [41, 43]],\n",
       "\n",
       "       [[46, 48],\n",
       "        [51, 53],\n",
       "        [56, 58]]])"
      ]
     },
     "execution_count": 57,
     "metadata": {},
     "output_type": "execute_result"
    }
   ],
   "source": [
    "data[:,:,[1,3]]"
   ]
  },
  {
   "cell_type": "code",
   "execution_count": 58,
   "id": "3bf6f22c",
   "metadata": {},
   "outputs": [
    {
     "data": {
      "text/plain": [
       "array([[ 1,  6, 11],\n",
       "       [33, 38, 43]])"
      ]
     },
     "execution_count": 58,
     "metadata": {},
     "output_type": "execute_result"
    }
   ],
   "source": [
    "data[[0,2],:,[1,3]]"
   ]
  },
  {
   "cell_type": "code",
   "execution_count": 60,
   "id": "64b7967d",
   "metadata": {},
   "outputs": [
    {
     "data": {
      "text/plain": [
       "array([ 6, 43])"
      ]
     },
     "execution_count": 60,
     "metadata": {},
     "output_type": "execute_result"
    }
   ],
   "source": [
    "data[[0,2],[1,2],[1,3]]"
   ]
  },
  {
   "cell_type": "markdown",
   "id": "dc0da827",
   "metadata": {},
   "source": [
    "### 补充：布尔索引\n",
    "- numpy数组可以使用布尔索引\n",
    "- 当布尔索引的值为True时，才会取出对应元素\n",
    "- 注意：直接使用布尔索引，需要将布尔索引组成的列表或者数组长度与要进行索引的数组长度相等"
   ]
  },
  {
   "cell_type": "code",
   "execution_count": 61,
   "id": "e72e54a7",
   "metadata": {},
   "outputs": [
    {
     "data": {
      "text/plain": [
       "array([0, 1, 2, 3, 4, 5, 6, 7, 8, 9])"
      ]
     },
     "execution_count": 61,
     "metadata": {},
     "output_type": "execute_result"
    }
   ],
   "source": [
    "data = np.arange(10)\n",
    "data"
   ]
  },
  {
   "cell_type": "code",
   "execution_count": 62,
   "id": "46b9d48b",
   "metadata": {},
   "outputs": [
    {
     "data": {
      "text/plain": [
       "array([3, 4, 5, 9])"
      ]
     },
     "execution_count": 62,
     "metadata": {},
     "output_type": "execute_result"
    }
   ],
   "source": [
    "bool_index = [False,False,False,True,True,True,False,False,False,True]\n",
    "data[bool_index]"
   ]
  },
  {
   "cell_type": "markdown",
   "id": "a18cadfb",
   "metadata": {},
   "source": [
    "- 布尔索引一般用于筛选数据\n",
    "- 数组做逻辑运算会返回一个布尔数组\n",
    "- 例如：筛选出数组中所有大于10的元素"
   ]
  },
  {
   "cell_type": "code",
   "execution_count": 64,
   "id": "b1c9923b",
   "metadata": {},
   "outputs": [
    {
     "data": {
      "text/plain": [
       "array([ 4,  5,  6,  7,  8,  9, 10, 11, 12, 13, 14, 15, 16, 17, 18, 19])"
      ]
     },
     "execution_count": 64,
     "metadata": {},
     "output_type": "execute_result"
    }
   ],
   "source": [
    "data = np.arange(4,20)\n",
    "data"
   ]
  },
  {
   "cell_type": "code",
   "execution_count": 65,
   "id": "41b86bd3",
   "metadata": {},
   "outputs": [
    {
     "data": {
      "text/plain": [
       "array([False, False, False, False, False, False, False,  True,  True,\n",
       "        True,  True,  True,  True,  True,  True,  True])"
      ]
     },
     "execution_count": 65,
     "metadata": {},
     "output_type": "execute_result"
    }
   ],
   "source": [
    "data > 10"
   ]
  },
  {
   "cell_type": "code",
   "execution_count": 66,
   "id": "1c731504",
   "metadata": {},
   "outputs": [
    {
     "data": {
      "text/plain": [
       "array([11, 12, 13, 14, 15, 16, 17, 18, 19])"
      ]
     },
     "execution_count": 66,
     "metadata": {},
     "output_type": "execute_result"
    }
   ],
   "source": [
    "data[data>10]"
   ]
  },
  {
   "cell_type": "code",
   "execution_count": 67,
   "id": "c2f2a031",
   "metadata": {},
   "outputs": [
    {
     "data": {
      "text/plain": [
       "array([[ 1,  3,  5,  7],\n",
       "       [ 2, 10, 11,  6],\n",
       "       [ 4, 10, 21,  0]])"
      ]
     },
     "execution_count": 67,
     "metadata": {},
     "output_type": "execute_result"
    }
   ],
   "source": [
    "data = np.array([[1,3,5,7],[2,10,11,6],[4,10,21,0]])\n",
    "data"
   ]
  },
  {
   "cell_type": "code",
   "execution_count": 68,
   "id": "98418e78",
   "metadata": {},
   "outputs": [
    {
     "data": {
      "text/plain": [
       "array([1, 3, 5, 7, 2, 6, 4, 0])"
      ]
     },
     "execution_count": 68,
     "metadata": {},
     "output_type": "execute_result"
    }
   ],
   "source": [
    "data[data<9]"
   ]
  },
  {
   "cell_type": "code",
   "execution_count": 69,
   "id": "c16ca407",
   "metadata": {},
   "outputs": [
    {
     "data": {
      "text/plain": [
       "array([10, 10])"
      ]
     },
     "execution_count": 69,
     "metadata": {},
     "output_type": "execute_result"
    }
   ],
   "source": [
    "data[data==10]"
   ]
  }
 ],
 "metadata": {
  "kernelspec": {
   "display_name": "Python 3 (ipykernel)",
   "language": "python",
   "name": "python3"
  },
  "language_info": {
   "codemirror_mode": {
    "name": "ipython",
    "version": 3
   },
   "file_extension": ".py",
   "mimetype": "text/x-python",
   "name": "python",
   "nbconvert_exporter": "python",
   "pygments_lexer": "ipython3",
   "version": "3.9.7"
  }
 },
 "nbformat": 4,
 "nbformat_minor": 5
}
