{
 "cells": [
  {
   "cell_type": "markdown",
   "id": "4aa0bbf0",
   "metadata": {},
   "source": [
    "## array数组转换成其它数据类型"
   ]
  },
  {
   "cell_type": "code",
   "execution_count": 1,
   "id": "39d273f2",
   "metadata": {},
   "outputs": [],
   "source": [
    "import numpy as np"
   ]
  },
  {
   "cell_type": "markdown",
   "id": "f43638cf",
   "metadata": {},
   "source": [
    "### 将数组转换成列表\n",
    "- ndarray.tolist()\n",
    "- list(ndarray)"
   ]
  },
  {
   "cell_type": "markdown",
   "id": "0daa7abb",
   "metadata": {},
   "source": [
    "#### 一维数组"
   ]
  },
  {
   "cell_type": "code",
   "execution_count": 2,
   "id": "296b2622",
   "metadata": {},
   "outputs": [
    {
     "data": {
      "text/plain": [
       "array([ 0,  1,  2,  3,  4,  5,  6,  7,  8,  9, 10, 11, 12, 13, 14, 15, 16,\n",
       "       17, 18, 19])"
      ]
     },
     "execution_count": 2,
     "metadata": {},
     "output_type": "execute_result"
    }
   ],
   "source": [
    "data = np.arange(20)\n",
    "data"
   ]
  },
  {
   "cell_type": "code",
   "execution_count": 5,
   "id": "9f75784b",
   "metadata": {},
   "outputs": [
    {
     "data": {
      "text/plain": [
       "numpy.ndarray"
      ]
     },
     "execution_count": 5,
     "metadata": {},
     "output_type": "execute_result"
    }
   ],
   "source": [
    "type(data)"
   ]
  },
  {
   "cell_type": "code",
   "execution_count": 3,
   "id": "55095297",
   "metadata": {},
   "outputs": [
    {
     "data": {
      "text/plain": [
       "[0, 1, 2, 3, 4, 5, 6, 7, 8, 9, 10, 11, 12, 13, 14, 15, 16, 17, 18, 19]"
      ]
     },
     "execution_count": 3,
     "metadata": {},
     "output_type": "execute_result"
    }
   ],
   "source": [
    "list_data = data.tolist()\n",
    "list_data"
   ]
  },
  {
   "cell_type": "code",
   "execution_count": 4,
   "id": "7ceac4ff",
   "metadata": {},
   "outputs": [
    {
     "data": {
      "text/plain": [
       "list"
      ]
     },
     "execution_count": 4,
     "metadata": {},
     "output_type": "execute_result"
    }
   ],
   "source": [
    "type(list_data)"
   ]
  },
  {
   "cell_type": "code",
   "execution_count": 8,
   "id": "80c1fc6e",
   "metadata": {},
   "outputs": [
    {
     "data": {
      "text/plain": [
       "[0, 1, 2, 3, 4, 5, 6, 7, 8, 9, 10, 11, 12, 13, 14, 15, 16, 17, 18, 19]"
      ]
     },
     "execution_count": 8,
     "metadata": {},
     "output_type": "execute_result"
    }
   ],
   "source": [
    "list_data2 = list(data)\n",
    "list_data2"
   ]
  },
  {
   "cell_type": "code",
   "execution_count": 9,
   "id": "e153f93b",
   "metadata": {},
   "outputs": [
    {
     "data": {
      "text/plain": [
       "list"
      ]
     },
     "execution_count": 9,
     "metadata": {},
     "output_type": "execute_result"
    }
   ],
   "source": [
    "type(list_data2)"
   ]
  },
  {
   "cell_type": "markdown",
   "id": "ba7a8ff9",
   "metadata": {},
   "source": [
    "#### 二维数组"
   ]
  },
  {
   "cell_type": "code",
   "execution_count": 10,
   "id": "e11c84de",
   "metadata": {},
   "outputs": [
    {
     "data": {
      "text/plain": [
       "array([[ 0,  1,  2,  3,  4],\n",
       "       [ 5,  6,  7,  8,  9],\n",
       "       [10, 11, 12, 13, 14],\n",
       "       [15, 16, 17, 18, 19]])"
      ]
     },
     "execution_count": 10,
     "metadata": {},
     "output_type": "execute_result"
    }
   ],
   "source": [
    "data = np.arange(20).reshape(4,5)\n",
    "data"
   ]
  },
  {
   "cell_type": "code",
   "execution_count": 11,
   "id": "b334ceea",
   "metadata": {},
   "outputs": [
    {
     "data": {
      "text/plain": [
       "numpy.ndarray"
      ]
     },
     "execution_count": 11,
     "metadata": {},
     "output_type": "execute_result"
    }
   ],
   "source": [
    "type(data)"
   ]
  },
  {
   "cell_type": "code",
   "execution_count": 12,
   "id": "5950cd85",
   "metadata": {},
   "outputs": [
    {
     "data": {
      "text/plain": [
       "[[0, 1, 2, 3, 4], [5, 6, 7, 8, 9], [10, 11, 12, 13, 14], [15, 16, 17, 18, 19]]"
      ]
     },
     "execution_count": 12,
     "metadata": {},
     "output_type": "execute_result"
    }
   ],
   "source": [
    "list_data = data.tolist()\n",
    "list_data"
   ]
  },
  {
   "cell_type": "code",
   "execution_count": 13,
   "id": "da87d973",
   "metadata": {},
   "outputs": [
    {
     "data": {
      "text/plain": [
       "list"
      ]
     },
     "execution_count": 13,
     "metadata": {},
     "output_type": "execute_result"
    }
   ],
   "source": [
    "type(list_data)"
   ]
  },
  {
   "cell_type": "code",
   "execution_count": 14,
   "id": "03be7dd8",
   "metadata": {},
   "outputs": [
    {
     "data": {
      "text/plain": [
       "[array([0, 1, 2, 3, 4]),\n",
       " array([5, 6, 7, 8, 9]),\n",
       " array([10, 11, 12, 13, 14]),\n",
       " array([15, 16, 17, 18, 19])]"
      ]
     },
     "execution_count": 14,
     "metadata": {},
     "output_type": "execute_result"
    }
   ],
   "source": [
    "list_data2 = list(data)\n",
    "list_data2"
   ]
  },
  {
   "cell_type": "code",
   "execution_count": 15,
   "id": "4f0acc4c",
   "metadata": {},
   "outputs": [
    {
     "data": {
      "text/plain": [
       "list"
      ]
     },
     "execution_count": 15,
     "metadata": {},
     "output_type": "execute_result"
    }
   ],
   "source": [
    "type(list_data2)"
   ]
  },
  {
   "cell_type": "markdown",
   "id": "8432b9ef",
   "metadata": {},
   "source": [
    "#### 三维数组"
   ]
  },
  {
   "cell_type": "code",
   "execution_count": 16,
   "id": "e7d5e980",
   "metadata": {},
   "outputs": [
    {
     "data": {
      "text/plain": [
       "array([[[ 0,  1,  2,  3,  4],\n",
       "        [ 5,  6,  7,  8,  9]],\n",
       "\n",
       "       [[10, 11, 12, 13, 14],\n",
       "        [15, 16, 17, 18, 19]]])"
      ]
     },
     "execution_count": 16,
     "metadata": {},
     "output_type": "execute_result"
    }
   ],
   "source": [
    "data = np.arange(20).reshape(2,2,5)\n",
    "data"
   ]
  },
  {
   "cell_type": "code",
   "execution_count": 17,
   "id": "80ab5fd8",
   "metadata": {},
   "outputs": [
    {
     "data": {
      "text/plain": [
       "numpy.ndarray"
      ]
     },
     "execution_count": 17,
     "metadata": {},
     "output_type": "execute_result"
    }
   ],
   "source": [
    "type(data)"
   ]
  },
  {
   "cell_type": "code",
   "execution_count": 18,
   "id": "bfb2fb2b",
   "metadata": {},
   "outputs": [
    {
     "data": {
      "text/plain": [
       "[[[0, 1, 2, 3, 4], [5, 6, 7, 8, 9]],\n",
       " [[10, 11, 12, 13, 14], [15, 16, 17, 18, 19]]]"
      ]
     },
     "execution_count": 18,
     "metadata": {},
     "output_type": "execute_result"
    }
   ],
   "source": [
    "list_data = data.tolist()\n",
    "list_data"
   ]
  },
  {
   "cell_type": "code",
   "execution_count": 19,
   "id": "6202159b",
   "metadata": {},
   "outputs": [
    {
     "data": {
      "text/plain": [
       "list"
      ]
     },
     "execution_count": 19,
     "metadata": {},
     "output_type": "execute_result"
    }
   ],
   "source": [
    "type(list_data)"
   ]
  },
  {
   "cell_type": "code",
   "execution_count": 20,
   "id": "0926fc6a",
   "metadata": {},
   "outputs": [
    {
     "data": {
      "text/plain": [
       "[array([[0, 1, 2, 3, 4],\n",
       "        [5, 6, 7, 8, 9]]),\n",
       " array([[10, 11, 12, 13, 14],\n",
       "        [15, 16, 17, 18, 19]])]"
      ]
     },
     "execution_count": 20,
     "metadata": {},
     "output_type": "execute_result"
    }
   ],
   "source": [
    "list_data2 = list(data)\n",
    "list_data2"
   ]
  },
  {
   "cell_type": "code",
   "execution_count": 21,
   "id": "98462728",
   "metadata": {},
   "outputs": [
    {
     "data": {
      "text/plain": [
       "list"
      ]
     },
     "execution_count": 21,
     "metadata": {},
     "output_type": "execute_result"
    }
   ],
   "source": [
    "type(list_data2)"
   ]
  },
  {
   "cell_type": "markdown",
   "id": "aab57091",
   "metadata": {},
   "source": [
    "#### 注意：\n",
    "1. 使用ndarray.tolist()会将数组完整的转换成列表\n",
    "2. 使用python自带的list()方法，只会将第一层转换成列表\n",
    "    - 也就是当数组是一维数组时，使用ndarray.tolist()和list()效果相同\n",
    "    - 当数组是多维数组时\n",
    "        - ndarray.tolist()能够正常的将数组全部转换成列表，列表里的元素仍然是列表\n",
    "        - 而list()函数只会将数组转换成列表，但是列表里的元素还是数组类型"
   ]
  },
  {
   "cell_type": "markdown",
   "id": "4d9649e5",
   "metadata": {},
   "source": [
    "### 将数组转换成字符串\n",
    "- ndarray.tostring()  已经弃用，建议使用ndarray.tobytes()\n",
    "- str(ndarray)\n",
    "- ndarray.tobytes()"
   ]
  },
  {
   "cell_type": "markdown",
   "id": "3c1868bf",
   "metadata": {},
   "source": [
    "#### 一维数组"
   ]
  },
  {
   "cell_type": "code",
   "execution_count": 28,
   "id": "43dad533",
   "metadata": {},
   "outputs": [
    {
     "data": {
      "text/plain": [
       "array([ 0,  1,  2,  3,  4,  5,  6,  7,  8,  9, 10, 11, 12, 13, 14, 15, 16,\n",
       "       17, 18, 19])"
      ]
     },
     "metadata": {},
     "output_type": "display_data"
    },
    {
     "data": {
      "text/plain": [
       "numpy.ndarray"
      ]
     },
     "metadata": {},
     "output_type": "display_data"
    }
   ],
   "source": [
    "data = np.arange(20)\n",
    "display(data,type(data))"
   ]
  },
  {
   "cell_type": "code",
   "execution_count": 23,
   "id": "48acdc13",
   "metadata": {},
   "outputs": [
    {
     "name": "stderr",
     "output_type": "stream",
     "text": [
      "C:\\Users\\86136\\AppData\\Local\\Temp\\ipykernel_58616\\758029222.py:1: DeprecationWarning: tostring() is deprecated. Use tobytes() instead.\n",
      "  str_data = data.tostring()\n"
     ]
    },
    {
     "data": {
      "text/plain": [
       "b'\\x00\\x00\\x00\\x00\\x01\\x00\\x00\\x00\\x02\\x00\\x00\\x00\\x03\\x00\\x00\\x00\\x04\\x00\\x00\\x00\\x05\\x00\\x00\\x00\\x06\\x00\\x00\\x00\\x07\\x00\\x00\\x00\\x08\\x00\\x00\\x00\\t\\x00\\x00\\x00\\n\\x00\\x00\\x00\\x0b\\x00\\x00\\x00\\x0c\\x00\\x00\\x00\\r\\x00\\x00\\x00\\x0e\\x00\\x00\\x00\\x0f\\x00\\x00\\x00\\x10\\x00\\x00\\x00\\x11\\x00\\x00\\x00\\x12\\x00\\x00\\x00\\x13\\x00\\x00\\x00'"
      ]
     },
     "metadata": {},
     "output_type": "display_data"
    },
    {
     "data": {
      "text/plain": [
       "bytes"
      ]
     },
     "metadata": {},
     "output_type": "display_data"
    }
   ],
   "source": [
    "str_data = data.tostring()\n",
    "display(str_data,type(str_data))"
   ]
  },
  {
   "cell_type": "code",
   "execution_count": 24,
   "id": "1a34d71b",
   "metadata": {},
   "outputs": [
    {
     "data": {
      "text/plain": [
       "b'\\x00\\x00\\x00\\x00\\x01\\x00\\x00\\x00\\x02\\x00\\x00\\x00\\x03\\x00\\x00\\x00\\x04\\x00\\x00\\x00\\x05\\x00\\x00\\x00\\x06\\x00\\x00\\x00\\x07\\x00\\x00\\x00\\x08\\x00\\x00\\x00\\t\\x00\\x00\\x00\\n\\x00\\x00\\x00\\x0b\\x00\\x00\\x00\\x0c\\x00\\x00\\x00\\r\\x00\\x00\\x00\\x0e\\x00\\x00\\x00\\x0f\\x00\\x00\\x00\\x10\\x00\\x00\\x00\\x11\\x00\\x00\\x00\\x12\\x00\\x00\\x00\\x13\\x00\\x00\\x00'"
      ]
     },
     "metadata": {},
     "output_type": "display_data"
    },
    {
     "data": {
      "text/plain": [
       "bytes"
      ]
     },
     "metadata": {},
     "output_type": "display_data"
    }
   ],
   "source": [
    "str_data = data.tobytes()\n",
    "display(str_data,type(str_data))"
   ]
  },
  {
   "cell_type": "code",
   "execution_count": 29,
   "id": "170cd5cb",
   "metadata": {},
   "outputs": [
    {
     "data": {
      "text/plain": [
       "'[ 0  1  2  3  4  5  6  7  8  9 10 11 12 13 14 15 16 17 18 19]'"
      ]
     },
     "metadata": {},
     "output_type": "display_data"
    },
    {
     "data": {
      "text/plain": [
       "str"
      ]
     },
     "metadata": {},
     "output_type": "display_data"
    }
   ],
   "source": [
    "str_data = str(data)\n",
    "display(str_data,type(str_data))"
   ]
  },
  {
   "cell_type": "markdown",
   "id": "91964afc",
   "metadata": {},
   "source": [
    "#### 二维数组"
   ]
  },
  {
   "cell_type": "code",
   "execution_count": 31,
   "id": "e1bade70",
   "metadata": {},
   "outputs": [
    {
     "data": {
      "text/plain": [
       "array([[ 0,  1,  2,  3,  4],\n",
       "       [ 5,  6,  7,  8,  9],\n",
       "       [10, 11, 12, 13, 14],\n",
       "       [15, 16, 17, 18, 19]])"
      ]
     },
     "metadata": {},
     "output_type": "display_data"
    },
    {
     "data": {
      "text/plain": [
       "numpy.ndarray"
      ]
     },
     "metadata": {},
     "output_type": "display_data"
    }
   ],
   "source": [
    "data = np.arange(20).reshape(4,5)\n",
    "display(data, type(data))"
   ]
  },
  {
   "cell_type": "code",
   "execution_count": 32,
   "id": "3cf721f3",
   "metadata": {},
   "outputs": [
    {
     "data": {
      "text/plain": [
       "b'\\x00\\x00\\x00\\x00\\x01\\x00\\x00\\x00\\x02\\x00\\x00\\x00\\x03\\x00\\x00\\x00\\x04\\x00\\x00\\x00\\x05\\x00\\x00\\x00\\x06\\x00\\x00\\x00\\x07\\x00\\x00\\x00\\x08\\x00\\x00\\x00\\t\\x00\\x00\\x00\\n\\x00\\x00\\x00\\x0b\\x00\\x00\\x00\\x0c\\x00\\x00\\x00\\r\\x00\\x00\\x00\\x0e\\x00\\x00\\x00\\x0f\\x00\\x00\\x00\\x10\\x00\\x00\\x00\\x11\\x00\\x00\\x00\\x12\\x00\\x00\\x00\\x13\\x00\\x00\\x00'"
      ]
     },
     "metadata": {},
     "output_type": "display_data"
    },
    {
     "data": {
      "text/plain": [
       "bytes"
      ]
     },
     "metadata": {},
     "output_type": "display_data"
    }
   ],
   "source": [
    "str_data = data.tobytes()\n",
    "display(str_data,type(str_data))"
   ]
  },
  {
   "cell_type": "code",
   "execution_count": 33,
   "id": "a5120e92",
   "metadata": {},
   "outputs": [
    {
     "data": {
      "text/plain": [
       "'[[ 0  1  2  3  4]\\n [ 5  6  7  8  9]\\n [10 11 12 13 14]\\n [15 16 17 18 19]]'"
      ]
     },
     "metadata": {},
     "output_type": "display_data"
    },
    {
     "data": {
      "text/plain": [
       "str"
      ]
     },
     "metadata": {},
     "output_type": "display_data"
    }
   ],
   "source": [
    "str_data = str(data)\n",
    "display(str_data,type(str_data))"
   ]
  },
  {
   "cell_type": "markdown",
   "id": "36413063",
   "metadata": {},
   "source": [
    "#### 三维数组"
   ]
  },
  {
   "cell_type": "code",
   "execution_count": 34,
   "id": "378892b1",
   "metadata": {},
   "outputs": [
    {
     "data": {
      "text/plain": [
       "array([[[ 0,  1,  2,  3,  4],\n",
       "        [ 5,  6,  7,  8,  9]],\n",
       "\n",
       "       [[10, 11, 12, 13, 14],\n",
       "        [15, 16, 17, 18, 19]]])"
      ]
     },
     "metadata": {},
     "output_type": "display_data"
    },
    {
     "data": {
      "text/plain": [
       "numpy.ndarray"
      ]
     },
     "metadata": {},
     "output_type": "display_data"
    }
   ],
   "source": [
    "data = np.arange(20).reshape(2,2,5)\n",
    "display(data, type(data))"
   ]
  },
  {
   "cell_type": "code",
   "execution_count": 35,
   "id": "ba76ce95",
   "metadata": {},
   "outputs": [
    {
     "data": {
      "text/plain": [
       "b'\\x00\\x00\\x00\\x00\\x01\\x00\\x00\\x00\\x02\\x00\\x00\\x00\\x03\\x00\\x00\\x00\\x04\\x00\\x00\\x00\\x05\\x00\\x00\\x00\\x06\\x00\\x00\\x00\\x07\\x00\\x00\\x00\\x08\\x00\\x00\\x00\\t\\x00\\x00\\x00\\n\\x00\\x00\\x00\\x0b\\x00\\x00\\x00\\x0c\\x00\\x00\\x00\\r\\x00\\x00\\x00\\x0e\\x00\\x00\\x00\\x0f\\x00\\x00\\x00\\x10\\x00\\x00\\x00\\x11\\x00\\x00\\x00\\x12\\x00\\x00\\x00\\x13\\x00\\x00\\x00'"
      ]
     },
     "metadata": {},
     "output_type": "display_data"
    },
    {
     "data": {
      "text/plain": [
       "bytes"
      ]
     },
     "metadata": {},
     "output_type": "display_data"
    }
   ],
   "source": [
    "str_data = data.tobytes()\n",
    "display(str_data,type(str_data))"
   ]
  },
  {
   "cell_type": "code",
   "execution_count": 36,
   "id": "10abcc3e",
   "metadata": {},
   "outputs": [
    {
     "data": {
      "text/plain": [
       "'[[[ 0  1  2  3  4]\\n  [ 5  6  7  8  9]]\\n\\n [[10 11 12 13 14]\\n  [15 16 17 18 19]]]'"
      ]
     },
     "metadata": {},
     "output_type": "display_data"
    },
    {
     "data": {
      "text/plain": [
       "str"
      ]
     },
     "metadata": {},
     "output_type": "display_data"
    }
   ],
   "source": [
    "str_data = str(data)\n",
    "display(str_data,type(str_data))"
   ]
  },
  {
   "cell_type": "markdown",
   "id": "56b9d73c",
   "metadata": {},
   "source": [
    "### 将数组写入文件保存\n",
    "- ndarray.tofile(fid, sep=\" \", format='%s')\n",
    "    - fid：文件名\n",
    "    - sep：元素分隔符 当sep=\"\"空时，则向文件写入二进制\n",
    "    - format：格式化默认 %s"
   ]
  },
  {
   "cell_type": "markdown",
   "id": "f2082e6d",
   "metadata": {},
   "source": [
    "#### 一维数组"
   ]
  },
  {
   "cell_type": "code",
   "execution_count": 37,
   "id": "032beda6",
   "metadata": {},
   "outputs": [
    {
     "data": {
      "text/plain": [
       "array([ 0,  1,  2,  3,  4,  5,  6,  7,  8,  9, 10, 11, 12, 13, 14, 15, 16,\n",
       "       17, 18, 19])"
      ]
     },
     "metadata": {},
     "output_type": "display_data"
    },
    {
     "data": {
      "text/plain": [
       "numpy.ndarray"
      ]
     },
     "metadata": {},
     "output_type": "display_data"
    }
   ],
   "source": [
    "data = np.arange(20)\n",
    "display(data,type(data))"
   ]
  },
  {
   "cell_type": "code",
   "execution_count": 39,
   "id": "749106bc",
   "metadata": {},
   "outputs": [],
   "source": [
    "data.tofile(\"1-dim-array.txt\", sep=\" \", format='%s')"
   ]
  },
  {
   "cell_type": "markdown",
   "id": "3285c0d4",
   "metadata": {},
   "source": [
    "#### 二维数组"
   ]
  },
  {
   "cell_type": "code",
   "execution_count": 42,
   "id": "9f537fc8",
   "metadata": {},
   "outputs": [
    {
     "data": {
      "text/plain": [
       "array([[ 0,  1,  2,  3,  4],\n",
       "       [ 5,  6,  7,  8,  9],\n",
       "       [10, 11, 12, 13, 14],\n",
       "       [15, 16, 17, 18, 19]])"
      ]
     },
     "metadata": {},
     "output_type": "display_data"
    },
    {
     "data": {
      "text/plain": [
       "numpy.ndarray"
      ]
     },
     "metadata": {},
     "output_type": "display_data"
    }
   ],
   "source": [
    "data = np.arange(20).reshape(4,5)\n",
    "display(data, type(data))"
   ]
  },
  {
   "cell_type": "code",
   "execution_count": 43,
   "id": "83a181dc",
   "metadata": {},
   "outputs": [],
   "source": [
    "data.tofile(\"2-dim-array.txt\", sep=\" \")"
   ]
  },
  {
   "cell_type": "markdown",
   "id": "07939460",
   "metadata": {},
   "source": [
    "#### 三维数组"
   ]
  },
  {
   "cell_type": "code",
   "execution_count": 44,
   "id": "7187a667",
   "metadata": {},
   "outputs": [
    {
     "data": {
      "text/plain": [
       "array([[[ 0,  1,  2,  3,  4],\n",
       "        [ 5,  6,  7,  8,  9]],\n",
       "\n",
       "       [[10, 11, 12, 13, 14],\n",
       "        [15, 16, 17, 18, 19]]])"
      ]
     },
     "metadata": {},
     "output_type": "display_data"
    },
    {
     "data": {
      "text/plain": [
       "numpy.ndarray"
      ]
     },
     "metadata": {},
     "output_type": "display_data"
    }
   ],
   "source": [
    "data = np.arange(20).reshape(2,2,5)\n",
    "display(data, type(data))"
   ]
  },
  {
   "cell_type": "code",
   "execution_count": 45,
   "id": "070720f6",
   "metadata": {},
   "outputs": [],
   "source": [
    "data.tofile(\"3-dim-array.txt\", sep=\",\", format='%s')"
   ]
  },
  {
   "cell_type": "markdown",
   "id": "a153dcaa",
   "metadata": {},
   "source": [
    "### 无论数组的维度，最后存入文件的都是一个个元素，相当于遍历数组，然后存入文件"
   ]
  },
  {
   "cell_type": "markdown",
   "id": "1b22884c",
   "metadata": {},
   "source": [
    "### numpy也提供了一系列save文件和读取文件的方法，这里以存储txt和读取txt文件为例"
   ]
  },
  {
   "cell_type": "markdown",
   "id": "40800224",
   "metadata": {},
   "source": [
    "- 将数组存储为txt文件\n",
    "    - np.savetxt(filename,ndarray)\n",
    "- 将txt文件读取成数组\n",
    "    - np.laodtxt(filename)"
   ]
  },
  {
   "cell_type": "markdown",
   "id": "afe41863",
   "metadata": {},
   "source": [
    "#### 一维数组"
   ]
  },
  {
   "cell_type": "code",
   "execution_count": 47,
   "id": "14dc567c",
   "metadata": {},
   "outputs": [
    {
     "data": {
      "text/plain": [
       "array([ 0,  1,  2,  3,  4,  5,  6,  7,  8,  9, 10, 11, 12, 13, 14, 15, 16,\n",
       "       17, 18, 19])"
      ]
     },
     "metadata": {},
     "output_type": "display_data"
    },
    {
     "data": {
      "text/plain": [
       "numpy.ndarray"
      ]
     },
     "metadata": {},
     "output_type": "display_data"
    }
   ],
   "source": [
    "data = np.arange(20)\n",
    "display(data,type(data))"
   ]
  },
  {
   "cell_type": "code",
   "execution_count": 50,
   "id": "4eeb6263",
   "metadata": {},
   "outputs": [],
   "source": [
    "np.savetxt(\"np-1-dim-array.txt\", data)"
   ]
  },
  {
   "cell_type": "code",
   "execution_count": 54,
   "id": "1837b656",
   "metadata": {},
   "outputs": [
    {
     "data": {
      "text/plain": [
       "array([ 0.,  1.,  2.,  3.,  4.,  5.,  6.,  7.,  8.,  9., 10., 11., 12.,\n",
       "       13., 14., 15., 16., 17., 18., 19.])"
      ]
     },
     "execution_count": 54,
     "metadata": {},
     "output_type": "execute_result"
    }
   ],
   "source": [
    "np.loadtxt(\"np-1-dim-array.txt\")"
   ]
  },
  {
   "cell_type": "markdown",
   "id": "b9ed0789",
   "metadata": {},
   "source": [
    "#### 二维数组"
   ]
  },
  {
   "cell_type": "code",
   "execution_count": 55,
   "id": "d543c1e8",
   "metadata": {},
   "outputs": [
    {
     "data": {
      "text/plain": [
       "array([[ 0,  1,  2,  3,  4],\n",
       "       [ 5,  6,  7,  8,  9],\n",
       "       [10, 11, 12, 13, 14],\n",
       "       [15, 16, 17, 18, 19]])"
      ]
     },
     "metadata": {},
     "output_type": "display_data"
    },
    {
     "data": {
      "text/plain": [
       "numpy.ndarray"
      ]
     },
     "metadata": {},
     "output_type": "display_data"
    }
   ],
   "source": [
    "data = np.arange(20).reshape(4,5)\n",
    "display(data, type(data))"
   ]
  },
  {
   "cell_type": "code",
   "execution_count": 56,
   "id": "c9f33975",
   "metadata": {},
   "outputs": [],
   "source": [
    "np.savetxt(\"np-2-dim-array.txt\", data)"
   ]
  },
  {
   "cell_type": "code",
   "execution_count": 57,
   "id": "aeff9785",
   "metadata": {},
   "outputs": [
    {
     "data": {
      "text/plain": [
       "array([[ 0.,  1.,  2.,  3.,  4.],\n",
       "       [ 5.,  6.,  7.,  8.,  9.],\n",
       "       [10., 11., 12., 13., 14.],\n",
       "       [15., 16., 17., 18., 19.]])"
      ]
     },
     "execution_count": 57,
     "metadata": {},
     "output_type": "execute_result"
    }
   ],
   "source": [
    "np.loadtxt(\"np-2-dim-array.txt\")"
   ]
  },
  {
   "cell_type": "markdown",
   "id": "03061595",
   "metadata": {},
   "source": [
    "#### 三维数组"
   ]
  },
  {
   "cell_type": "code",
   "execution_count": 58,
   "id": "caba3a5d",
   "metadata": {},
   "outputs": [
    {
     "data": {
      "text/plain": [
       "array([[[ 0,  1,  2,  3,  4],\n",
       "        [ 5,  6,  7,  8,  9]],\n",
       "\n",
       "       [[10, 11, 12, 13, 14],\n",
       "        [15, 16, 17, 18, 19]]])"
      ]
     },
     "metadata": {},
     "output_type": "display_data"
    },
    {
     "data": {
      "text/plain": [
       "numpy.ndarray"
      ]
     },
     "metadata": {},
     "output_type": "display_data"
    }
   ],
   "source": [
    "data = np.arange(20).reshape(2,2,5)\n",
    "display(data, type(data))"
   ]
  },
  {
   "cell_type": "code",
   "execution_count": 59,
   "id": "864438b8",
   "metadata": {},
   "outputs": [
    {
     "ename": "ValueError",
     "evalue": "Expected 1D or 2D array, got 3D array instead",
     "output_type": "error",
     "traceback": [
      "\u001b[1;31m---------------------------------------------------------------------------\u001b[0m",
      "\u001b[1;31mValueError\u001b[0m                                Traceback (most recent call last)",
      "Cell \u001b[1;32mIn[59], line 1\u001b[0m\n\u001b[1;32m----> 1\u001b[0m \u001b[43mnp\u001b[49m\u001b[38;5;241;43m.\u001b[39;49m\u001b[43msavetxt\u001b[49m\u001b[43m(\u001b[49m\u001b[38;5;124;43m\"\u001b[39;49m\u001b[38;5;124;43mnp-3-dim-array.txt\u001b[39;49m\u001b[38;5;124;43m\"\u001b[39;49m\u001b[43m,\u001b[49m\u001b[43m \u001b[49m\u001b[43mdata\u001b[49m\u001b[43m)\u001b[49m\n",
      "File \u001b[1;32m<__array_function__ internals>:200\u001b[0m, in \u001b[0;36msavetxt\u001b[1;34m(*args, **kwargs)\u001b[0m\n",
      "File \u001b[1;32mD:\\Users\\86136\\anaconda3\\lib\\site-packages\\numpy\\lib\\npyio.py:1555\u001b[0m, in \u001b[0;36msavetxt\u001b[1;34m(fname, X, fmt, delimiter, newline, header, footer, comments, encoding)\u001b[0m\n\u001b[0;32m   1553\u001b[0m \u001b[38;5;66;03m# Handle 1-dimensional arrays\u001b[39;00m\n\u001b[0;32m   1554\u001b[0m \u001b[38;5;28;01mif\u001b[39;00m X\u001b[38;5;241m.\u001b[39mndim \u001b[38;5;241m==\u001b[39m \u001b[38;5;241m0\u001b[39m \u001b[38;5;129;01mor\u001b[39;00m X\u001b[38;5;241m.\u001b[39mndim \u001b[38;5;241m>\u001b[39m \u001b[38;5;241m2\u001b[39m:\n\u001b[1;32m-> 1555\u001b[0m     \u001b[38;5;28;01mraise\u001b[39;00m \u001b[38;5;167;01mValueError\u001b[39;00m(\n\u001b[0;32m   1556\u001b[0m         \u001b[38;5;124m\"\u001b[39m\u001b[38;5;124mExpected 1D or 2D array, got \u001b[39m\u001b[38;5;132;01m%d\u001b[39;00m\u001b[38;5;124mD array instead\u001b[39m\u001b[38;5;124m\"\u001b[39m \u001b[38;5;241m%\u001b[39m X\u001b[38;5;241m.\u001b[39mndim)\n\u001b[0;32m   1557\u001b[0m \u001b[38;5;28;01melif\u001b[39;00m X\u001b[38;5;241m.\u001b[39mndim \u001b[38;5;241m==\u001b[39m \u001b[38;5;241m1\u001b[39m:\n\u001b[0;32m   1558\u001b[0m     \u001b[38;5;66;03m# Common case -- 1d array of numbers\u001b[39;00m\n\u001b[0;32m   1559\u001b[0m     \u001b[38;5;28;01mif\u001b[39;00m X\u001b[38;5;241m.\u001b[39mdtype\u001b[38;5;241m.\u001b[39mnames \u001b[38;5;129;01mis\u001b[39;00m \u001b[38;5;28;01mNone\u001b[39;00m:\n",
      "\u001b[1;31mValueError\u001b[0m: Expected 1D or 2D array, got 3D array instead"
     ]
    }
   ],
   "source": [
    "np.savetxt(\"np-3-dim-array.txt\", data)"
   ]
  },
  {
   "cell_type": "markdown",
   "id": "f643519b",
   "metadata": {},
   "source": [
    "- np.savetxt(filename,ndarray) 会将数组按照数组原样存储到txt文件里，并且是以科学计数法的形式存储，另外此函数只支持一维数组和二维数组\n",
    "- np.loadtxt(filename) 会将txt文本读取成数组，默认读取成np.float64类型\n",
    "- 另外使用numpy读取和存储文件，实际使用时很少，会使用之后学习的pandas进行存储和读取"
   ]
  },
  {
   "cell_type": "markdown",
   "id": "839983f3",
   "metadata": {},
   "source": [
    "### 将数组里的元素类型进行转换\n",
    "- 使用ndarray.astype()"
   ]
  },
  {
   "cell_type": "code",
   "execution_count": 60,
   "id": "1d6ca16d",
   "metadata": {},
   "outputs": [
    {
     "data": {
      "text/plain": [
       "array([1, 2, 3, 4, 5], dtype=int8)"
      ]
     },
     "metadata": {},
     "output_type": "display_data"
    },
    {
     "data": {
      "text/plain": [
       "dtype('int8')"
      ]
     },
     "metadata": {},
     "output_type": "display_data"
    }
   ],
   "source": [
    "data = np.array([1,2,3,4,5], dtype=np.int8)\n",
    "display(data,data.dtype)"
   ]
  },
  {
   "cell_type": "code",
   "execution_count": 62,
   "id": "8fc448ab",
   "metadata": {},
   "outputs": [
    {
     "data": {
      "text/plain": [
       "dtype('int16')"
      ]
     },
     "execution_count": 62,
     "metadata": {},
     "output_type": "execute_result"
    }
   ],
   "source": [
    "new_data = data.astype(np.int16)\n",
    "new_data.dtype"
   ]
  },
  {
   "cell_type": "code",
   "execution_count": 63,
   "id": "47b7a8e0",
   "metadata": {},
   "outputs": [
    {
     "data": {
      "text/plain": [
       "dtype('int64')"
      ]
     },
     "execution_count": 63,
     "metadata": {},
     "output_type": "execute_result"
    }
   ],
   "source": [
    "new_data = data.astype(np.int64)\n",
    "new_data.dtype"
   ]
  },
  {
   "cell_type": "code",
   "execution_count": 64,
   "id": "bb5de691",
   "metadata": {},
   "outputs": [
    {
     "data": {
      "text/plain": [
       "dtype('float32')"
      ]
     },
     "execution_count": 64,
     "metadata": {},
     "output_type": "execute_result"
    }
   ],
   "source": [
    "new_data = data.astype(np.float32)\n",
    "new_data.dtype"
   ]
  },
  {
   "cell_type": "markdown",
   "id": "d94850e6",
   "metadata": {},
   "source": [
    "> ndarray.astype()会生成新的数组，而不是修改原本数组的数据类型"
   ]
  },
  {
   "cell_type": "markdown",
   "id": "83f465b9",
   "metadata": {},
   "source": [
    "## 注意：\n",
    "- 在之前或者之后的讲解中，有的函数会生成新的数组，修改新的数组不会影响原先数组\n",
    "- 而有的函数只会生成原数组的视图，如果修改这个视图，那么原本的数组也会被修改\n",
    "- 在实际运用是时，只需要特地修改一下查看原本数组是否会改变就可，不用专门记忆哪些函数会生成新的数组，哪些函数是生成视图"
   ]
  }
 ],
 "metadata": {
  "kernelspec": {
   "display_name": "Python 3 (ipykernel)",
   "language": "python",
   "name": "python3"
  },
  "language_info": {
   "codemirror_mode": {
    "name": "ipython",
    "version": 3
   },
   "file_extension": ".py",
   "mimetype": "text/x-python",
   "name": "python",
   "nbconvert_exporter": "python",
   "pygments_lexer": "ipython3",
   "version": "3.9.7"
  }
 },
 "nbformat": 4,
 "nbformat_minor": 5
}
