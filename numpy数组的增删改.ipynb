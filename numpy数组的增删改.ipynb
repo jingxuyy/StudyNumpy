{
 "cells": [
  {
   "cell_type": "markdown",
   "id": "2d7f3d70",
   "metadata": {},
   "source": [
    "## numpy数组的增删改"
   ]
  },
  {
   "cell_type": "code",
   "execution_count": 2,
   "id": "36993d53",
   "metadata": {},
   "outputs": [],
   "source": [
    "import numpy as np"
   ]
  },
  {
   "cell_type": "markdown",
   "id": "85339669",
   "metadata": {},
   "source": [
    "- numpy.append() 在数组末尾添加数据\n",
    "- numpy.insert() 在数组指定位置添加数据"
   ]
  },
  {
   "cell_type": "markdown",
   "id": "75ee77fc",
   "metadata": {},
   "source": [
    "#### 一位数组\n",
    "- numpy.append() 生成新的数组副本\n",
    "- 可以添加：\n",
    "    - 单个元素\n",
    "    - 列表\n",
    "    - 元组\n",
    "    - 数组\n",
    "- append()会将序列拆开一个个添加到数组末尾"
   ]
  },
  {
   "cell_type": "code",
   "execution_count": 3,
   "id": "282df11c",
   "metadata": {},
   "outputs": [
    {
     "data": {
      "text/plain": [
       "array([1, 2, 3, 4, 5])"
      ]
     },
     "execution_count": 3,
     "metadata": {},
     "output_type": "execute_result"
    }
   ],
   "source": [
    "data = np.array([1,2,3,4,5])\n",
    "data"
   ]
  },
  {
   "cell_type": "code",
   "execution_count": 4,
   "id": "7bafc57e",
   "metadata": {},
   "outputs": [
    {
     "data": {
      "text/plain": [
       "array([ 1,  2,  3,  4,  5, 10])"
      ]
     },
     "execution_count": 4,
     "metadata": {},
     "output_type": "execute_result"
    }
   ],
   "source": [
    "np.append(data, 10)"
   ]
  },
  {
   "cell_type": "code",
   "execution_count": 5,
   "id": "64f3fb62",
   "metadata": {},
   "outputs": [
    {
     "data": {
      "text/plain": [
       "array([  1,   2,   3,   4,   5, 100, 200])"
      ]
     },
     "execution_count": 5,
     "metadata": {},
     "output_type": "execute_result"
    }
   ],
   "source": [
    "np.append(data, [100, 200])"
   ]
  },
  {
   "cell_type": "code",
   "execution_count": 7,
   "id": "8433440a",
   "metadata": {},
   "outputs": [
    {
     "data": {
      "text/plain": [
       "array([  1,   2,   3,   4,   5, 100, 200])"
      ]
     },
     "execution_count": 7,
     "metadata": {},
     "output_type": "execute_result"
    }
   ],
   "source": [
    "np.append(data, (100, 200))"
   ]
  },
  {
   "cell_type": "code",
   "execution_count": 8,
   "id": "38deb5db",
   "metadata": {},
   "outputs": [
    {
     "data": {
      "text/plain": [
       "array([1, 2, 3, 4, 5, 0, 1, 2, 3, 4])"
      ]
     },
     "execution_count": 8,
     "metadata": {},
     "output_type": "execute_result"
    }
   ],
   "source": [
    "np.append(data, np.arange(5))"
   ]
  },
  {
   "cell_type": "markdown",
   "id": "88d44811",
   "metadata": {},
   "source": [
    "- numpy.insert() 生成新的数组副本\n",
    "- insert(arr, obj, values)\n",
    "    - arr 原始数组\n",
    "    - 需要添加的下标\n",
    "    - 添加的值\n",
    "- 可以添加：\n",
    "    - 单个元素\n",
    "    - 列表\n",
    "    - 元组\n",
    "    - 数组\n",
    "- insert()会将序列拆开一个个添加到数组末尾"
   ]
  },
  {
   "cell_type": "code",
   "execution_count": 9,
   "id": "7e26ee97",
   "metadata": {},
   "outputs": [
    {
     "data": {
      "text/plain": [
       "array([1, 2, 3, 4, 5])"
      ]
     },
     "execution_count": 9,
     "metadata": {},
     "output_type": "execute_result"
    }
   ],
   "source": [
    "data = np.array([1,2,3,4,5])\n",
    "data"
   ]
  },
  {
   "cell_type": "code",
   "execution_count": 11,
   "id": "b7a4b697",
   "metadata": {},
   "outputs": [
    {
     "data": {
      "text/plain": [
       "array([100,   1,   2,   3,   4,   5])"
      ]
     },
     "execution_count": 11,
     "metadata": {},
     "output_type": "execute_result"
    }
   ],
   "source": [
    "np.insert(data, 0, 100)"
   ]
  },
  {
   "cell_type": "code",
   "execution_count": 12,
   "id": "215e0cbc",
   "metadata": {},
   "outputs": [
    {
     "data": {
      "text/plain": [
       "array([  1, 100, 200,   2,   3,   4,   5])"
      ]
     },
     "execution_count": 12,
     "metadata": {},
     "output_type": "execute_result"
    }
   ],
   "source": [
    "np.insert(data, 1, [100, 200])"
   ]
  },
  {
   "cell_type": "code",
   "execution_count": 13,
   "id": "ea873cf0",
   "metadata": {},
   "outputs": [
    {
     "data": {
      "text/plain": [
       "array([  1,   2, 100, 200,   3,   4,   5])"
      ]
     },
     "execution_count": 13,
     "metadata": {},
     "output_type": "execute_result"
    }
   ],
   "source": [
    "np.insert(data, 2, (100, 200))"
   ]
  },
  {
   "cell_type": "code",
   "execution_count": 14,
   "id": "dab52631",
   "metadata": {},
   "outputs": [
    {
     "data": {
      "text/plain": [
       "array([1, 2, 3, 0, 1, 2, 3, 4, 4, 5])"
      ]
     },
     "execution_count": 14,
     "metadata": {},
     "output_type": "execute_result"
    }
   ],
   "source": [
    "np.insert(data, 3, np.arange(5))"
   ]
  },
  {
   "cell_type": "markdown",
   "id": "eac43715",
   "metadata": {},
   "source": [
    "#### 二维数组\n",
    "> 二维数组添加和一维数组不同，因为二维数组有两个轴，可以指定轴添加元素"
   ]
  },
  {
   "cell_type": "markdown",
   "id": "1c449442",
   "metadata": {},
   "source": [
    "- numpy.append() "
   ]
  },
  {
   "cell_type": "code",
   "execution_count": 16,
   "id": "683a6ca2",
   "metadata": {},
   "outputs": [
    {
     "data": {
      "text/plain": [
       "array([[ 0,  1,  2,  3,  4],\n",
       "       [ 5,  6,  7,  8,  9],\n",
       "       [10, 11, 12, 13, 14],\n",
       "       [15, 16, 17, 18, 19]])"
      ]
     },
     "execution_count": 16,
     "metadata": {},
     "output_type": "execute_result"
    }
   ],
   "source": [
    "data = np.arange(20).reshape(4,5)\n",
    "data"
   ]
  },
  {
   "cell_type": "markdown",
   "id": "ebfd8749",
   "metadata": {},
   "source": [
    "- 不指定轴情况\n",
    "> 不指定轴的情况，append会先把数组展开为一维数组，然后按照一维数组添加元素的方法添加"
   ]
  },
  {
   "cell_type": "code",
   "execution_count": 17,
   "id": "c279aff5",
   "metadata": {},
   "outputs": [
    {
     "data": {
      "text/plain": [
       "array([  0,   1,   2,   3,   4,   5,   6,   7,   8,   9,  10,  11,  12,\n",
       "        13,  14,  15,  16,  17,  18,  19, 100])"
      ]
     },
     "execution_count": 17,
     "metadata": {},
     "output_type": "execute_result"
    }
   ],
   "source": [
    "np.append(data, 100)"
   ]
  },
  {
   "cell_type": "code",
   "execution_count": 18,
   "id": "a69dee4b",
   "metadata": {},
   "outputs": [
    {
     "data": {
      "text/plain": [
       "array([  0,   1,   2,   3,   4,   5,   6,   7,   8,   9,  10,  11,  12,\n",
       "        13,  14,  15,  16,  17,  18,  19, 100, 200])"
      ]
     },
     "execution_count": 18,
     "metadata": {},
     "output_type": "execute_result"
    }
   ],
   "source": [
    "np.append(data, [100, 200])"
   ]
  },
  {
   "cell_type": "markdown",
   "id": "df756be3",
   "metadata": {},
   "source": [
    "- 指定0轴，也就是行\n",
    "- 在append()方法里传入形参 axis=0\n",
    "- 注意：二维数组，0轴代表行，所以使用append添加元素，是添加行\n",
    "- 要添加和原始行相同长度的：\n",
    "    - 二维列表\n",
    "    - 二维数组"
   ]
  },
  {
   "cell_type": "code",
   "execution_count": 74,
   "id": "3894c455",
   "metadata": {},
   "outputs": [
    {
     "data": {
      "text/plain": [
       "array([[ 0,  1,  2,  3,  4],\n",
       "       [ 5,  6,  7,  8,  9],\n",
       "       [10, 11, 12, 13, 14],\n",
       "       [15, 16, 17, 18, 19]])"
      ]
     },
     "execution_count": 74,
     "metadata": {},
     "output_type": "execute_result"
    }
   ],
   "source": [
    "data"
   ]
  },
  {
   "cell_type": "code",
   "execution_count": 22,
   "id": "4609e900",
   "metadata": {},
   "outputs": [
    {
     "data": {
      "text/plain": [
       "array([[  0,   1,   2,   3,   4],\n",
       "       [  5,   6,   7,   8,   9],\n",
       "       [ 10,  11,  12,  13,  14],\n",
       "       [ 15,  16,  17,  18,  19],\n",
       "       [100, 200, 300, 400, 500]])"
      ]
     },
     "execution_count": 22,
     "metadata": {},
     "output_type": "execute_result"
    }
   ],
   "source": [
    "np.append(data, [[num for num in range(100,600,100)]], axis=0)"
   ]
  },
  {
   "cell_type": "code",
   "execution_count": 26,
   "id": "06ff791a",
   "metadata": {},
   "outputs": [
    {
     "data": {
      "text/plain": [
       "array([[0, 1, 2, 3, 4]])"
      ]
     },
     "execution_count": 26,
     "metadata": {},
     "output_type": "execute_result"
    }
   ],
   "source": [
    "index = np.arange(5).reshape(1,-1)\n",
    "index"
   ]
  },
  {
   "cell_type": "code",
   "execution_count": 27,
   "id": "f6236aee",
   "metadata": {},
   "outputs": [
    {
     "data": {
      "text/plain": [
       "array([[ 0,  1,  2,  3,  4],\n",
       "       [ 5,  6,  7,  8,  9],\n",
       "       [10, 11, 12, 13, 14],\n",
       "       [15, 16, 17, 18, 19],\n",
       "       [ 0,  1,  2,  3,  4]])"
      ]
     },
     "execution_count": 27,
     "metadata": {},
     "output_type": "execute_result"
    }
   ],
   "source": [
    "np.append(data, index, axis=0)"
   ]
  },
  {
   "cell_type": "markdown",
   "id": "4c082b0f",
   "metadata": {},
   "source": [
    "- 当然也可以一次增加多行，只要保证和原数组维度相同，且行的元素长度相同"
   ]
  },
  {
   "cell_type": "code",
   "execution_count": 30,
   "id": "6509e11c",
   "metadata": {},
   "outputs": [
    {
     "data": {
      "text/plain": [
       "array([[0, 1, 2, 3, 4],\n",
       "       [5, 6, 7, 8, 9]])"
      ]
     },
     "execution_count": 30,
     "metadata": {},
     "output_type": "execute_result"
    }
   ],
   "source": [
    "new_data = np.arange(10).reshape(-1,5)\n",
    "new_data"
   ]
  },
  {
   "cell_type": "code",
   "execution_count": 31,
   "id": "1a4cea58",
   "metadata": {},
   "outputs": [
    {
     "data": {
      "text/plain": [
       "array([[ 0,  1,  2,  3,  4],\n",
       "       [ 5,  6,  7,  8,  9],\n",
       "       [10, 11, 12, 13, 14],\n",
       "       [15, 16, 17, 18, 19],\n",
       "       [ 0,  1,  2,  3,  4],\n",
       "       [ 5,  6,  7,  8,  9]])"
      ]
     },
     "execution_count": 31,
     "metadata": {},
     "output_type": "execute_result"
    }
   ],
   "source": [
    "np.append(data, new_data, axis=0)"
   ]
  },
  {
   "cell_type": "markdown",
   "id": "d531f077",
   "metadata": {},
   "source": [
    "- 指定1轴，也就是列\n",
    "- 在append()方法里传入形参 axis=1\n",
    "- 注意：二维数组，1轴代表列，所以使用append添加元素，是添加列\n",
    "- 要添加和原始列相同长度的：\n",
    "    - 二维列表\n",
    "    - 二维数组"
   ]
  },
  {
   "cell_type": "code",
   "execution_count": 32,
   "id": "792ca987",
   "metadata": {},
   "outputs": [
    {
     "data": {
      "text/plain": [
       "array([[ 0,  1,  2,  3,  4],\n",
       "       [ 5,  6,  7,  8,  9],\n",
       "       [10, 11, 12, 13, 14],\n",
       "       [15, 16, 17, 18, 19]])"
      ]
     },
     "execution_count": 32,
     "metadata": {},
     "output_type": "execute_result"
    }
   ],
   "source": [
    "data = np.arange(20).reshape(4,5)\n",
    "data"
   ]
  },
  {
   "cell_type": "code",
   "execution_count": 35,
   "id": "af61e903",
   "metadata": {},
   "outputs": [
    {
     "data": {
      "text/plain": [
       "array([[  0,   1,   2,   3,   4, 100],\n",
       "       [  5,   6,   7,   8,   9, 200],\n",
       "       [ 10,  11,  12,  13,  14, 300],\n",
       "       [ 15,  16,  17,  18,  19, 400]])"
      ]
     },
     "execution_count": 35,
     "metadata": {},
     "output_type": "execute_result"
    }
   ],
   "source": [
    "np.append(data, [[num] for num in range(100,500,100)], axis=1)"
   ]
  },
  {
   "cell_type": "code",
   "execution_count": 36,
   "id": "7d6e6747",
   "metadata": {},
   "outputs": [
    {
     "data": {
      "text/plain": [
       "[[10], [20], [30], [40]]"
      ]
     },
     "execution_count": 36,
     "metadata": {},
     "output_type": "execute_result"
    }
   ],
   "source": [
    "column_list = [[10], [20], [30], [40]]\n",
    "column_list"
   ]
  },
  {
   "cell_type": "code",
   "execution_count": 37,
   "id": "24c2e983",
   "metadata": {},
   "outputs": [
    {
     "data": {
      "text/plain": [
       "array([[ 0,  1,  2,  3,  4, 10],\n",
       "       [ 5,  6,  7,  8,  9, 20],\n",
       "       [10, 11, 12, 13, 14, 30],\n",
       "       [15, 16, 17, 18, 19, 40]])"
      ]
     },
     "execution_count": 37,
     "metadata": {},
     "output_type": "execute_result"
    }
   ],
   "source": [
    "np.append(data, column_list, axis=1)"
   ]
  },
  {
   "cell_type": "code",
   "execution_count": 40,
   "id": "36200ed3",
   "metadata": {},
   "outputs": [
    {
     "data": {
      "text/plain": [
       "array([[0],\n",
       "       [1],\n",
       "       [2],\n",
       "       [3]])"
      ]
     },
     "execution_count": 40,
     "metadata": {},
     "output_type": "execute_result"
    }
   ],
   "source": [
    "column = np.arange(4).reshape(-1,1)\n",
    "column"
   ]
  },
  {
   "cell_type": "code",
   "execution_count": 41,
   "id": "a6d2ff49",
   "metadata": {},
   "outputs": [
    {
     "data": {
      "text/plain": [
       "array([[ 0,  1,  2,  3,  4,  0],\n",
       "       [ 5,  6,  7,  8,  9,  1],\n",
       "       [10, 11, 12, 13, 14,  2],\n",
       "       [15, 16, 17, 18, 19,  3]])"
      ]
     },
     "execution_count": 41,
     "metadata": {},
     "output_type": "execute_result"
    }
   ],
   "source": [
    "np.append(data, column, axis=1)"
   ]
  },
  {
   "cell_type": "markdown",
   "id": "0ce553f9",
   "metadata": {},
   "source": [
    "- 增加多列"
   ]
  },
  {
   "cell_type": "code",
   "execution_count": 44,
   "id": "f73e7c6c",
   "metadata": {},
   "outputs": [
    {
     "data": {
      "text/plain": [
       "array([[ 0,  1,  2,  3,  4],\n",
       "       [ 5,  6,  7,  8,  9],\n",
       "       [10, 11, 12, 13, 14],\n",
       "       [15, 16, 17, 18, 19]])"
      ]
     },
     "execution_count": 44,
     "metadata": {},
     "output_type": "execute_result"
    }
   ],
   "source": [
    "multi_column = np.arange(20).reshape(-1,5)\n",
    "multi_column"
   ]
  },
  {
   "cell_type": "code",
   "execution_count": 45,
   "id": "003ae78d",
   "metadata": {},
   "outputs": [
    {
     "data": {
      "text/plain": [
       "array([[ 0,  1,  2,  3,  4,  0,  1,  2,  3,  4],\n",
       "       [ 5,  6,  7,  8,  9,  5,  6,  7,  8,  9],\n",
       "       [10, 11, 12, 13, 14, 10, 11, 12, 13, 14],\n",
       "       [15, 16, 17, 18, 19, 15, 16, 17, 18, 19]])"
      ]
     },
     "execution_count": 45,
     "metadata": {},
     "output_type": "execute_result"
    }
   ],
   "source": [
    "np.append(data, multi_column, axis=1)"
   ]
  },
  {
   "cell_type": "markdown",
   "id": "7d2de281",
   "metadata": {},
   "source": [
    "- numpy.insert()\n",
    "- numpy.insert()和append()方法使用规则同理，只不过numpy.insert()可以指定任意位置添加数据"
   ]
  },
  {
   "cell_type": "code",
   "execution_count": 98,
   "id": "254343d1",
   "metadata": {},
   "outputs": [
    {
     "data": {
      "text/plain": [
       "array([[ 0,  1,  2,  3,  4],\n",
       "       [ 5,  6,  7,  8,  9],\n",
       "       [10, 11, 12, 13, 14],\n",
       "       [15, 16, 17, 18, 19]])"
      ]
     },
     "execution_count": 98,
     "metadata": {},
     "output_type": "execute_result"
    }
   ],
   "source": [
    "data = np.arange(20).reshape(4,5)\n",
    "data"
   ]
  },
  {
   "cell_type": "markdown",
   "id": "3aa06067",
   "metadata": {},
   "source": [
    "- 不指定轴情况，默认展开为一维数组添加"
   ]
  },
  {
   "cell_type": "code",
   "execution_count": 47,
   "id": "f1d93b32",
   "metadata": {},
   "outputs": [
    {
     "data": {
      "text/plain": [
       "array([100,   0,   1,   2,   3,   4,   5,   6,   7,   8,   9,  10,  11,\n",
       "        12,  13,  14,  15,  16,  17,  18,  19])"
      ]
     },
     "execution_count": 47,
     "metadata": {},
     "output_type": "execute_result"
    }
   ],
   "source": [
    "np.insert(data, 0, 100)"
   ]
  },
  {
   "cell_type": "code",
   "execution_count": 48,
   "id": "92a12b10",
   "metadata": {},
   "outputs": [
    {
     "data": {
      "text/plain": [
       "array([  0, 100, 200,   1,   2,   3,   4,   5,   6,   7,   8,   9,  10,\n",
       "        11,  12,  13,  14,  15,  16,  17,  18,  19])"
      ]
     },
     "execution_count": 48,
     "metadata": {},
     "output_type": "execute_result"
    }
   ],
   "source": [
    "np.insert(data, 1, [100, 200])"
   ]
  },
  {
   "cell_type": "markdown",
   "id": "52c212bb",
   "metadata": {},
   "source": [
    "- 指定0轴，也就是行\n",
    "- 在insert()方法里传入形参 axis=0\n",
    "- 注意：二维数组，0轴代表行，所以使用insert添加元素，是添加行\n",
    "- 要添加和原始行相同长度的：\n",
    "    - 二维列表\n",
    "    - 二维数组\n",
    "    - 一维列表\n",
    "    - 一维数组\n",
    "    - 标量 （标量会扩展成一维数组，再添加）"
   ]
  },
  {
   "cell_type": "code",
   "execution_count": 102,
   "id": "6a511c44",
   "metadata": {},
   "outputs": [
    {
     "data": {
      "text/plain": [
       "array([[ 0,  1,  2,  3,  4],\n",
       "       [ 5,  6,  7,  8,  9],\n",
       "       [10, 11, 12, 13, 14],\n",
       "       [15, 16, 17, 18, 19]])"
      ]
     },
     "execution_count": 102,
     "metadata": {},
     "output_type": "execute_result"
    }
   ],
   "source": [
    "data"
   ]
  },
  {
   "cell_type": "code",
   "execution_count": 103,
   "id": "93c52ca2",
   "metadata": {},
   "outputs": [
    {
     "data": {
      "text/plain": [
       "array([[ 1,  1,  1,  1,  1],\n",
       "       [ 0,  1,  2,  3,  4],\n",
       "       [ 5,  6,  7,  8,  9],\n",
       "       [10, 11, 12, 13, 14],\n",
       "       [15, 16, 17, 18, 19]])"
      ]
     },
     "execution_count": 103,
     "metadata": {},
     "output_type": "execute_result"
    }
   ],
   "source": [
    "np.insert(data, 0, 1, axis=0)"
   ]
  },
  {
   "cell_type": "code",
   "execution_count": 101,
   "id": "0ab04e77",
   "metadata": {},
   "outputs": [
    {
     "data": {
      "text/plain": [
       "array([[100, 200, 300, 400, 500],\n",
       "       [  0,   1,   2,   3,   4],\n",
       "       [  5,   6,   7,   8,   9],\n",
       "       [ 10,  11,  12,  13,  14],\n",
       "       [ 15,  16,  17,  18,  19]])"
      ]
     },
     "execution_count": 101,
     "metadata": {},
     "output_type": "execute_result"
    }
   ],
   "source": [
    "np.insert(data, 0, [[num for num in range(100,600,100)]], axis=0)"
   ]
  },
  {
   "cell_type": "code",
   "execution_count": 104,
   "id": "37605ef6",
   "metadata": {},
   "outputs": [
    {
     "data": {
      "text/plain": [
       "array([[100, 200, 300, 400, 500],\n",
       "       [  0,   1,   2,   3,   4],\n",
       "       [  5,   6,   7,   8,   9],\n",
       "       [ 10,  11,  12,  13,  14],\n",
       "       [ 15,  16,  17,  18,  19]])"
      ]
     },
     "execution_count": 104,
     "metadata": {},
     "output_type": "execute_result"
    }
   ],
   "source": [
    "np.insert(data, 0, [num for num in range(100,600,100)], axis=0)"
   ]
  },
  {
   "cell_type": "code",
   "execution_count": 105,
   "id": "9ef368bc",
   "metadata": {},
   "outputs": [
    {
     "data": {
      "text/plain": [
       "array([[0, 1, 2, 3, 4]])"
      ]
     },
     "execution_count": 105,
     "metadata": {},
     "output_type": "execute_result"
    }
   ],
   "source": [
    "index = np.arange(5).reshape(1,-1)\n",
    "index"
   ]
  },
  {
   "cell_type": "code",
   "execution_count": 106,
   "id": "5262926e",
   "metadata": {},
   "outputs": [
    {
     "data": {
      "text/plain": [
       "array([[ 0,  1,  2,  3,  4],\n",
       "       [ 5,  6,  7,  8,  9],\n",
       "       [10, 11, 12, 13, 14],\n",
       "       [ 0,  1,  2,  3,  4],\n",
       "       [15, 16, 17, 18, 19]])"
      ]
     },
     "execution_count": 106,
     "metadata": {},
     "output_type": "execute_result"
    }
   ],
   "source": [
    "np.insert(data, 3, index, axis=0)"
   ]
  },
  {
   "cell_type": "code",
   "execution_count": 107,
   "id": "e8be9ec5",
   "metadata": {},
   "outputs": [
    {
     "data": {
      "text/plain": [
       "array([0, 1, 2, 3, 4])"
      ]
     },
     "execution_count": 107,
     "metadata": {},
     "output_type": "execute_result"
    }
   ],
   "source": [
    "index = np.arange(5)\n",
    "index"
   ]
  },
  {
   "cell_type": "code",
   "execution_count": 108,
   "id": "586231dd",
   "metadata": {},
   "outputs": [
    {
     "data": {
      "text/plain": [
       "array([[ 0,  1,  2,  3,  4],\n",
       "       [ 5,  6,  7,  8,  9],\n",
       "       [10, 11, 12, 13, 14],\n",
       "       [ 0,  1,  2,  3,  4],\n",
       "       [15, 16, 17, 18, 19]])"
      ]
     },
     "execution_count": 108,
     "metadata": {},
     "output_type": "execute_result"
    }
   ],
   "source": [
    "np.insert(data, 3, index, axis=0)"
   ]
  },
  {
   "cell_type": "markdown",
   "id": "c61d9e9d",
   "metadata": {},
   "source": [
    "- 当然也可以一次增加多行，只要保证和原数组维度相同，且行的元素长度相同"
   ]
  },
  {
   "cell_type": "code",
   "execution_count": 53,
   "id": "8e633b25",
   "metadata": {},
   "outputs": [
    {
     "data": {
      "text/plain": [
       "array([[0, 1, 2, 3, 4],\n",
       "       [5, 6, 7, 8, 9]])"
      ]
     },
     "execution_count": 53,
     "metadata": {},
     "output_type": "execute_result"
    }
   ],
   "source": [
    "new_data = np.arange(10).reshape(-1,5)\n",
    "new_data"
   ]
  },
  {
   "cell_type": "code",
   "execution_count": 54,
   "id": "c5f3234d",
   "metadata": {},
   "outputs": [
    {
     "data": {
      "text/plain": [
       "array([[ 0,  1,  2,  3,  4],\n",
       "       [ 0,  1,  2,  3,  4],\n",
       "       [ 5,  6,  7,  8,  9],\n",
       "       [ 5,  6,  7,  8,  9],\n",
       "       [10, 11, 12, 13, 14],\n",
       "       [15, 16, 17, 18, 19]])"
      ]
     },
     "execution_count": 54,
     "metadata": {},
     "output_type": "execute_result"
    }
   ],
   "source": [
    "np.insert(data, 1, new_data, axis=0)"
   ]
  },
  {
   "cell_type": "markdown",
   "id": "e5a73694",
   "metadata": {},
   "source": [
    "- 指定1轴，也就是列\n",
    "- 在insert()方法里传入形参 axis=1\n",
    "- 注意：二维数组，1轴代表列，所以使用insert添加元素，是添加列\n",
    "- 要添加和原始列相同长度的：\n",
    "    1. 若使用一维数组作为值添加，则插入位置 使用标量obj\n",
    "    2. 若使用二维数组作为值添加，则插入位置 使用列表[obj]\n",
    "    3. 也可以使用标量"
   ]
  },
  {
   "cell_type": "code",
   "execution_count": 109,
   "id": "461aae8d",
   "metadata": {},
   "outputs": [
    {
     "data": {
      "text/plain": [
       "array([[ 0,  1,  2,  3,  4],\n",
       "       [ 5,  6,  7,  8,  9],\n",
       "       [10, 11, 12, 13, 14],\n",
       "       [15, 16, 17, 18, 19]])"
      ]
     },
     "execution_count": 109,
     "metadata": {},
     "output_type": "execute_result"
    }
   ],
   "source": [
    "data = np.arange(20).reshape(4,5)\n",
    "data"
   ]
  },
  {
   "cell_type": "code",
   "execution_count": 110,
   "id": "186cedbc",
   "metadata": {},
   "outputs": [
    {
     "data": {
      "text/plain": [
       "array([[  0, 100,   1,   2,   3,   4],\n",
       "       [  5, 100,   6,   7,   8,   9],\n",
       "       [ 10, 100,  11,  12,  13,  14],\n",
       "       [ 15, 100,  16,  17,  18,  19]])"
      ]
     },
     "execution_count": 110,
     "metadata": {},
     "output_type": "execute_result"
    }
   ],
   "source": [
    "np.insert(data, 1, 100, axis=1)"
   ]
  },
  {
   "cell_type": "code",
   "execution_count": 113,
   "id": "679079d4",
   "metadata": {},
   "outputs": [
    {
     "data": {
      "text/plain": [
       "array([[  0, 100,   1,   2,   3,   4],\n",
       "       [  5, 200,   6,   7,   8,   9],\n",
       "       [ 10, 300,  11,  12,  13,  14],\n",
       "       [ 15, 400,  16,  17,  18,  19]])"
      ]
     },
     "execution_count": 113,
     "metadata": {},
     "output_type": "execute_result"
    }
   ],
   "source": [
    "np.insert(data, 1, [num for num in range(100,500,100)], axis=1)"
   ]
  },
  {
   "cell_type": "code",
   "execution_count": 84,
   "id": "837a745c",
   "metadata": {},
   "outputs": [
    {
     "data": {
      "text/plain": [
       "array([[  0, 100,   1,   2,   3,   4],\n",
       "       [  5, 200,   6,   7,   8,   9],\n",
       "       [ 10, 300,  11,  12,  13,  14],\n",
       "       [ 15, 400,  16,  17,  18,  19]])"
      ]
     },
     "execution_count": 84,
     "metadata": {},
     "output_type": "execute_result"
    }
   ],
   "source": [
    "np.insert(data, [1], [[num] for num in range(100,500,100)], axis=1)"
   ]
  },
  {
   "cell_type": "code",
   "execution_count": 85,
   "id": "668d4099",
   "metadata": {},
   "outputs": [
    {
     "data": {
      "text/plain": [
       "[10, 20, 30, 40]"
      ]
     },
     "execution_count": 85,
     "metadata": {},
     "output_type": "execute_result"
    }
   ],
   "source": [
    "column_list = [10, 20, 30, 40]\n",
    "column_list"
   ]
  },
  {
   "cell_type": "code",
   "execution_count": 86,
   "id": "4943caee",
   "metadata": {},
   "outputs": [
    {
     "data": {
      "text/plain": [
       "array([[ 0, 10,  1,  2,  3,  4],\n",
       "       [ 5, 20,  6,  7,  8,  9],\n",
       "       [10, 30, 11, 12, 13, 14],\n",
       "       [15, 40, 16, 17, 18, 19]])"
      ]
     },
     "execution_count": 86,
     "metadata": {},
     "output_type": "execute_result"
    }
   ],
   "source": [
    "np.insert(data, 1, column_list, axis=1)"
   ]
  },
  {
   "cell_type": "code",
   "execution_count": 87,
   "id": "ea390ca9",
   "metadata": {},
   "outputs": [
    {
     "data": {
      "text/plain": [
       "[[10], [20], [30], [40]]"
      ]
     },
     "execution_count": 87,
     "metadata": {},
     "output_type": "execute_result"
    }
   ],
   "source": [
    "column_list = [[10], [20], [30],[40]]\n",
    "column_list"
   ]
  },
  {
   "cell_type": "code",
   "execution_count": 88,
   "id": "0cc11865",
   "metadata": {},
   "outputs": [
    {
     "data": {
      "text/plain": [
       "array([[ 0, 10,  1,  2,  3,  4],\n",
       "       [ 5, 20,  6,  7,  8,  9],\n",
       "       [10, 30, 11, 12, 13, 14],\n",
       "       [15, 40, 16, 17, 18, 19]])"
      ]
     },
     "execution_count": 88,
     "metadata": {},
     "output_type": "execute_result"
    }
   ],
   "source": [
    "np.insert(data, [1], column_list, axis=1)"
   ]
  },
  {
   "cell_type": "code",
   "execution_count": 89,
   "id": "7a90707a",
   "metadata": {},
   "outputs": [
    {
     "data": {
      "text/plain": [
       "array([[0],\n",
       "       [1],\n",
       "       [2],\n",
       "       [3]])"
      ]
     },
     "execution_count": 89,
     "metadata": {},
     "output_type": "execute_result"
    }
   ],
   "source": [
    "column = np.arange(4).reshape(4,-1)\n",
    "column"
   ]
  },
  {
   "cell_type": "code",
   "execution_count": 90,
   "id": "85ba28f6",
   "metadata": {},
   "outputs": [
    {
     "data": {
      "text/plain": [
       "array([[ 0,  0,  1,  2,  3,  4],\n",
       "       [ 1,  5,  6,  7,  8,  9],\n",
       "       [ 2, 10, 11, 12, 13, 14],\n",
       "       [ 3, 15, 16, 17, 18, 19]])"
      ]
     },
     "execution_count": 90,
     "metadata": {},
     "output_type": "execute_result"
    }
   ],
   "source": [
    "np.insert(data, [0], column, axis=1)"
   ]
  },
  {
   "cell_type": "markdown",
   "id": "44814246",
   "metadata": {},
   "source": [
    "- 增加多列"
   ]
  },
  {
   "cell_type": "code",
   "execution_count": 66,
   "id": "7ad021fb",
   "metadata": {},
   "outputs": [
    {
     "data": {
      "text/plain": [
       "array([[ 0,  1,  2,  3,  4],\n",
       "       [ 5,  6,  7,  8,  9],\n",
       "       [10, 11, 12, 13, 14],\n",
       "       [15, 16, 17, 18, 19]])"
      ]
     },
     "execution_count": 66,
     "metadata": {},
     "output_type": "execute_result"
    }
   ],
   "source": [
    "multi_column = np.arange(20).reshape(-1,5)\n",
    "multi_column"
   ]
  },
  {
   "cell_type": "code",
   "execution_count": 91,
   "id": "a1abb2c5",
   "metadata": {},
   "outputs": [
    {
     "data": {
      "text/plain": [
       "array([[ 0,  1,  2,  3,  0,  1,  2,  3,  4,  4],\n",
       "       [ 5,  6,  7,  8,  5,  6,  7,  8,  9,  9],\n",
       "       [10, 11, 12, 13, 10, 11, 12, 13, 14, 14],\n",
       "       [15, 16, 17, 18, 15, 16, 17, 18, 19, 19]])"
      ]
     },
     "execution_count": 91,
     "metadata": {},
     "output_type": "execute_result"
    }
   ],
   "source": [
    "np.insert(data, [4], multi_column, axis=1)"
   ]
  },
  {
   "cell_type": "markdown",
   "id": "31a18ce4",
   "metadata": {},
   "source": [
    "### 注意：\n",
    "- 二维情况下指定轴进行插入操作\n",
    "    - 使用insert()方法\n",
    "        - 指定行插入，需要插入二维数组或者二维列表\n",
    "        - 指定列插入，可以插入一维数组或者一维列表，不过此时插入的位置必须是标量 obj\n",
    "        - 指定列插入，也可以插入二维数组或者二维列表，不过此时插入的位置必须是列表 [obj]\n",
    "\n",
    "- 使用insert()方法，指定行轴，其插入位置可以是标量obj也可以是列表，表示在多个位置插入"
   ]
  },
  {
   "cell_type": "code",
   "execution_count": 92,
   "id": "f9169151",
   "metadata": {},
   "outputs": [
    {
     "data": {
      "text/plain": [
       "array([[ 0,  1,  2,  3,  0,  1,  2,  3,  4,  4],\n",
       "       [ 5,  6,  7,  8,  5,  6,  7,  8,  9,  9],\n",
       "       [10, 11, 12, 13, 10, 11, 12, 13, 14, 14],\n",
       "       [15, 16, 17, 18, 15, 16, 17, 18, 19, 19]])"
      ]
     },
     "execution_count": 92,
     "metadata": {},
     "output_type": "execute_result"
    }
   ],
   "source": [
    "data = np.insert(data, [4], multi_column, axis=1)\n",
    "data"
   ]
  },
  {
   "cell_type": "code",
   "execution_count": 93,
   "id": "b90ebb94",
   "metadata": {},
   "outputs": [
    {
     "data": {
      "text/plain": [
       "array([[1., 1., 1., 1., 1., 1., 1., 1., 1., 1.]])"
      ]
     },
     "execution_count": 93,
     "metadata": {},
     "output_type": "execute_result"
    }
   ],
   "source": [
    "new_data = np.ones((1,10))\n",
    "new_data"
   ]
  },
  {
   "cell_type": "code",
   "execution_count": 94,
   "id": "09dba707",
   "metadata": {},
   "outputs": [
    {
     "data": {
      "text/plain": [
       "array([[ 1,  1,  1,  1,  1,  1,  1,  1,  1,  1],\n",
       "       [ 0,  1,  2,  3,  0,  1,  2,  3,  4,  4],\n",
       "       [ 5,  6,  7,  8,  5,  6,  7,  8,  9,  9],\n",
       "       [10, 11, 12, 13, 10, 11, 12, 13, 14, 14],\n",
       "       [ 1,  1,  1,  1,  1,  1,  1,  1,  1,  1],\n",
       "       [15, 16, 17, 18, 15, 16, 17, 18, 19, 19],\n",
       "       [ 1,  1,  1,  1,  1,  1,  1,  1,  1,  1]])"
      ]
     },
     "execution_count": 94,
     "metadata": {},
     "output_type": "execute_result"
    }
   ],
   "source": [
    "np.insert(data, [0,3,4], new_data, axis=0)"
   ]
  },
  {
   "cell_type": "code",
   "execution_count": 96,
   "id": "89a9a309",
   "metadata": {},
   "outputs": [
    {
     "data": {
      "text/plain": [
       "array([[ 1,  1,  1,  1,  1,  1,  1,  1,  1,  1],\n",
       "       [ 0,  1,  2,  3,  0,  1,  2,  3,  4,  4],\n",
       "       [ 5,  6,  7,  8,  5,  6,  7,  8,  9,  9],\n",
       "       [10, 11, 12, 13, 10, 11, 12, 13, 14, 14],\n",
       "       [15, 16, 17, 18, 15, 16, 17, 18, 19, 19]])"
      ]
     },
     "execution_count": 96,
     "metadata": {},
     "output_type": "execute_result"
    }
   ],
   "source": [
    "new_data = np.ones(10)\n",
    "np.insert(data, 0, new_data, axis=0)"
   ]
  },
  {
   "cell_type": "markdown",
   "id": "fa93c5bb",
   "metadata": {},
   "source": [
    "## 总结：\n",
    "- append()：是在尾部增加数据\n",
    "- insert()：可以在指定位置增加数据\n",
    "- 一维数组情况下增加数据\n",
    "    - append()可以在尾部增加一个或者多个变量组成数组、列表、元组等\n",
    "    - insert()可以在指定位置obj增加一个或者多个变量组成数组、列表、元组等\n",
    "    - insert()可以在指定位置obj，其中obj是一个下标列表，则一次在多个地方增加元素，但是增加的元素必须是一个值，即不能增加数组、列表、元组\n",
    "- 二维数组情况下增加数据\n",
    "    - 不指定维度：append和insert都会将二维数组，转换成一维数组，再按照一维数组的规则添加数据\n",
    "    - append()指定行或者列轴：\n",
    "        - 不可以增加标量\n",
    "        - 不可以增加一维数组或者列表\n",
    "        - 可以增加单行或者列二维数组或者列表\n",
    "        - 可以增加多行或者列的二维数组或者列表\n",
    "    - insert()指定行或者列：\n",
    "        - 可以增加标量                （行列均可）\n",
    "        - 可以增加一维数组或者列表     （行列均可）\n",
    "        - 可以增加单行二维数组或者列表  （行列均可,不过增加列需要使用列表下标[obj]）\n",
    "        - 可以增加多行二维数组或者列表   （行列均可，不过增加列需要使用列表下标[obj]）\n",
    "        - 可以一次增加多个位置：\n",
    "            - 增加行或者列（标量）[obj1,obj2,...]\n",
    "            - 增加行或者列（一维）[obj1,obj2,...]\n",
    "            - 增加行或者列（二维多行多列）[obj1,obj2,...]\n",
    "            - 增加行（二维单行单列）[obj1,obj2,...]\n",
    "            - 增加列 <b>报错</b>（二维单行单列）[obj1,obj2,...]\n",
    "            "
   ]
  }
 ],
 "metadata": {
  "kernelspec": {
   "display_name": "Python 3 (ipykernel)",
   "language": "python",
   "name": "python3"
  },
  "language_info": {
   "codemirror_mode": {
    "name": "ipython",
    "version": 3
   },
   "file_extension": ".py",
   "mimetype": "text/x-python",
   "name": "python",
   "nbconvert_exporter": "python",
   "pygments_lexer": "ipython3",
   "version": "3.9.7"
  }
 },
 "nbformat": 4,
 "nbformat_minor": 5
}
