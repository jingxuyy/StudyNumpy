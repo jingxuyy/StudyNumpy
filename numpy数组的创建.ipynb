{
 "cells": [
  {
   "cell_type": "markdown",
   "id": "af3b0da4",
   "metadata": {},
   "source": [
    "## 导入numpy模块"
   ]
  },
  {
   "cell_type": "code",
   "execution_count": 1,
   "id": "eedb2243",
   "metadata": {},
   "outputs": [],
   "source": [
    "import numpy as np"
   ]
  },
  {
   "cell_type": "markdown",
   "id": "a211b4aa",
   "metadata": {},
   "source": [
    "## 创建Array数组"
   ]
  },
  {
   "cell_type": "markdown",
   "id": "d8a8af2b",
   "metadata": {},
   "source": [
    "### 1. 使用列表创建数组\n",
    "> 构造函数  array()"
   ]
  },
  {
   "cell_type": "code",
   "execution_count": 2,
   "id": "60f277a6",
   "metadata": {},
   "outputs": [
    {
     "data": {
      "text/plain": [
       "array([ 1, 10,  4,  3, 12,  5,  2,  9])"
      ]
     },
     "execution_count": 2,
     "metadata": {},
     "output_type": "execute_result"
    }
   ],
   "source": [
    "data_list = [1, 10, 4, 3, 12, 5, 2, 9]\n",
    "data = np.array(data_list)\n",
    "data"
   ]
  },
  {
   "cell_type": "markdown",
   "id": "991b9057",
   "metadata": {},
   "source": [
    "> 使用array()方法，并且使用dtype参数指定数据类型"
   ]
  },
  {
   "cell_type": "code",
   "execution_count": 3,
   "id": "89150a4e",
   "metadata": {},
   "outputs": [
    {
     "data": {
      "text/plain": [
       "array([ 1, 10,  4,  3, 12,  5,  2,  9], dtype=int8)"
      ]
     },
     "metadata": {},
     "output_type": "display_data"
    },
    {
     "data": {
      "text/plain": [
       "array([ 1., 10.,  4.,  3., 12.,  5.,  2.,  9.], dtype=float16)"
      ]
     },
     "metadata": {},
     "output_type": "display_data"
    }
   ],
   "source": [
    "data2 = np.array(data_list, dtype=np.int8)\n",
    "data3 = np.array(data_list, dtype=np.float16)\n",
    "display(data2,data3)"
   ]
  },
  {
   "cell_type": "markdown",
   "id": "11d9d17d",
   "metadata": {},
   "source": [
    "### 2. 使用arange()方法创建数组\n",
    "> 在python中创建列表可以使用 range(start,end,step)快速生成列表</br>\n",
    "> 在numpy中也拥有相同的方法arange(start,end,step)其使用方法和range一样\n",
    "- start默认值是0\n",
    "- step默认值是1\n",
    "- end无默认值，需要手动传递\n",
    "- arange()生成的数据不包括end，即左闭右开区间"
   ]
  },
  {
   "cell_type": "code",
   "execution_count": 4,
   "id": "95af0cca",
   "metadata": {},
   "outputs": [
    {
     "data": {
      "text/plain": [
       "array([0, 1, 2, 3, 4, 5, 6, 7, 8, 9])"
      ]
     },
     "execution_count": 4,
     "metadata": {},
     "output_type": "execute_result"
    }
   ],
   "source": [
    "data = np.arange(10)\n",
    "data"
   ]
  },
  {
   "cell_type": "code",
   "execution_count": 5,
   "id": "82a6c79f",
   "metadata": {},
   "outputs": [
    {
     "data": {
      "text/plain": [
       "array([1, 3, 5, 7, 9])"
      ]
     },
     "execution_count": 5,
     "metadata": {},
     "output_type": "execute_result"
    }
   ],
   "source": [
    "data2 = np.arange(1,10,2)\n",
    "data2"
   ]
  },
  {
   "cell_type": "markdown",
   "id": "f7cdf2c5",
   "metadata": {},
   "source": [
    "### 3. 使用linspace()方法创建数组\n",
    "> linspace()和arange()方法不同，linespace是根据给定的区间，进行等分获得各个元素</br>\n",
    "> np.linspace(start, stop, num)\n",
    "- start是起始值，需要指定\n",
    "- stop是终止值，需要指定，注意生成的数组结果包含stop，是一个闭区间\n",
    "- num是等分长度，也就是数组长度，默认值为50\n",
    "1. 例如：np.linspace(1, 10, 10)\n",
    "    - 1~10共有10个数，第一个数为1，最后一个数为10，然后num=10，所以进行等分10-1/10-1，间隔为1\n",
    "    - 结果：[ 1.,  2.,  3.,  4.,  5.,  6.,  7.,  8.,  9., 10.]\n",
    "2. 例如：np.linspace(1, 100, 10)\n",
    "    - 1~100共有100个数，第一个数为1，最后一个数为100，然后num=10，所以进行等分100-1/10-1，间隔为11\n",
    "    - 结果：[  1.,  12.,  23.,  34.,  45.,  56.,  67.,  78.,  89., 100.]\n",
    "3. 例如：np.linspace(1, 100)\n",
    "    - 1~100共有100个数，第一个数为1，最后一个数为100，然后num默认50，所以进行等分100-1/50-1，间隔约等于2.020\n",
    "    - 所以第一个数是1，第二个是1+2.020=3.020，第三个为3.020+2.020=5.040，......\n",
    "    - 结果：[  1. , 3.02040816, 5.04081633, 7.06122449, ...]"
   ]
  },
  {
   "cell_type": "code",
   "execution_count": 8,
   "id": "9c405131",
   "metadata": {},
   "outputs": [
    {
     "data": {
      "text/plain": [
       "array([ 1.,  2.,  3.,  4.,  5.,  6.,  7.,  8.,  9., 10.])"
      ]
     },
     "execution_count": 8,
     "metadata": {},
     "output_type": "execute_result"
    }
   ],
   "source": [
    "data = np.linspace(1, 10, 10)\n",
    "data"
   ]
  },
  {
   "cell_type": "code",
   "execution_count": 15,
   "id": "0282952a",
   "metadata": {},
   "outputs": [
    {
     "data": {
      "text/plain": [
       "array([  1.,  12.,  23.,  34.,  45.,  56.,  67.,  78.,  89., 100.])"
      ]
     },
     "execution_count": 15,
     "metadata": {},
     "output_type": "execute_result"
    }
   ],
   "source": [
    "np.linspace(1, 100, 10)"
   ]
  },
  {
   "cell_type": "code",
   "execution_count": 16,
   "id": "d476e56c",
   "metadata": {},
   "outputs": [
    {
     "data": {
      "text/plain": [
       "array([  1.        ,   3.02040816,   5.04081633,   7.06122449,\n",
       "         9.08163265,  11.10204082,  13.12244898,  15.14285714,\n",
       "        17.16326531,  19.18367347,  21.20408163,  23.2244898 ,\n",
       "        25.24489796,  27.26530612,  29.28571429,  31.30612245,\n",
       "        33.32653061,  35.34693878,  37.36734694,  39.3877551 ,\n",
       "        41.40816327,  43.42857143,  45.44897959,  47.46938776,\n",
       "        49.48979592,  51.51020408,  53.53061224,  55.55102041,\n",
       "        57.57142857,  59.59183673,  61.6122449 ,  63.63265306,\n",
       "        65.65306122,  67.67346939,  69.69387755,  71.71428571,\n",
       "        73.73469388,  75.75510204,  77.7755102 ,  79.79591837,\n",
       "        81.81632653,  83.83673469,  85.85714286,  87.87755102,\n",
       "        89.89795918,  91.91836735,  93.93877551,  95.95918367,\n",
       "        97.97959184, 100.        ])"
      ]
     },
     "execution_count": 16,
     "metadata": {},
     "output_type": "execute_result"
    }
   ],
   "source": [
    "np.linspace(1, 100)"
   ]
  },
  {
   "cell_type": "markdown",
   "id": "b59b5acd",
   "metadata": {},
   "source": [
    "## 创建二维数组\n",
    "- 使用array()通过传入二维列表\n",
    "- 使用array()创建一维数组，再通过reshape()改变维度\n",
    "- 同理，若想通过一维数组修改成多维数组，借助reshape()方法即可，但需要注意改变前后的元素个数需要保持一致，否则报错"
   ]
  },
  {
   "cell_type": "code",
   "execution_count": 18,
   "id": "34042405",
   "metadata": {},
   "outputs": [
    {
     "data": {
      "text/plain": [
       "array([[1, 2, 3],\n",
       "       [4, 5, 6]])"
      ]
     },
     "execution_count": 18,
     "metadata": {},
     "output_type": "execute_result"
    }
   ],
   "source": [
    "data = np.array([[1,2,3],[4,5,6]])\n",
    "data"
   ]
  },
  {
   "cell_type": "code",
   "execution_count": 19,
   "id": "acd40b33",
   "metadata": {},
   "outputs": [
    {
     "data": {
      "text/plain": [
       "array([[ 0,  1,  2,  3,  4],\n",
       "       [ 5,  6,  7,  8,  9],\n",
       "       [10, 11, 12, 13, 14],\n",
       "       [15, 16, 17, 18, 19]])"
      ]
     },
     "execution_count": 19,
     "metadata": {},
     "output_type": "execute_result"
    }
   ],
   "source": [
    "data2 = np.arange(20).reshape(4,5)\n",
    "data2"
   ]
  },
  {
   "cell_type": "markdown",
   "id": "a72357d4",
   "metadata": {},
   "source": [
    "- 通过reshape方法，修改一维数组为二维数组，但是数据元素个数不一致"
   ]
  },
  {
   "cell_type": "code",
   "execution_count": 20,
   "id": "b2fd8595",
   "metadata": {},
   "outputs": [
    {
     "ename": "ValueError",
     "evalue": "cannot reshape array of size 20 into shape (4,4)",
     "output_type": "error",
     "traceback": [
      "\u001b[1;31m---------------------------------------------------------------------------\u001b[0m",
      "\u001b[1;31mValueError\u001b[0m                                Traceback (most recent call last)",
      "Cell \u001b[1;32mIn[20], line 1\u001b[0m\n\u001b[1;32m----> 1\u001b[0m \u001b[43mnp\u001b[49m\u001b[38;5;241;43m.\u001b[39;49m\u001b[43marange\u001b[49m\u001b[43m(\u001b[49m\u001b[38;5;241;43m20\u001b[39;49m\u001b[43m)\u001b[49m\u001b[38;5;241;43m.\u001b[39;49m\u001b[43mreshape\u001b[49m\u001b[43m(\u001b[49m\u001b[38;5;241;43m4\u001b[39;49m\u001b[43m,\u001b[49m\u001b[38;5;241;43m4\u001b[39;49m\u001b[43m)\u001b[49m\n",
      "\u001b[1;31mValueError\u001b[0m: cannot reshape array of size 20 into shape (4,4)"
     ]
    }
   ],
   "source": [
    "np.arange(20).reshape(4,4)"
   ]
  },
  {
   "cell_type": "markdown",
   "id": "054994f5",
   "metadata": {},
   "source": [
    "- 创建三维数组"
   ]
  },
  {
   "cell_type": "code",
   "execution_count": 21,
   "id": "dc2287c3",
   "metadata": {},
   "outputs": [
    {
     "data": {
      "text/plain": [
       "array([[[ 0,  1,  2,  3,  4],\n",
       "        [ 5,  6,  7,  8,  9],\n",
       "        [10, 11, 12, 13, 14],\n",
       "        [15, 16, 17, 18, 19]],\n",
       "\n",
       "       [[20, 21, 22, 23, 24],\n",
       "        [25, 26, 27, 28, 29],\n",
       "        [30, 31, 32, 33, 34],\n",
       "        [35, 36, 37, 38, 39]],\n",
       "\n",
       "       [[40, 41, 42, 43, 44],\n",
       "        [45, 46, 47, 48, 49],\n",
       "        [50, 51, 52, 53, 54],\n",
       "        [55, 56, 57, 58, 59]]])"
      ]
     },
     "execution_count": 21,
     "metadata": {},
     "output_type": "execute_result"
    }
   ],
   "source": [
    "np.arange(60).reshape(3,4,5)"
   ]
  },
  {
   "cell_type": "markdown",
   "id": "451a0e60",
   "metadata": {},
   "source": [
    "## 创建特殊值的数组方式\n",
    "1. 创建元素全0的数组 zeros()\n",
    "2. 创建元素全1的数组 ones()\n",
    "3. 创建指定元素的数组 full()\n",
    "4. 创建单位矩阵的数组 eye()\n",
    "5. 创建空的数组 empty()"
   ]
  },
  {
   "cell_type": "markdown",
   "id": "cf23ccb9",
   "metadata": {},
   "source": [
    "> zeros(shape, dtype=float)\n",
    "> - shape 维度 需要传入一个元组，当是创建一维数组时，(一维数组元素个数,) 不要忘记逗号\n",
    "> - dtype 数据类型，默认float64"
   ]
  },
  {
   "cell_type": "code",
   "execution_count": 22,
   "id": "38d75073",
   "metadata": {},
   "outputs": [
    {
     "data": {
      "text/plain": [
       "array([[0., 0., 0.],\n",
       "       [0., 0., 0.]])"
      ]
     },
     "execution_count": 22,
     "metadata": {},
     "output_type": "execute_result"
    }
   ],
   "source": [
    "np.zeros((2,3))"
   ]
  },
  {
   "cell_type": "code",
   "execution_count": 23,
   "id": "f09cb4f1",
   "metadata": {},
   "outputs": [
    {
     "data": {
      "text/plain": [
       "array([0., 0., 0., 0., 0.])"
      ]
     },
     "execution_count": 23,
     "metadata": {},
     "output_type": "execute_result"
    }
   ],
   "source": [
    "np.zeros((5,))"
   ]
  },
  {
   "cell_type": "code",
   "execution_count": 24,
   "id": "cad5055a",
   "metadata": {},
   "outputs": [
    {
     "data": {
      "text/plain": [
       "array([[0, 0, 0],\n",
       "       [0, 0, 0],\n",
       "       [0, 0, 0]], dtype=int8)"
      ]
     },
     "execution_count": 24,
     "metadata": {},
     "output_type": "execute_result"
    }
   ],
   "source": [
    "np.zeros((3,3), dtype=np.int8)"
   ]
  },
  {
   "cell_type": "markdown",
   "id": "f266e84a",
   "metadata": {},
   "source": [
    "> ones(shape, dtype=float)\n",
    "> - shape 维度 需要传入一个元组，当是创建一维数组时，(一维数组元素个数,) 不要忘记逗号\n",
    "> - dtype 数据类型，默认float64"
   ]
  },
  {
   "cell_type": "code",
   "execution_count": 25,
   "id": "45d8218d",
   "metadata": {},
   "outputs": [
    {
     "data": {
      "text/plain": [
       "array([[1., 1., 1.],\n",
       "       [1., 1., 1.]])"
      ]
     },
     "execution_count": 25,
     "metadata": {},
     "output_type": "execute_result"
    }
   ],
   "source": [
    "np.ones((2,3))"
   ]
  },
  {
   "cell_type": "code",
   "execution_count": 26,
   "id": "7cef6f42",
   "metadata": {},
   "outputs": [
    {
     "data": {
      "text/plain": [
       "array([1., 1., 1., 1., 1.])"
      ]
     },
     "execution_count": 26,
     "metadata": {},
     "output_type": "execute_result"
    }
   ],
   "source": [
    "np.ones((5,))"
   ]
  },
  {
   "cell_type": "code",
   "execution_count": 27,
   "id": "4331069d",
   "metadata": {},
   "outputs": [
    {
     "data": {
      "text/plain": [
       "array([[1, 1, 1],\n",
       "       [1, 1, 1],\n",
       "       [1, 1, 1]], dtype=int8)"
      ]
     },
     "execution_count": 27,
     "metadata": {},
     "output_type": "execute_result"
    }
   ],
   "source": [
    "np.ones((3,3), dtype=np.int8)"
   ]
  },
  {
   "cell_type": "markdown",
   "id": "ff107c2c",
   "metadata": {},
   "source": [
    "> full(shape, fill_value, dtype=None)\n",
    "> - shape 维度 需要传入一个元组，当是创建一维数组时，(一维数组元素个数,) 不要忘记逗号\n",
    "> - fill_value: 数组的填充值\n",
    "> - dtype=None 自适应"
   ]
  },
  {
   "cell_type": "code",
   "execution_count": 28,
   "id": "fda197f0",
   "metadata": {},
   "outputs": [
    {
     "data": {
      "text/plain": [
       "array([[3, 3, 3],\n",
       "       [3, 3, 3]])"
      ]
     },
     "execution_count": 28,
     "metadata": {},
     "output_type": "execute_result"
    }
   ],
   "source": [
    "np.full((2,3), 3)"
   ]
  },
  {
   "cell_type": "code",
   "execution_count": 29,
   "id": "d9fe1e5f",
   "metadata": {},
   "outputs": [
    {
     "data": {
      "text/plain": [
       "array([3, 3])"
      ]
     },
     "execution_count": 29,
     "metadata": {},
     "output_type": "execute_result"
    }
   ],
   "source": [
    "np.full((2,), 3)"
   ]
  },
  {
   "cell_type": "code",
   "execution_count": 31,
   "id": "cc93ce46",
   "metadata": {},
   "outputs": [
    {
     "data": {
      "text/plain": [
       "array([[6., 6., 6.],\n",
       "       [6., 6., 6.]], dtype=float16)"
      ]
     },
     "execution_count": 31,
     "metadata": {},
     "output_type": "execute_result"
    }
   ],
   "source": [
    "np.full((2,3), 6, dtype=np.float16)"
   ]
  },
  {
   "cell_type": "markdown",
   "id": "6d57041e",
   "metadata": {},
   "source": [
    "> empty(shape, dtype=float)\n",
    "> - shape 维度 需要传入一个元组，当是创建一维数组时，(一维数组元素个数,) 不要忘记逗号\n",
    "> - 注意：empty()创建的数组，并不是没有值的空数组，会直接输出内存里原有值"
   ]
  },
  {
   "cell_type": "code",
   "execution_count": 32,
   "id": "1b49dcac",
   "metadata": {},
   "outputs": [
    {
     "data": {
      "text/plain": [
       "array([[1., 1., 1.],\n",
       "       [1., 1., 1.]])"
      ]
     },
     "execution_count": 32,
     "metadata": {},
     "output_type": "execute_result"
    }
   ],
   "source": [
    "np.empty((2,3))"
   ]
  },
  {
   "cell_type": "code",
   "execution_count": 33,
   "id": "cda8cc3c",
   "metadata": {},
   "outputs": [
    {
     "data": {
      "text/plain": [
       "array([8.73254326e+09, 1.76946876e+41])"
      ]
     },
     "execution_count": 33,
     "metadata": {},
     "output_type": "execute_result"
    }
   ],
   "source": [
    "np.empty((2,))"
   ]
  },
  {
   "cell_type": "code",
   "execution_count": 34,
   "id": "0d1447c0",
   "metadata": {},
   "outputs": [
    {
     "data": {
      "text/plain": [
       "array([[1, 1, 1],\n",
       "       [1, 1, 1]], dtype=int8)"
      ]
     },
     "execution_count": 34,
     "metadata": {},
     "output_type": "execute_result"
    }
   ],
   "source": [
    "np.empty((2,3), dtype=np.int8)"
   ]
  },
  {
   "cell_type": "markdown",
   "id": "6b152a90",
   "metadata": {},
   "source": [
    "### 根据已有的数组形状创建新数组\n",
    "1. zeros_like(arr) ：根据传入的数组arr创建相同维度值为全0的数组\n",
    "2. ones_like(arr) ：根据传入的数组arr创建相同维度值为全1的数组\n",
    "3. full_like(arr) ：根据传入的数组arr创建相同维度值为指定值的数组\n",
    "4. empty_like(arr) ：根据传入的数组arr创建相同维度的空数组"
   ]
  },
  {
   "cell_type": "code",
   "execution_count": 36,
   "id": "1b27d851",
   "metadata": {},
   "outputs": [
    {
     "data": {
      "text/plain": [
       "array([[ 1,  2,  3,  4],\n",
       "       [ 5,  6,  7,  8],\n",
       "       [ 9, 10, 11, 12]])"
      ]
     },
     "execution_count": 36,
     "metadata": {},
     "output_type": "execute_result"
    }
   ],
   "source": [
    "data = np.arange(1,13).reshape(3, 4)\n",
    "data"
   ]
  },
  {
   "cell_type": "code",
   "execution_count": 37,
   "id": "34299272",
   "metadata": {},
   "outputs": [
    {
     "data": {
      "text/plain": [
       "array([[0, 0, 0, 0],\n",
       "       [0, 0, 0, 0],\n",
       "       [0, 0, 0, 0]])"
      ]
     },
     "execution_count": 37,
     "metadata": {},
     "output_type": "execute_result"
    }
   ],
   "source": [
    "np.zeros_like(data)"
   ]
  },
  {
   "cell_type": "code",
   "execution_count": 38,
   "id": "59e29dde",
   "metadata": {},
   "outputs": [
    {
     "data": {
      "text/plain": [
       "array([[1, 1, 1, 1],\n",
       "       [1, 1, 1, 1],\n",
       "       [1, 1, 1, 1]])"
      ]
     },
     "execution_count": 38,
     "metadata": {},
     "output_type": "execute_result"
    }
   ],
   "source": [
    "np.ones_like(data)"
   ]
  },
  {
   "cell_type": "code",
   "execution_count": 39,
   "id": "155b10b4",
   "metadata": {},
   "outputs": [
    {
     "data": {
      "text/plain": [
       "array([[55, 55, 55, 55],\n",
       "       [55, 55, 55, 55],\n",
       "       [55, 55, 55, 55]])"
      ]
     },
     "execution_count": 39,
     "metadata": {},
     "output_type": "execute_result"
    }
   ],
   "source": [
    "np.full_like(data, 55)"
   ]
  },
  {
   "cell_type": "code",
   "execution_count": 40,
   "id": "a9409957",
   "metadata": {},
   "outputs": [
    {
     "data": {
      "text/plain": [
       "array([[ 1,  2,  3,  4],\n",
       "       [ 5,  6,  7,  8],\n",
       "       [ 9, 10, 11, 12]])"
      ]
     },
     "execution_count": 40,
     "metadata": {},
     "output_type": "execute_result"
    }
   ],
   "source": [
    "np.empty_like(data)"
   ]
  }
 ],
 "metadata": {
  "kernelspec": {
   "display_name": "Python 3 (ipykernel)",
   "language": "python",
   "name": "python3"
  },
  "language_info": {
   "codemirror_mode": {
    "name": "ipython",
    "version": 3
   },
   "file_extension": ".py",
   "mimetype": "text/x-python",
   "name": "python",
   "nbconvert_exporter": "python",
   "pygments_lexer": "ipython3",
   "version": "3.9.7"
  }
 },
 "nbformat": 4,
 "nbformat_minor": 5
}
