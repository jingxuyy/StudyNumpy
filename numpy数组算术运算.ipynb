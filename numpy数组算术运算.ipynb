{
 "cells": [
  {
   "cell_type": "markdown",
   "id": "cb9c3272",
   "metadata": {},
   "source": [
    "## numpy数组算术运算"
   ]
  },
  {
   "cell_type": "code",
   "execution_count": 1,
   "id": "1caa0e45",
   "metadata": {},
   "outputs": [],
   "source": [
    "import numpy as np"
   ]
  },
  {
   "cell_type": "markdown",
   "id": "7aeb3d81",
   "metadata": {},
   "source": [
    "#### 1. 数组和数字运算 \n",
    "- 数组和数字运算，是将数字和数组中每个元素进行运算"
   ]
  },
  {
   "cell_type": "code",
   "execution_count": 2,
   "id": "c03a995b",
   "metadata": {},
   "outputs": [
    {
     "data": {
      "text/plain": [
       "array([0, 1, 2, 3, 4, 5, 6, 7, 8, 9])"
      ]
     },
     "metadata": {},
     "output_type": "display_data"
    },
    {
     "data": {
      "text/plain": [
       "array([[ 0,  1,  2,  3,  4],\n",
       "       [ 5,  6,  7,  8,  9],\n",
       "       [10, 11, 12, 13, 14],\n",
       "       [15, 16, 17, 18, 19]])"
      ]
     },
     "metadata": {},
     "output_type": "display_data"
    },
    {
     "data": {
      "text/plain": [
       "array([[[ 0,  1,  2,  3,  4],\n",
       "        [ 5,  6,  7,  8,  9]],\n",
       "\n",
       "       [[10, 11, 12, 13, 14],\n",
       "        [15, 16, 17, 18, 19]]])"
      ]
     },
     "metadata": {},
     "output_type": "display_data"
    }
   ],
   "source": [
    "data1 = np.arange(10)\n",
    "data2 = np.arange(20).reshape(4,5)\n",
    "data3 = np.arange(20).reshape(2,2,5)\n",
    "display(data1,data2,data3)"
   ]
  },
  {
   "cell_type": "code",
   "execution_count": 3,
   "id": "d3137d3c",
   "metadata": {},
   "outputs": [
    {
     "data": {
      "text/plain": [
       "array([100, 101, 102, 103, 104, 105, 106, 107, 108, 109])"
      ]
     },
     "metadata": {},
     "output_type": "display_data"
    },
    {
     "data": {
      "text/plain": [
       "array([-20, -19, -18, -17, -16, -15, -14, -13, -12, -11])"
      ]
     },
     "metadata": {},
     "output_type": "display_data"
    },
    {
     "data": {
      "text/plain": [
       "array([ 0, 10, 20, 30, 40, 50, 60, 70, 80, 90])"
      ]
     },
     "metadata": {},
     "output_type": "display_data"
    },
    {
     "data": {
      "text/plain": [
       "array([0. , 0.1, 0.2, 0.3, 0.4, 0.5, 0.6, 0.7, 0.8, 0.9])"
      ]
     },
     "metadata": {},
     "output_type": "display_data"
    },
    {
     "data": {
      "text/plain": [
       "array([0, 1, 0, 1, 0, 1, 0, 1, 0, 1], dtype=int32)"
      ]
     },
     "metadata": {},
     "output_type": "display_data"
    },
    {
     "data": {
      "text/plain": [
       "array([0, 0, 1, 1, 2, 2, 3, 3, 4, 4], dtype=int32)"
      ]
     },
     "metadata": {},
     "output_type": "display_data"
    },
    {
     "data": {
      "text/plain": [
       "array([ 0,  1,  4,  9, 16, 25, 36, 49, 64, 81])"
      ]
     },
     "metadata": {},
     "output_type": "display_data"
    }
   ],
   "source": [
    "display(data1 + 100, data1 - 20, data1 * 10, data1 /10, data1 % 2, data1 // 2, data1**2)"
   ]
  },
  {
   "cell_type": "code",
   "execution_count": 4,
   "id": "d06d880c",
   "metadata": {},
   "outputs": [
    {
     "data": {
      "text/plain": [
       "array([[100, 101, 102, 103, 104],\n",
       "       [105, 106, 107, 108, 109],\n",
       "       [110, 111, 112, 113, 114],\n",
       "       [115, 116, 117, 118, 119]])"
      ]
     },
     "metadata": {},
     "output_type": "display_data"
    },
    {
     "data": {
      "text/plain": [
       "array([[-20, -19, -18, -17, -16],\n",
       "       [-15, -14, -13, -12, -11],\n",
       "       [-10,  -9,  -8,  -7,  -6],\n",
       "       [ -5,  -4,  -3,  -2,  -1]])"
      ]
     },
     "metadata": {},
     "output_type": "display_data"
    },
    {
     "data": {
      "text/plain": [
       "array([[  0,  10,  20,  30,  40],\n",
       "       [ 50,  60,  70,  80,  90],\n",
       "       [100, 110, 120, 130, 140],\n",
       "       [150, 160, 170, 180, 190]])"
      ]
     },
     "metadata": {},
     "output_type": "display_data"
    },
    {
     "data": {
      "text/plain": [
       "array([[0. , 0.1, 0.2, 0.3, 0.4],\n",
       "       [0.5, 0.6, 0.7, 0.8, 0.9],\n",
       "       [1. , 1.1, 1.2, 1.3, 1.4],\n",
       "       [1.5, 1.6, 1.7, 1.8, 1.9]])"
      ]
     },
     "metadata": {},
     "output_type": "display_data"
    },
    {
     "data": {
      "text/plain": [
       "array([[0, 1, 0, 1, 0],\n",
       "       [1, 0, 1, 0, 1],\n",
       "       [0, 1, 0, 1, 0],\n",
       "       [1, 0, 1, 0, 1]], dtype=int32)"
      ]
     },
     "metadata": {},
     "output_type": "display_data"
    },
    {
     "data": {
      "text/plain": [
       "array([[0, 0, 1, 1, 2],\n",
       "       [2, 3, 3, 4, 4],\n",
       "       [5, 5, 6, 6, 7],\n",
       "       [7, 8, 8, 9, 9]], dtype=int32)"
      ]
     },
     "metadata": {},
     "output_type": "display_data"
    },
    {
     "data": {
      "text/plain": [
       "array([[  0,   1,   4,   9,  16],\n",
       "       [ 25,  36,  49,  64,  81],\n",
       "       [100, 121, 144, 169, 196],\n",
       "       [225, 256, 289, 324, 361]])"
      ]
     },
     "metadata": {},
     "output_type": "display_data"
    }
   ],
   "source": [
    "display(data2 + 100, data2 - 20, data2 * 10, data2 /10, data2 % 2, data2 // 2, data2**2)"
   ]
  },
  {
   "cell_type": "code",
   "execution_count": 5,
   "id": "6fa74e82",
   "metadata": {},
   "outputs": [
    {
     "data": {
      "text/plain": [
       "array([[[100, 101, 102, 103, 104],\n",
       "        [105, 106, 107, 108, 109]],\n",
       "\n",
       "       [[110, 111, 112, 113, 114],\n",
       "        [115, 116, 117, 118, 119]]])"
      ]
     },
     "metadata": {},
     "output_type": "display_data"
    },
    {
     "data": {
      "text/plain": [
       "array([[[-20, -19, -18, -17, -16],\n",
       "        [-15, -14, -13, -12, -11]],\n",
       "\n",
       "       [[-10,  -9,  -8,  -7,  -6],\n",
       "        [ -5,  -4,  -3,  -2,  -1]]])"
      ]
     },
     "metadata": {},
     "output_type": "display_data"
    },
    {
     "data": {
      "text/plain": [
       "array([[[  0,  10,  20,  30,  40],\n",
       "        [ 50,  60,  70,  80,  90]],\n",
       "\n",
       "       [[100, 110, 120, 130, 140],\n",
       "        [150, 160, 170, 180, 190]]])"
      ]
     },
     "metadata": {},
     "output_type": "display_data"
    },
    {
     "data": {
      "text/plain": [
       "array([[[0. , 0.1, 0.2, 0.3, 0.4],\n",
       "        [0.5, 0.6, 0.7, 0.8, 0.9]],\n",
       "\n",
       "       [[1. , 1.1, 1.2, 1.3, 1.4],\n",
       "        [1.5, 1.6, 1.7, 1.8, 1.9]]])"
      ]
     },
     "metadata": {},
     "output_type": "display_data"
    },
    {
     "data": {
      "text/plain": [
       "array([[[0, 1, 0, 1, 0],\n",
       "        [1, 0, 1, 0, 1]],\n",
       "\n",
       "       [[0, 1, 0, 1, 0],\n",
       "        [1, 0, 1, 0, 1]]], dtype=int32)"
      ]
     },
     "metadata": {},
     "output_type": "display_data"
    },
    {
     "data": {
      "text/plain": [
       "array([[[0, 0, 1, 1, 2],\n",
       "        [2, 3, 3, 4, 4]],\n",
       "\n",
       "       [[5, 5, 6, 6, 7],\n",
       "        [7, 8, 8, 9, 9]]], dtype=int32)"
      ]
     },
     "metadata": {},
     "output_type": "display_data"
    },
    {
     "data": {
      "text/plain": [
       "array([[[  0,   1,   4,   9,  16],\n",
       "        [ 25,  36,  49,  64,  81]],\n",
       "\n",
       "       [[100, 121, 144, 169, 196],\n",
       "        [225, 256, 289, 324, 361]]])"
      ]
     },
     "metadata": {},
     "output_type": "display_data"
    }
   ],
   "source": [
    "display(data3 + 100, data3 - 20, data3 * 10, data3 /10, data3 % 2, data3 // 2, data3**2)"
   ]
  },
  {
   "cell_type": "markdown",
   "id": "dc182687",
   "metadata": {},
   "source": [
    "##### 补充几个方法\n",
    "- np.exp指数运算\n",
    "- np.log对数运算、哪怕。log10\n",
    "- np.abs绝对值"
   ]
  },
  {
   "cell_type": "code",
   "execution_count": 38,
   "id": "1c22271c",
   "metadata": {},
   "outputs": [
    {
     "data": {
      "text/plain": [
       "array([[ 1,  2,  3,  4,  5],\n",
       "       [ 6,  7,  8,  9, 10],\n",
       "       [11, 12, 13, 14, 15],\n",
       "       [16, 17, 18, 19, 20]])"
      ]
     },
     "execution_count": 38,
     "metadata": {},
     "output_type": "execute_result"
    }
   ],
   "source": [
    "data = np.arange(1,21).reshape(4,5)\n",
    "data"
   ]
  },
  {
   "cell_type": "code",
   "execution_count": 39,
   "id": "fe339e13",
   "metadata": {},
   "outputs": [
    {
     "data": {
      "text/plain": [
       "array([[2.71828183e+00, 7.38905610e+00, 2.00855369e+01, 5.45981500e+01,\n",
       "        1.48413159e+02],\n",
       "       [4.03428793e+02, 1.09663316e+03, 2.98095799e+03, 8.10308393e+03,\n",
       "        2.20264658e+04],\n",
       "       [5.98741417e+04, 1.62754791e+05, 4.42413392e+05, 1.20260428e+06,\n",
       "        3.26901737e+06],\n",
       "       [8.88611052e+06, 2.41549528e+07, 6.56599691e+07, 1.78482301e+08,\n",
       "        4.85165195e+08]])"
      ]
     },
     "execution_count": 39,
     "metadata": {},
     "output_type": "execute_result"
    }
   ],
   "source": [
    "np.exp(data)"
   ]
  },
  {
   "cell_type": "code",
   "execution_count": 40,
   "id": "4fa0f7b2",
   "metadata": {},
   "outputs": [
    {
     "data": {
      "text/plain": [
       "array([[0.        , 0.69314718, 1.09861229, 1.38629436, 1.60943791],\n",
       "       [1.79175947, 1.94591015, 2.07944154, 2.19722458, 2.30258509],\n",
       "       [2.39789527, 2.48490665, 2.56494936, 2.63905733, 2.7080502 ],\n",
       "       [2.77258872, 2.83321334, 2.89037176, 2.94443898, 2.99573227]])"
      ]
     },
     "execution_count": 40,
     "metadata": {},
     "output_type": "execute_result"
    }
   ],
   "source": [
    "np.log(data)"
   ]
  },
  {
   "cell_type": "code",
   "execution_count": 41,
   "id": "14993101",
   "metadata": {},
   "outputs": [
    {
     "data": {
      "text/plain": [
       "array([[0.        , 0.30103   , 0.47712125, 0.60205999, 0.69897   ],\n",
       "       [0.77815125, 0.84509804, 0.90308999, 0.95424251, 1.        ],\n",
       "       [1.04139269, 1.07918125, 1.11394335, 1.14612804, 1.17609126],\n",
       "       [1.20411998, 1.23044892, 1.25527251, 1.2787536 , 1.30103   ]])"
      ]
     },
     "execution_count": 41,
     "metadata": {},
     "output_type": "execute_result"
    }
   ],
   "source": [
    "np.log10(data)"
   ]
  },
  {
   "cell_type": "markdown",
   "id": "846d8a76",
   "metadata": {},
   "source": [
    "#### 2. 相同维度的两个数组进行运算\n",
    "- 对应位置对应元素进行运算"
   ]
  },
  {
   "cell_type": "code",
   "execution_count": 6,
   "id": "be3b0a4a",
   "metadata": {},
   "outputs": [
    {
     "data": {
      "text/plain": [
       "array([0, 1, 2, 3, 4, 5, 6, 7, 8, 9])"
      ]
     },
     "metadata": {},
     "output_type": "display_data"
    },
    {
     "data": {
      "text/plain": [
       "array([10, 11, 12, 13, 14, 15, 16, 17, 18, 19])"
      ]
     },
     "metadata": {},
     "output_type": "display_data"
    }
   ],
   "source": [
    "data1 = np.arange(10)\n",
    "data2 = np.arange(10,20)\n",
    "display(data1,data2)"
   ]
  },
  {
   "cell_type": "code",
   "execution_count": 7,
   "id": "c39aff7d",
   "metadata": {},
   "outputs": [
    {
     "data": {
      "text/plain": [
       "array([10, 12, 14, 16, 18, 20, 22, 24, 26, 28])"
      ]
     },
     "metadata": {},
     "output_type": "display_data"
    },
    {
     "data": {
      "text/plain": [
       "array([-10, -10, -10, -10, -10, -10, -10, -10, -10, -10])"
      ]
     },
     "metadata": {},
     "output_type": "display_data"
    },
    {
     "data": {
      "text/plain": [
       "array([  0,  11,  24,  39,  56,  75,  96, 119, 144, 171])"
      ]
     },
     "metadata": {},
     "output_type": "display_data"
    },
    {
     "data": {
      "text/plain": [
       "array([0.        , 0.09090909, 0.16666667, 0.23076923, 0.28571429,\n",
       "       0.33333333, 0.375     , 0.41176471, 0.44444444, 0.47368421])"
      ]
     },
     "metadata": {},
     "output_type": "display_data"
    },
    {
     "data": {
      "text/plain": [
       "array([0, 1, 2, 3, 4, 5, 6, 7, 8, 9])"
      ]
     },
     "metadata": {},
     "output_type": "display_data"
    },
    {
     "data": {
      "text/plain": [
       "array([0, 0, 0, 0, 0, 0, 0, 0, 0, 0])"
      ]
     },
     "metadata": {},
     "output_type": "display_data"
    },
    {
     "data": {
      "text/plain": [
       "array([          0,           1,        4096,     1594323,   268435456,\n",
       "         452807053,  -683606016, -2094633337,           0,  -400556711])"
      ]
     },
     "metadata": {},
     "output_type": "display_data"
    }
   ],
   "source": [
    "display(data1+data2, data1-data2, data1*data2, data1/data2, data1%data2,data1//data2,data1**data2)"
   ]
  },
  {
   "cell_type": "code",
   "execution_count": 8,
   "id": "dc5310e2",
   "metadata": {},
   "outputs": [
    {
     "data": {
      "text/plain": [
       "array([[0, 1, 2, 3, 4],\n",
       "       [5, 6, 7, 8, 9]])"
      ]
     },
     "metadata": {},
     "output_type": "display_data"
    },
    {
     "data": {
      "text/plain": [
       "array([[10, 11, 12, 13, 14],\n",
       "       [15, 16, 17, 18, 19]])"
      ]
     },
     "metadata": {},
     "output_type": "display_data"
    }
   ],
   "source": [
    "data1 = np.arange(10).reshape(2,5)\n",
    "data2 = np.arange(10,20).reshape(2,5)\n",
    "display(data1,data2)"
   ]
  },
  {
   "cell_type": "code",
   "execution_count": 9,
   "id": "d2d9290f",
   "metadata": {},
   "outputs": [
    {
     "data": {
      "text/plain": [
       "array([[10, 12, 14, 16, 18],\n",
       "       [20, 22, 24, 26, 28]])"
      ]
     },
     "metadata": {},
     "output_type": "display_data"
    },
    {
     "data": {
      "text/plain": [
       "array([[-10, -10, -10, -10, -10],\n",
       "       [-10, -10, -10, -10, -10]])"
      ]
     },
     "metadata": {},
     "output_type": "display_data"
    },
    {
     "data": {
      "text/plain": [
       "array([[  0,  11,  24,  39,  56],\n",
       "       [ 75,  96, 119, 144, 171]])"
      ]
     },
     "metadata": {},
     "output_type": "display_data"
    },
    {
     "data": {
      "text/plain": [
       "array([[0.        , 0.09090909, 0.16666667, 0.23076923, 0.28571429],\n",
       "       [0.33333333, 0.375     , 0.41176471, 0.44444444, 0.47368421]])"
      ]
     },
     "metadata": {},
     "output_type": "display_data"
    },
    {
     "data": {
      "text/plain": [
       "array([[0, 1, 2, 3, 4],\n",
       "       [5, 6, 7, 8, 9]])"
      ]
     },
     "metadata": {},
     "output_type": "display_data"
    },
    {
     "data": {
      "text/plain": [
       "array([[0, 0, 0, 0, 0],\n",
       "       [0, 0, 0, 0, 0]])"
      ]
     },
     "metadata": {},
     "output_type": "display_data"
    },
    {
     "data": {
      "text/plain": [
       "array([[          0,           1,        4096,     1594323,   268435456],\n",
       "       [  452807053,  -683606016, -2094633337,           0,  -400556711]])"
      ]
     },
     "metadata": {},
     "output_type": "display_data"
    }
   ],
   "source": [
    "display(data1+data2, data1-data2, data1*data2, data1/data2, data1%data2,data1//data2,data1**data2)"
   ]
  },
  {
   "cell_type": "code",
   "execution_count": 10,
   "id": "17dbafbf",
   "metadata": {},
   "outputs": [
    {
     "data": {
      "text/plain": [
       "array([[[ 0,  1,  2,  3],\n",
       "        [ 4,  5,  6,  7],\n",
       "        [ 8,  9, 10, 11]],\n",
       "\n",
       "       [[12, 13, 14, 15],\n",
       "        [16, 17, 18, 19],\n",
       "        [20, 21, 22, 23]]])"
      ]
     },
     "metadata": {},
     "output_type": "display_data"
    },
    {
     "data": {
      "text/plain": [
       "array([[[24, 25, 26, 27],\n",
       "        [28, 29, 30, 31],\n",
       "        [32, 33, 34, 35]],\n",
       "\n",
       "       [[36, 37, 38, 39],\n",
       "        [40, 41, 42, 43],\n",
       "        [44, 45, 46, 47]]])"
      ]
     },
     "metadata": {},
     "output_type": "display_data"
    }
   ],
   "source": [
    "data1 = np.arange(24).reshape(2,3,4)\n",
    "data2 = np.arange(24,48).reshape(2,3,4)\n",
    "display(data1,data2)"
   ]
  },
  {
   "cell_type": "code",
   "execution_count": 11,
   "id": "01384180",
   "metadata": {},
   "outputs": [
    {
     "data": {
      "text/plain": [
       "array([[[24, 26, 28, 30],\n",
       "        [32, 34, 36, 38],\n",
       "        [40, 42, 44, 46]],\n",
       "\n",
       "       [[48, 50, 52, 54],\n",
       "        [56, 58, 60, 62],\n",
       "        [64, 66, 68, 70]]])"
      ]
     },
     "metadata": {},
     "output_type": "display_data"
    },
    {
     "data": {
      "text/plain": [
       "array([[[-24, -24, -24, -24],\n",
       "        [-24, -24, -24, -24],\n",
       "        [-24, -24, -24, -24]],\n",
       "\n",
       "       [[-24, -24, -24, -24],\n",
       "        [-24, -24, -24, -24],\n",
       "        [-24, -24, -24, -24]]])"
      ]
     },
     "metadata": {},
     "output_type": "display_data"
    },
    {
     "data": {
      "text/plain": [
       "array([[[   0,   25,   52,   81],\n",
       "        [ 112,  145,  180,  217],\n",
       "        [ 256,  297,  340,  385]],\n",
       "\n",
       "       [[ 432,  481,  532,  585],\n",
       "        [ 640,  697,  756,  817],\n",
       "        [ 880,  945, 1012, 1081]]])"
      ]
     },
     "metadata": {},
     "output_type": "display_data"
    },
    {
     "data": {
      "text/plain": [
       "array([[[0.        , 0.04      , 0.07692308, 0.11111111],\n",
       "        [0.14285714, 0.17241379, 0.2       , 0.22580645],\n",
       "        [0.25      , 0.27272727, 0.29411765, 0.31428571]],\n",
       "\n",
       "       [[0.33333333, 0.35135135, 0.36842105, 0.38461538],\n",
       "        [0.4       , 0.41463415, 0.42857143, 0.44186047],\n",
       "        [0.45454545, 0.46666667, 0.47826087, 0.4893617 ]]])"
      ]
     },
     "metadata": {},
     "output_type": "display_data"
    },
    {
     "data": {
      "text/plain": [
       "array([[[ 0,  1,  2,  3],\n",
       "        [ 4,  5,  6,  7],\n",
       "        [ 8,  9, 10, 11]],\n",
       "\n",
       "       [[12, 13, 14, 15],\n",
       "        [16, 17, 18, 19],\n",
       "        [20, 21, 22, 23]]])"
      ]
     },
     "metadata": {},
     "output_type": "display_data"
    },
    {
     "data": {
      "text/plain": [
       "array([[[0, 0, 0, 0],\n",
       "        [0, 0, 0, 0],\n",
       "        [0, 0, 0, 0]],\n",
       "\n",
       "       [[0, 0, 0, 0],\n",
       "        [0, 0, 0, 0],\n",
       "        [0, 0, 0, 0]]])"
      ]
     },
     "metadata": {},
     "output_type": "display_data"
    },
    {
     "data": {
      "text/plain": [
       "array([[[          0,           1,    67108864,  2030534587],\n",
       "        [          0,  1804648021,  1073741824,   265001655],\n",
       "        [          0,  1165272329,           0,   223731123]],\n",
       "\n",
       "       [[          0, -1053241123,           0,  1119702383],\n",
       "        [          0,  -946637167,           0,   764714667],\n",
       "        [          0,   101251813,           0,  1016499751]]])"
      ]
     },
     "metadata": {},
     "output_type": "display_data"
    }
   ],
   "source": [
    "display(data1+data2, data1-data2, data1*data2, data1/data2, data1%data2,data1//data2,data1**data2)"
   ]
  },
  {
   "cell_type": "markdown",
   "id": "2a6ec79c",
   "metadata": {},
   "source": [
    "#### 3. 不同维度的两个数组进行运算\n",
    "- 这里不同维度包括两种情况：\n",
    "    1. 维度个数不同，例如一个一维，一个二维 \n",
    "    2. 相同维度，但是数据个数不同，例如两个都是二维数组，一个(2,3)，一个(3,2)\n",
    "- 若符合广播机制，则可以运算，并且运算结果的维度，是两个数组维度高的形状\n",
    "- 若不符合广播机制，则无法计算"
   ]
  },
  {
   "cell_type": "markdown",
   "id": "f1c74f12",
   "metadata": {},
   "source": [
    "#### 广播机制\n",
    "- 相同维度，但是数据个数不同：\n",
    "    - 如果对应维度的个数不同，但是不同的那个维度，元素个数为1，则可以广播\n",
    "        - 例如：\n",
    "            1. a = (2,3) b=(2,1) 可以，1轴的元素个数不同，但是b的1轴是1，满足广播机制\n",
    "            2. a = (2,3) b=(2,4) 不可以，1轴的元素个数不同，且都不为1，不满足广播机制\n",
    "            3. a = (1,2,3) b=(3,1,3) 可以，0轴和1轴不同，但是存在1，满足广播机制\n",
    "    - 如果维度不同，但是相对于低维数组，高维数组除去多出的维度，从右往左数，其元素个数不同的维度，为1，则满足广播机制\n",
    "        - 例如：\n",
    "            1. a = (1,2,3) b=(2,3) 可以，从右往左看，第一个轴、第二个轴元素个数相同，满足广播机制\n",
    "            2. a = (3,1,5) b = (1,6) 不可以，从右往左看，第一个轴元素个数不同，且不是1，不满足广播机制\n",
    "            3. a = (3,1,5) b = (1,5) 可以，从右往左看，第一个轴、第二个轴元素个数相同，满足广播机制\n",
    "            4. a = (1,2,1,2) b=(2,5,2) 可以，从右往左看，第二个轴元素个数相同，但是值为1，满足广播机制\n",
    "            - 特别的：\n",
    "                - a=(1,2,3) b=(3,) 可以，像这样的一维数组，(n,) 当作 (1,n)形状进行广播判断\n",
    "- 广播计算后的形状：\n",
    "    - 对应维度的个数不同：\n",
    "        1. a = (2,3) b=(2,1)   b进行元素复制 => b=(2,3)  计算结果为 (2,3)\n",
    "        2. a = (1,2,3) b=(3,1,3) a进行元素复制 => a=(3,2,3) b进行元素复制 => b=(3, 2,3) 计算结果为 (3,2,3)\n",
    "    - 维度不同:\n",
    "        1. a = (1,2,3) b=(2,3)  b进行元素复制 => b=(1, 2,3) 计算结果为 (1,2,3)\n",
    "        2. a = (1,2,1,2) b=(2,5,2) a进行元素复制 => a=(1,2,5,2) b进行元素复制 => b=(1,2,5,2) 计算结果为 b=(1,2,5,2)\n",
    "        3. a=(1,2,3) b=(3,)   b进行元素复制 => b=(1, 2,3)  计算结果为 (1,2,3)"
   ]
  },
  {
   "cell_type": "markdown",
   "id": "23f599c3",
   "metadata": {},
   "source": [
    "#### 对应维度的个数不同"
   ]
  },
  {
   "cell_type": "code",
   "execution_count": 14,
   "id": "011ca525",
   "metadata": {},
   "outputs": [
    {
     "data": {
      "text/plain": [
       "array([[1, 2, 3],\n",
       "       [4, 5, 6]])"
      ]
     },
     "metadata": {},
     "output_type": "display_data"
    },
    {
     "data": {
      "text/plain": [
       "array([[1],\n",
       "       [2]])"
      ]
     },
     "metadata": {},
     "output_type": "display_data"
    }
   ],
   "source": [
    "a = np.arange(1,7).reshape(2,3)\n",
    "b = np.arange(1,3).reshape(2,1)\n",
    "display(a,b)"
   ]
  },
  {
   "cell_type": "code",
   "execution_count": 15,
   "id": "d09afe4c",
   "metadata": {},
   "outputs": [
    {
     "data": {
      "text/plain": [
       "array([[2, 3, 4],\n",
       "       [6, 7, 8]])"
      ]
     },
     "metadata": {},
     "output_type": "display_data"
    },
    {
     "data": {
      "text/plain": [
       "array([[0, 1, 2],\n",
       "       [2, 3, 4]])"
      ]
     },
     "metadata": {},
     "output_type": "display_data"
    },
    {
     "data": {
      "text/plain": [
       "array([[ 1,  2,  3],\n",
       "       [ 8, 10, 12]])"
      ]
     },
     "metadata": {},
     "output_type": "display_data"
    },
    {
     "data": {
      "text/plain": [
       "array([[1. , 2. , 3. ],\n",
       "       [2. , 2.5, 3. ]])"
      ]
     },
     "metadata": {},
     "output_type": "display_data"
    },
    {
     "data": {
      "text/plain": [
       "array([[0, 0, 0],\n",
       "       [0, 1, 0]])"
      ]
     },
     "metadata": {},
     "output_type": "display_data"
    },
    {
     "data": {
      "text/plain": [
       "array([[1, 2, 3],\n",
       "       [2, 2, 3]])"
      ]
     },
     "metadata": {},
     "output_type": "display_data"
    },
    {
     "data": {
      "text/plain": [
       "array([[ 1,  2,  3],\n",
       "       [16, 25, 36]])"
      ]
     },
     "metadata": {},
     "output_type": "display_data"
    }
   ],
   "source": [
    "display(a + b, a - b, a * b, a / b, a%b, a//b, a**b)"
   ]
  },
  {
   "cell_type": "code",
   "execution_count": 16,
   "id": "d6fbeaf7",
   "metadata": {},
   "outputs": [
    {
     "data": {
      "text/plain": [
       "array([[1, 2, 3],\n",
       "       [4, 5, 6]])"
      ]
     },
     "metadata": {},
     "output_type": "display_data"
    },
    {
     "data": {
      "text/plain": [
       "array([[1, 2, 3, 4],\n",
       "       [5, 6, 7, 8]])"
      ]
     },
     "metadata": {},
     "output_type": "display_data"
    }
   ],
   "source": [
    "a = np.arange(1,7).reshape(2,3)\n",
    "b = np.arange(1,9).reshape(2,4)\n",
    "display(a,b)"
   ]
  },
  {
   "cell_type": "code",
   "execution_count": 17,
   "id": "ae892824",
   "metadata": {},
   "outputs": [
    {
     "ename": "ValueError",
     "evalue": "operands could not be broadcast together with shapes (2,3) (2,4) ",
     "output_type": "error",
     "traceback": [
      "\u001b[1;31m---------------------------------------------------------------------------\u001b[0m",
      "\u001b[1;31mValueError\u001b[0m                                Traceback (most recent call last)",
      "Cell \u001b[1;32mIn[17], line 1\u001b[0m\n\u001b[1;32m----> 1\u001b[0m \u001b[43ma\u001b[49m\u001b[43m \u001b[49m\u001b[38;5;241;43m+\u001b[39;49m\u001b[43m \u001b[49m\u001b[43mb\u001b[49m\n",
      "\u001b[1;31mValueError\u001b[0m: operands could not be broadcast together with shapes (2,3) (2,4) "
     ]
    }
   ],
   "source": [
    "a + b"
   ]
  },
  {
   "cell_type": "code",
   "execution_count": 18,
   "id": "e353c77b",
   "metadata": {},
   "outputs": [
    {
     "data": {
      "text/plain": [
       "array([[1, 2, 3],\n",
       "       [4, 5, 6]])"
      ]
     },
     "metadata": {},
     "output_type": "display_data"
    },
    {
     "data": {
      "text/plain": [
       "array([[[1, 2, 3]],\n",
       "\n",
       "       [[4, 5, 6]],\n",
       "\n",
       "       [[7, 8, 9]]])"
      ]
     },
     "metadata": {},
     "output_type": "display_data"
    }
   ],
   "source": [
    "a = np.arange(1,7).reshape(2,3)\n",
    "b = np.arange(1,10).reshape(3,1,3)\n",
    "display(a,b)"
   ]
  },
  {
   "cell_type": "code",
   "execution_count": 19,
   "id": "0ce75584",
   "metadata": {},
   "outputs": [
    {
     "data": {
      "text/plain": [
       "array([[[ 2,  4,  6],\n",
       "        [ 5,  7,  9]],\n",
       "\n",
       "       [[ 5,  7,  9],\n",
       "        [ 8, 10, 12]],\n",
       "\n",
       "       [[ 8, 10, 12],\n",
       "        [11, 13, 15]]])"
      ]
     },
     "metadata": {},
     "output_type": "display_data"
    },
    {
     "data": {
      "text/plain": [
       "array([[[ 0,  0,  0],\n",
       "        [ 3,  3,  3]],\n",
       "\n",
       "       [[-3, -3, -3],\n",
       "        [ 0,  0,  0]],\n",
       "\n",
       "       [[-6, -6, -6],\n",
       "        [-3, -3, -3]]])"
      ]
     },
     "metadata": {},
     "output_type": "display_data"
    },
    {
     "data": {
      "text/plain": [
       "array([[[ 1,  4,  9],\n",
       "        [ 4, 10, 18]],\n",
       "\n",
       "       [[ 4, 10, 18],\n",
       "        [16, 25, 36]],\n",
       "\n",
       "       [[ 7, 16, 27],\n",
       "        [28, 40, 54]]])"
      ]
     },
     "metadata": {},
     "output_type": "display_data"
    },
    {
     "data": {
      "text/plain": [
       "array([[[1.        , 1.        , 1.        ],\n",
       "        [4.        , 2.5       , 2.        ]],\n",
       "\n",
       "       [[0.25      , 0.4       , 0.5       ],\n",
       "        [1.        , 1.        , 1.        ]],\n",
       "\n",
       "       [[0.14285714, 0.25      , 0.33333333],\n",
       "        [0.57142857, 0.625     , 0.66666667]]])"
      ]
     },
     "metadata": {},
     "output_type": "display_data"
    },
    {
     "data": {
      "text/plain": [
       "array([[[0, 0, 0],\n",
       "        [0, 1, 0]],\n",
       "\n",
       "       [[1, 2, 3],\n",
       "        [0, 0, 0]],\n",
       "\n",
       "       [[1, 2, 3],\n",
       "        [4, 5, 6]]])"
      ]
     },
     "metadata": {},
     "output_type": "display_data"
    },
    {
     "data": {
      "text/plain": [
       "array([[[1, 1, 1],\n",
       "        [4, 2, 2]],\n",
       "\n",
       "       [[0, 0, 0],\n",
       "        [1, 1, 1]],\n",
       "\n",
       "       [[0, 0, 0],\n",
       "        [0, 0, 0]]])"
      ]
     },
     "metadata": {},
     "output_type": "display_data"
    },
    {
     "data": {
      "text/plain": [
       "array([[[       1,        4,       27],\n",
       "        [       4,       25,      216]],\n",
       "\n",
       "       [[       1,       32,      729],\n",
       "        [     256,     3125,    46656]],\n",
       "\n",
       "       [[       1,      256,    19683],\n",
       "        [   16384,   390625, 10077696]]])"
      ]
     },
     "metadata": {},
     "output_type": "display_data"
    }
   ],
   "source": [
    "display(a + b, a - b, a * b, a / b, a%b, a//b, a**b)"
   ]
  },
  {
   "cell_type": "markdown",
   "id": "adc218f7",
   "metadata": {},
   "source": [
    "#### 维度不同"
   ]
  },
  {
   "cell_type": "code",
   "execution_count": 20,
   "id": "fc463aee",
   "metadata": {},
   "outputs": [
    {
     "data": {
      "text/plain": [
       "array([[[1, 2, 3],\n",
       "        [4, 5, 6]]])"
      ]
     },
     "metadata": {},
     "output_type": "display_data"
    },
    {
     "data": {
      "text/plain": [
       "array([[1, 2, 3],\n",
       "       [4, 5, 6]])"
      ]
     },
     "metadata": {},
     "output_type": "display_data"
    }
   ],
   "source": [
    "a = np.arange(1,7).reshape(1,2,3)\n",
    "b = np.arange(1,7).reshape(2,3)\n",
    "display(a,b)"
   ]
  },
  {
   "cell_type": "code",
   "execution_count": 21,
   "id": "03f24f5f",
   "metadata": {},
   "outputs": [
    {
     "data": {
      "text/plain": [
       "array([[[ 2,  4,  6],\n",
       "        [ 8, 10, 12]]])"
      ]
     },
     "metadata": {},
     "output_type": "display_data"
    },
    {
     "data": {
      "text/plain": [
       "array([[[0, 0, 0],\n",
       "        [0, 0, 0]]])"
      ]
     },
     "metadata": {},
     "output_type": "display_data"
    },
    {
     "data": {
      "text/plain": [
       "array([[[ 1,  4,  9],\n",
       "        [16, 25, 36]]])"
      ]
     },
     "metadata": {},
     "output_type": "display_data"
    },
    {
     "data": {
      "text/plain": [
       "array([[[1., 1., 1.],\n",
       "        [1., 1., 1.]]])"
      ]
     },
     "metadata": {},
     "output_type": "display_data"
    },
    {
     "data": {
      "text/plain": [
       "array([[[0, 0, 0],\n",
       "        [0, 0, 0]]])"
      ]
     },
     "metadata": {},
     "output_type": "display_data"
    },
    {
     "data": {
      "text/plain": [
       "array([[[1, 1, 1],\n",
       "        [1, 1, 1]]])"
      ]
     },
     "metadata": {},
     "output_type": "display_data"
    },
    {
     "data": {
      "text/plain": [
       "array([[[    1,     4,    27],\n",
       "        [  256,  3125, 46656]]])"
      ]
     },
     "metadata": {},
     "output_type": "display_data"
    }
   ],
   "source": [
    "display(a + b, a - b, a * b, a / b, a%b, a//b, a**b)"
   ]
  },
  {
   "cell_type": "code",
   "execution_count": 22,
   "id": "1326bd26",
   "metadata": {},
   "outputs": [
    {
     "data": {
      "text/plain": [
       "array([[[ 1,  2,  3,  4,  5]],\n",
       "\n",
       "       [[ 6,  7,  8,  9, 10]],\n",
       "\n",
       "       [[11, 12, 13, 14, 15]]])"
      ]
     },
     "metadata": {},
     "output_type": "display_data"
    },
    {
     "data": {
      "text/plain": [
       "array([[1, 2, 3, 4, 5, 6]])"
      ]
     },
     "metadata": {},
     "output_type": "display_data"
    }
   ],
   "source": [
    "a = np.arange(1,16).reshape(3,1,5)\n",
    "b = np.arange(1,7).reshape(1,6)\n",
    "display(a,b)"
   ]
  },
  {
   "cell_type": "code",
   "execution_count": 23,
   "id": "a666bd43",
   "metadata": {},
   "outputs": [
    {
     "ename": "ValueError",
     "evalue": "operands could not be broadcast together with shapes (3,1,5) (1,6) ",
     "output_type": "error",
     "traceback": [
      "\u001b[1;31m---------------------------------------------------------------------------\u001b[0m",
      "\u001b[1;31mValueError\u001b[0m                                Traceback (most recent call last)",
      "Cell \u001b[1;32mIn[23], line 1\u001b[0m\n\u001b[1;32m----> 1\u001b[0m display(\u001b[43ma\u001b[49m\u001b[43m \u001b[49m\u001b[38;5;241;43m+\u001b[39;49m\u001b[43m \u001b[49m\u001b[43mb\u001b[49m, a \u001b[38;5;241m-\u001b[39m b, a \u001b[38;5;241m*\u001b[39m b, a \u001b[38;5;241m/\u001b[39m b, a\u001b[38;5;241m%\u001b[39mb, a\u001b[38;5;241m/\u001b[39m\u001b[38;5;241m/\u001b[39mb, a\u001b[38;5;241m*\u001b[39m\u001b[38;5;241m*\u001b[39mb)\n",
      "\u001b[1;31mValueError\u001b[0m: operands could not be broadcast together with shapes (3,1,5) (1,6) "
     ]
    }
   ],
   "source": [
    "display(a + b, a - b, a * b, a / b, a%b, a//b, a**b)"
   ]
  },
  {
   "cell_type": "code",
   "execution_count": 24,
   "id": "24fe7846",
   "metadata": {},
   "outputs": [
    {
     "data": {
      "text/plain": [
       "array([[[ 1,  2,  3,  4,  5]],\n",
       "\n",
       "       [[ 6,  7,  8,  9, 10]],\n",
       "\n",
       "       [[11, 12, 13, 14, 15]]])"
      ]
     },
     "metadata": {},
     "output_type": "display_data"
    },
    {
     "data": {
      "text/plain": [
       "array([[1, 2, 3, 4, 5]])"
      ]
     },
     "metadata": {},
     "output_type": "display_data"
    }
   ],
   "source": [
    "a = np.arange(1,16).reshape(3,1,5)\n",
    "b = np.arange(1,6).reshape(1,5)\n",
    "display(a,b)"
   ]
  },
  {
   "cell_type": "code",
   "execution_count": 25,
   "id": "5515fa58",
   "metadata": {},
   "outputs": [
    {
     "data": {
      "text/plain": [
       "array([[[ 2,  4,  6,  8, 10]],\n",
       "\n",
       "       [[ 7,  9, 11, 13, 15]],\n",
       "\n",
       "       [[12, 14, 16, 18, 20]]])"
      ]
     },
     "metadata": {},
     "output_type": "display_data"
    },
    {
     "data": {
      "text/plain": [
       "array([[[ 0,  0,  0,  0,  0]],\n",
       "\n",
       "       [[ 5,  5,  5,  5,  5]],\n",
       "\n",
       "       [[10, 10, 10, 10, 10]]])"
      ]
     },
     "metadata": {},
     "output_type": "display_data"
    },
    {
     "data": {
      "text/plain": [
       "array([[[ 1,  4,  9, 16, 25]],\n",
       "\n",
       "       [[ 6, 14, 24, 36, 50]],\n",
       "\n",
       "       [[11, 24, 39, 56, 75]]])"
      ]
     },
     "metadata": {},
     "output_type": "display_data"
    },
    {
     "data": {
      "text/plain": [
       "array([[[ 1.        ,  1.        ,  1.        ,  1.        ,\n",
       "          1.        ]],\n",
       "\n",
       "       [[ 6.        ,  3.5       ,  2.66666667,  2.25      ,\n",
       "          2.        ]],\n",
       "\n",
       "       [[11.        ,  6.        ,  4.33333333,  3.5       ,\n",
       "          3.        ]]])"
      ]
     },
     "metadata": {},
     "output_type": "display_data"
    },
    {
     "data": {
      "text/plain": [
       "array([[[0, 0, 0, 0, 0]],\n",
       "\n",
       "       [[0, 1, 2, 1, 0]],\n",
       "\n",
       "       [[0, 0, 1, 2, 0]]])"
      ]
     },
     "metadata": {},
     "output_type": "display_data"
    },
    {
     "data": {
      "text/plain": [
       "array([[[ 1,  1,  1,  1,  1]],\n",
       "\n",
       "       [[ 6,  3,  2,  2,  2]],\n",
       "\n",
       "       [[11,  6,  4,  3,  3]]])"
      ]
     },
     "metadata": {},
     "output_type": "display_data"
    },
    {
     "data": {
      "text/plain": [
       "array([[[     1,      4,     27,    256,   3125]],\n",
       "\n",
       "       [[     6,     49,    512,   6561, 100000]],\n",
       "\n",
       "       [[    11,    144,   2197,  38416, 759375]]])"
      ]
     },
     "metadata": {},
     "output_type": "display_data"
    }
   ],
   "source": [
    "display(a + b, a - b, a * b, a / b, a%b, a//b, a**b)"
   ]
  },
  {
   "cell_type": "code",
   "execution_count": 26,
   "id": "715a1248",
   "metadata": {},
   "outputs": [
    {
     "data": {
      "text/plain": [
       "array([[[[1, 2]],\n",
       "\n",
       "        [[3, 4]]]])"
      ]
     },
     "metadata": {},
     "output_type": "display_data"
    },
    {
     "data": {
      "text/plain": [
       "array([[[ 1,  2],\n",
       "        [ 3,  4],\n",
       "        [ 5,  6],\n",
       "        [ 7,  8],\n",
       "        [ 9, 10]],\n",
       "\n",
       "       [[11, 12],\n",
       "        [13, 14],\n",
       "        [15, 16],\n",
       "        [17, 18],\n",
       "        [19, 20]]])"
      ]
     },
     "metadata": {},
     "output_type": "display_data"
    }
   ],
   "source": [
    "a = np.arange(1,5).reshape(1,2,1,2)\n",
    "b = np.arange(1,21).reshape(2,5,2)\n",
    "display(a,b)"
   ]
  },
  {
   "cell_type": "code",
   "execution_count": 27,
   "id": "4c9893a2",
   "metadata": {},
   "outputs": [
    {
     "data": {
      "text/plain": [
       "array([[[[ 2,  4],\n",
       "         [ 4,  6],\n",
       "         [ 6,  8],\n",
       "         [ 8, 10],\n",
       "         [10, 12]],\n",
       "\n",
       "        [[14, 16],\n",
       "         [16, 18],\n",
       "         [18, 20],\n",
       "         [20, 22],\n",
       "         [22, 24]]]])"
      ]
     },
     "metadata": {},
     "output_type": "display_data"
    },
    {
     "data": {
      "text/plain": [
       "array([[[[  0,   0],\n",
       "         [ -2,  -2],\n",
       "         [ -4,  -4],\n",
       "         [ -6,  -6],\n",
       "         [ -8,  -8]],\n",
       "\n",
       "        [[ -8,  -8],\n",
       "         [-10, -10],\n",
       "         [-12, -12],\n",
       "         [-14, -14],\n",
       "         [-16, -16]]]])"
      ]
     },
     "metadata": {},
     "output_type": "display_data"
    },
    {
     "data": {
      "text/plain": [
       "array([[[[ 1,  4],\n",
       "         [ 3,  8],\n",
       "         [ 5, 12],\n",
       "         [ 7, 16],\n",
       "         [ 9, 20]],\n",
       "\n",
       "        [[33, 48],\n",
       "         [39, 56],\n",
       "         [45, 64],\n",
       "         [51, 72],\n",
       "         [57, 80]]]])"
      ]
     },
     "metadata": {},
     "output_type": "display_data"
    },
    {
     "data": {
      "text/plain": [
       "array([[[[1.        , 1.        ],\n",
       "         [0.33333333, 0.5       ],\n",
       "         [0.2       , 0.33333333],\n",
       "         [0.14285714, 0.25      ],\n",
       "         [0.11111111, 0.2       ]],\n",
       "\n",
       "        [[0.27272727, 0.33333333],\n",
       "         [0.23076923, 0.28571429],\n",
       "         [0.2       , 0.25      ],\n",
       "         [0.17647059, 0.22222222],\n",
       "         [0.15789474, 0.2       ]]]])"
      ]
     },
     "metadata": {},
     "output_type": "display_data"
    },
    {
     "data": {
      "text/plain": [
       "array([[[[0, 0],\n",
       "         [1, 2],\n",
       "         [1, 2],\n",
       "         [1, 2],\n",
       "         [1, 2]],\n",
       "\n",
       "        [[3, 4],\n",
       "         [3, 4],\n",
       "         [3, 4],\n",
       "         [3, 4],\n",
       "         [3, 4]]]])"
      ]
     },
     "metadata": {},
     "output_type": "display_data"
    },
    {
     "data": {
      "text/plain": [
       "array([[[[1, 1],\n",
       "         [0, 0],\n",
       "         [0, 0],\n",
       "         [0, 0],\n",
       "         [0, 0]],\n",
       "\n",
       "        [[0, 0],\n",
       "         [0, 0],\n",
       "         [0, 0],\n",
       "         [0, 0],\n",
       "         [0, 0]]]])"
      ]
     },
     "metadata": {},
     "output_type": "display_data"
    },
    {
     "data": {
      "text/plain": [
       "array([[[[         1,          4],\n",
       "         [         1,         16],\n",
       "         [         1,         64],\n",
       "         [         1,        256],\n",
       "         [         1,       1024]],\n",
       "\n",
       "        [[    177147,   16777216],\n",
       "         [   1594323,  268435456],\n",
       "         [  14348907,          0],\n",
       "         [ 129140163,          0],\n",
       "         [1162261467,          0]]]])"
      ]
     },
     "metadata": {},
     "output_type": "display_data"
    }
   ],
   "source": [
    "display(a + b, a - b, a * b, a / b, a%b, a//b, a**b)"
   ]
  },
  {
   "cell_type": "code",
   "execution_count": 30,
   "id": "a48db4ea",
   "metadata": {},
   "outputs": [
    {
     "data": {
      "text/plain": [
       "array([[[1, 2, 3],\n",
       "        [4, 5, 6]]])"
      ]
     },
     "metadata": {},
     "output_type": "display_data"
    },
    {
     "data": {
      "text/plain": [
       "array([1, 2, 3])"
      ]
     },
     "metadata": {},
     "output_type": "display_data"
    }
   ],
   "source": [
    "a = np.arange(1,7).reshape(1,2,3)\n",
    "b = np.arange(1,4)\n",
    "display(a,b)"
   ]
  },
  {
   "cell_type": "code",
   "execution_count": 31,
   "id": "3b94c952",
   "metadata": {},
   "outputs": [
    {
     "data": {
      "text/plain": [
       "array([[[2, 4, 6],\n",
       "        [5, 7, 9]]])"
      ]
     },
     "metadata": {},
     "output_type": "display_data"
    },
    {
     "data": {
      "text/plain": [
       "array([[[0, 0, 0],\n",
       "        [3, 3, 3]]])"
      ]
     },
     "metadata": {},
     "output_type": "display_data"
    },
    {
     "data": {
      "text/plain": [
       "array([[[ 1,  4,  9],\n",
       "        [ 4, 10, 18]]])"
      ]
     },
     "metadata": {},
     "output_type": "display_data"
    },
    {
     "data": {
      "text/plain": [
       "array([[[1. , 1. , 1. ],\n",
       "        [4. , 2.5, 2. ]]])"
      ]
     },
     "metadata": {},
     "output_type": "display_data"
    },
    {
     "data": {
      "text/plain": [
       "array([[[0, 0, 0],\n",
       "        [0, 1, 0]]])"
      ]
     },
     "metadata": {},
     "output_type": "display_data"
    },
    {
     "data": {
      "text/plain": [
       "array([[[1, 1, 1],\n",
       "        [4, 2, 2]]])"
      ]
     },
     "metadata": {},
     "output_type": "display_data"
    },
    {
     "data": {
      "text/plain": [
       "array([[[  1,   4,  27],\n",
       "        [  4,  25, 216]]])"
      ]
     },
     "metadata": {},
     "output_type": "display_data"
    }
   ],
   "source": [
    "display(a + b, a - b, a * b, a / b, a%b, a//b, a**b)"
   ]
  },
  {
   "cell_type": "markdown",
   "id": "1164199c",
   "metadata": {},
   "source": [
    "##### 一些判断方法\n",
    "- np.isnan(数组)\t判断数组中元素是否是空值（NaN）\t返回：布尔数组\n",
    "- np.isinf(数组)\t判断数组中元素是否是无穷大或无穷小\t返回：布尔数组\n",
    "- np.isfinite(数组)\t判断数组中元素是否是有限数值\t返回：布尔数组\n",
    "- np.floor(数组)\t数组中元素向下取整，比元素小的最大整数\t返回：数组\n",
    "- np.ceil(数组)\t数组中元素向上取整，比元素大的最小整数\t返回：数组\n",
    "- np.abs(数组)\t数组中元素取绝对值\t返回：数组\n",
    "- np.square(数组)\t数组中元素求平方\t返回：数组"
   ]
  },
  {
   "cell_type": "code",
   "execution_count": 43,
   "id": "eaa4f97e",
   "metadata": {},
   "outputs": [
    {
     "data": {
      "text/plain": [
       "array([[ 0., nan,  2.,  3.,  4.],\n",
       "       [ 5.,  6.,  7.,  8.,  9.]])"
      ]
     },
     "execution_count": 43,
     "metadata": {},
     "output_type": "execute_result"
    }
   ],
   "source": [
    "data = np.arange(10,dtype=np.float64).reshape(2,5)\n",
    "data[0, 1] = np.nan\n",
    "data"
   ]
  },
  {
   "cell_type": "code",
   "execution_count": 44,
   "id": "403c8ea5",
   "metadata": {},
   "outputs": [
    {
     "data": {
      "text/plain": [
       "array([[False,  True, False, False, False],\n",
       "       [False, False, False, False, False]])"
      ]
     },
     "execution_count": 44,
     "metadata": {},
     "output_type": "execute_result"
    }
   ],
   "source": [
    "np.isnan(data)"
   ]
  },
  {
   "cell_type": "code",
   "execution_count": 45,
   "id": "1ed6da1a",
   "metadata": {},
   "outputs": [
    {
     "data": {
      "text/plain": [
       "array([[False, False, False, False, False],\n",
       "       [False, False, False, False, False]])"
      ]
     },
     "execution_count": 45,
     "metadata": {},
     "output_type": "execute_result"
    }
   ],
   "source": [
    "np.isinf(data)"
   ]
  },
  {
   "cell_type": "markdown",
   "id": "4247d672",
   "metadata": {},
   "source": [
    "### np.where(条件, x, y)：数组中元素若满足条件，则值为x，否则值为y。返回：数组\n",
    "- np.where(条件)：如果对象是一维数组，则返回满足条件元素的下标组成的一维数组\n",
    "- np.where(条件)：如果对象是二维数组：\n",
    "    - 则返回一个元组，元组的元素是数组，元组有两个元素，分别是满足条件的元素行索引组成的数组和列索引组成的数组\n",
    "- np.where(条件)：如果对象是高维数组：以此类推\n",
    "- np.where(条件, x, y)：则满足条件的元素，使用x进行替换，不满足的使用y进行替换\n",
    "- 特别的： 设a是一个数组\n",
    "    - np.where(条件, a, y) ：则满足条件的元素还保持不变，不满足的元素使用y替换\n",
    "    - np.where(条件, x, a) ：则满足条件的元素使用x替换，不满足的元素还保持不变\n",
    "- np.where(条件, x, y)：\n",
    "    - 因为条件执行后是布尔数组，因此直接传递布尔数组也可以"
   ]
  },
  {
   "cell_type": "code",
   "execution_count": 50,
   "id": "566732f3",
   "metadata": {},
   "outputs": [
    {
     "data": {
      "text/plain": [
       "array([[ 0,  1,  2,  3,  4],\n",
       "       [ 5,  6,  7,  8,  9],\n",
       "       [10, 11, 12, 13, 14],\n",
       "       [15, 16, 17, 18, 19]])"
      ]
     },
     "execution_count": 50,
     "metadata": {},
     "output_type": "execute_result"
    }
   ],
   "source": [
    "data = np.arange(20).reshape(4,5)\n",
    "data"
   ]
  },
  {
   "cell_type": "code",
   "execution_count": 51,
   "id": "b27eae4f",
   "metadata": {},
   "outputs": [
    {
     "data": {
      "text/plain": [
       "(array([2, 2, 2, 2, 3, 3, 3, 3, 3], dtype=int64),\n",
       " array([1, 2, 3, 4, 0, 1, 2, 3, 4], dtype=int64))"
      ]
     },
     "execution_count": 51,
     "metadata": {},
     "output_type": "execute_result"
    }
   ],
   "source": [
    "np.where(data > 10)"
   ]
  },
  {
   "cell_type": "code",
   "execution_count": 48,
   "id": "ea0089e8",
   "metadata": {},
   "outputs": [
    {
     "data": {
      "text/plain": [
       "array([[ 20,  20,  20,  20,  20],\n",
       "       [ 20,  20,  20,  20,  20],\n",
       "       [ 20, 100, 100, 100, 100],\n",
       "       [100, 100, 100, 100, 100]])"
      ]
     },
     "execution_count": 48,
     "metadata": {},
     "output_type": "execute_result"
    }
   ],
   "source": [
    "np.where(data > 10, 100, 20)"
   ]
  },
  {
   "cell_type": "code",
   "execution_count": 52,
   "id": "7c4ce042",
   "metadata": {},
   "outputs": [
    {
     "data": {
      "text/plain": [
       "array([[20, 20, 20, 20, 20],\n",
       "       [20, 20, 20, 20, 20],\n",
       "       [20, 11, 12, 13, 14],\n",
       "       [15, 16, 17, 18, 19]])"
      ]
     },
     "execution_count": 52,
     "metadata": {},
     "output_type": "execute_result"
    }
   ],
   "source": [
    "np.where(data > 10, data, 20)"
   ]
  },
  {
   "cell_type": "code",
   "execution_count": 53,
   "id": "467d5df2",
   "metadata": {},
   "outputs": [
    {
     "data": {
      "text/plain": [
       "array([[  0,   1,   2,   3,   4],\n",
       "       [  5,   6,   7,   8,   9],\n",
       "       [ 10, 100, 100, 100, 100],\n",
       "       [100, 100, 100, 100, 100]])"
      ]
     },
     "execution_count": 53,
     "metadata": {},
     "output_type": "execute_result"
    }
   ],
   "source": [
    "np.where(data > 10, 100, data)"
   ]
  },
  {
   "cell_type": "markdown",
   "id": "4227a2cf",
   "metadata": {},
   "source": [
    "#### 数组排序 \n",
    "- np.sort()\n",
    "- axis：指定轴，默认以最大轴排序 （0，1） 以1轴排序 (0,1,2) 以2轴排序"
   ]
  },
  {
   "cell_type": "code",
   "execution_count": 54,
   "id": "1229491c",
   "metadata": {},
   "outputs": [
    {
     "data": {
      "text/plain": [
       "array([2, 1, 8, 4, 0, 5, 8, 3])"
      ]
     },
     "metadata": {},
     "output_type": "display_data"
    },
    {
     "data": {
      "text/plain": [
       "array([0, 1, 2, 3, 4, 5, 8, 8])"
      ]
     },
     "metadata": {},
     "output_type": "display_data"
    }
   ],
   "source": [
    "data = np.array([2,1,8,4,0,5,8,3])\n",
    "display(data, np.sort(data))"
   ]
  },
  {
   "cell_type": "code",
   "execution_count": 55,
   "id": "36440ec7",
   "metadata": {},
   "outputs": [
    {
     "data": {
      "text/plain": [
       "array([[2, 3, 1, 8, 4, 0],\n",
       "       [6, 1, 6, 3, 9, 8]])"
      ]
     },
     "metadata": {},
     "output_type": "display_data"
    },
    {
     "data": {
      "text/plain": [
       "array([[0, 1, 2, 3, 4, 8],\n",
       "       [1, 3, 6, 6, 8, 9]])"
      ]
     },
     "metadata": {},
     "output_type": "display_data"
    }
   ],
   "source": [
    "data = np.array([[2,3,1,8,4,0],[6,1,6,3,9,8]])\n",
    "display(data, np.sort(data))"
   ]
  },
  {
   "cell_type": "code",
   "execution_count": 57,
   "id": "ccc55078",
   "metadata": {},
   "outputs": [
    {
     "data": {
      "text/plain": [
       "array([[2, 3, 1, 8, 4, 0],\n",
       "       [6, 1, 6, 3, 9, 8]])"
      ]
     },
     "metadata": {},
     "output_type": "display_data"
    },
    {
     "data": {
      "text/plain": [
       "array([[0, 1, 2, 3, 4, 8],\n",
       "       [1, 3, 6, 6, 8, 9]])"
      ]
     },
     "metadata": {},
     "output_type": "display_data"
    }
   ],
   "source": [
    "data = np.array([[2,3,1,8,4,0],[6,1,6,3,9,8]])\n",
    "display(data, np.sort(data, axis=1))"
   ]
  }
 ],
 "metadata": {
  "kernelspec": {
   "display_name": "Python 3 (ipykernel)",
   "language": "python",
   "name": "python3"
  },
  "language_info": {
   "codemirror_mode": {
    "name": "ipython",
    "version": 3
   },
   "file_extension": ".py",
   "mimetype": "text/x-python",
   "name": "python",
   "nbconvert_exporter": "python",
   "pygments_lexer": "ipython3",
   "version": "3.9.7"
  }
 },
 "nbformat": 4,
 "nbformat_minor": 5
}
