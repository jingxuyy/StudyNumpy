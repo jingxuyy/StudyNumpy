{
 "cells": [
  {
   "cell_type": "markdown",
   "id": "9f16a389",
   "metadata": {},
   "source": [
    "## numpy的随机数 和 随机数数组"
   ]
  },
  {
   "cell_type": "code",
   "execution_count": 1,
   "id": "7ea88938",
   "metadata": {},
   "outputs": [],
   "source": [
    "import numpy as np"
   ]
  },
  {
   "cell_type": "markdown",
   "id": "c52d0353",
   "metadata": {},
   "source": [
    "### 在numpy的random模块提供了随机数一系列操作"
   ]
  },
  {
   "cell_type": "markdown",
   "id": "6f74eac9",
   "metadata": {},
   "source": [
    "#### 1.随机整数\n",
    "- randint(low, high=None, size=None, dtype=int)\n",
    "- low：最小值 默认值为0\n",
    "- high：最大值（产生的随机数不会包括最大值）左闭右开区间\n",
    "- size：维度 是一个元组"
   ]
  },
  {
   "cell_type": "code",
   "execution_count": 8,
   "id": "6ba25478",
   "metadata": {},
   "outputs": [
    {
     "data": {
      "text/plain": [
       "0"
      ]
     },
     "execution_count": 8,
     "metadata": {},
     "output_type": "execute_result"
    }
   ],
   "source": [
    "np.random.randint(1)"
   ]
  },
  {
   "cell_type": "code",
   "execution_count": 16,
   "id": "2ab8d6d0",
   "metadata": {},
   "outputs": [
    {
     "data": {
      "text/plain": [
       "8"
      ]
     },
     "execution_count": 16,
     "metadata": {},
     "output_type": "execute_result"
    }
   ],
   "source": [
    "np.random.randint(1,10)"
   ]
  },
  {
   "cell_type": "code",
   "execution_count": 17,
   "id": "7983e817",
   "metadata": {},
   "outputs": [
    {
     "data": {
      "text/plain": [
       "array([[4, 6, 1],\n",
       "       [6, 1, 3]])"
      ]
     },
     "execution_count": 17,
     "metadata": {},
     "output_type": "execute_result"
    }
   ],
   "source": [
    "np.random.randint(1,10, (2,3))"
   ]
  },
  {
   "cell_type": "code",
   "execution_count": 19,
   "id": "a8fc2a72",
   "metadata": {},
   "outputs": [
    {
     "data": {
      "text/plain": [
       "array([[[7, 9, 4, 3],\n",
       "        [9, 9, 7, 2]],\n",
       "\n",
       "       [[9, 6, 1, 7],\n",
       "        [5, 8, 6, 6]],\n",
       "\n",
       "       [[4, 3, 9, 6],\n",
       "        [2, 8, 9, 2]]])"
      ]
     },
     "execution_count": 19,
     "metadata": {},
     "output_type": "execute_result"
    }
   ],
   "source": [
    "np.random.randint(1,10, (3,2,4))"
   ]
  },
  {
   "cell_type": "markdown",
   "id": "dca4b8bd",
   "metadata": {},
   "source": [
    "#### 2. 符合均匀分布的随机小数\n",
    "- rand(d0, d1, ..., dn)\n",
    "- rand() 符合均匀分布的一个随机小数\n",
    "- 只需要传入维度即可，可以传入多个整数,表示多个维度，注意这里不能传入元组"
   ]
  },
  {
   "cell_type": "code",
   "execution_count": 20,
   "id": "21435512",
   "metadata": {},
   "outputs": [
    {
     "data": {
      "text/plain": [
       "0.974969283352626"
      ]
     },
     "execution_count": 20,
     "metadata": {},
     "output_type": "execute_result"
    }
   ],
   "source": [
    "np.random.rand()"
   ]
  },
  {
   "cell_type": "code",
   "execution_count": 21,
   "id": "b5e7d197",
   "metadata": {},
   "outputs": [
    {
     "data": {
      "text/plain": [
       "array([[0.36291249, 0.05769132, 0.22175987],\n",
       "       [0.37923222, 0.40011696, 0.88195271]])"
      ]
     },
     "execution_count": 21,
     "metadata": {},
     "output_type": "execute_result"
    }
   ],
   "source": [
    "np.random.rand(2,3)"
   ]
  },
  {
   "cell_type": "code",
   "execution_count": 22,
   "id": "f822954a",
   "metadata": {},
   "outputs": [
    {
     "ename": "TypeError",
     "evalue": "'tuple' object cannot be interpreted as an integer",
     "output_type": "error",
     "traceback": [
      "\u001b[1;31m---------------------------------------------------------------------------\u001b[0m",
      "\u001b[1;31mTypeError\u001b[0m                                 Traceback (most recent call last)",
      "Cell \u001b[1;32mIn[22], line 1\u001b[0m\n\u001b[1;32m----> 1\u001b[0m \u001b[43mnp\u001b[49m\u001b[38;5;241;43m.\u001b[39;49m\u001b[43mrandom\u001b[49m\u001b[38;5;241;43m.\u001b[39;49m\u001b[43mrand\u001b[49m\u001b[43m(\u001b[49m\u001b[43m(\u001b[49m\u001b[38;5;241;43m2\u001b[39;49m\u001b[43m,\u001b[49m\u001b[38;5;241;43m3\u001b[39;49m\u001b[43m)\u001b[49m\u001b[43m)\u001b[49m\n",
      "File \u001b[1;32mmtrand.pyx:1202\u001b[0m, in \u001b[0;36mnumpy.random.mtrand.RandomState.rand\u001b[1;34m()\u001b[0m\n",
      "File \u001b[1;32mmtrand.pyx:436\u001b[0m, in \u001b[0;36mnumpy.random.mtrand.RandomState.random_sample\u001b[1;34m()\u001b[0m\n",
      "File \u001b[1;32m_common.pyx:307\u001b[0m, in \u001b[0;36mnumpy.random._common.double_fill\u001b[1;34m()\u001b[0m\n",
      "\u001b[1;31mTypeError\u001b[0m: 'tuple' object cannot be interpreted as an integer"
     ]
    }
   ],
   "source": [
    "np.random.rand((2,3))"
   ]
  },
  {
   "cell_type": "code",
   "execution_count": 24,
   "id": "216fc211",
   "metadata": {},
   "outputs": [
    {
     "data": {
      "text/plain": [
       "array([[[0.47798648, 0.16795227, 0.71250803, 0.38070688],\n",
       "        [0.20060794, 0.20551884, 0.67035765, 0.9941468 ],\n",
       "        [0.42551237, 0.06836194, 0.8870949 , 0.3591658 ]],\n",
       "\n",
       "       [[0.39221637, 0.25526215, 0.15342555, 0.43006436],\n",
       "        [0.70564218, 0.48413537, 0.61502808, 0.98996331],\n",
       "        [0.72418645, 0.15373721, 0.94641195, 0.49128386]]])"
      ]
     },
     "execution_count": 24,
     "metadata": {},
     "output_type": "execute_result"
    }
   ],
   "source": [
    "np.random.rand(2,3,4)"
   ]
  },
  {
   "cell_type": "markdown",
   "id": "79ff0a53",
   "metadata": {},
   "source": [
    "#### 3. 符合标准正太分布的随机小数（均值为0，方差为1）\n",
    "- randn(d0, d1, ..., dn)\n",
    "- randn() 符合标准正太分布的一个随机小数\n",
    "- 只需要传入维度即可，可以传入多个整数,表示多个维度，注意这里不能传入元组"
   ]
  },
  {
   "cell_type": "code",
   "execution_count": 26,
   "id": "70367918",
   "metadata": {},
   "outputs": [
    {
     "data": {
      "text/plain": [
       "-1.3457572949388712"
      ]
     },
     "execution_count": 26,
     "metadata": {},
     "output_type": "execute_result"
    }
   ],
   "source": [
    "np.random.randn()"
   ]
  },
  {
   "cell_type": "code",
   "execution_count": 27,
   "id": "94def0a4",
   "metadata": {},
   "outputs": [
    {
     "data": {
      "text/plain": [
       "array([[-0.97744159, -0.52320055, -0.31242089],\n",
       "       [ 0.0637586 , -0.16311528, -0.70036197]])"
      ]
     },
     "execution_count": 27,
     "metadata": {},
     "output_type": "execute_result"
    }
   ],
   "source": [
    "np.random.randn(2,3)"
   ]
  },
  {
   "cell_type": "code",
   "execution_count": 28,
   "id": "f14fee7f",
   "metadata": {},
   "outputs": [
    {
     "data": {
      "text/plain": [
       "array([[[ 1.17317535, -0.46921922, -0.40292827,  1.74193227],\n",
       "        [ 1.60906897, -0.7598998 , -1.03801223,  0.36999972],\n",
       "        [-1.65716509,  0.87413897, -1.22197772,  0.23222278]],\n",
       "\n",
       "       [[-0.31772856, -0.21108696, -0.95136798, -0.3260545 ],\n",
       "        [-0.91915784,  0.15181436, -0.51520062, -0.42896316],\n",
       "        [-0.00353637, -1.02281419,  0.96519864, -0.35881445]]])"
      ]
     },
     "execution_count": 28,
     "metadata": {},
     "output_type": "execute_result"
    }
   ],
   "source": [
    "np.random.randn(2,3,4)"
   ]
  },
  {
   "cell_type": "markdown",
   "id": "b9bf2ffa",
   "metadata": {},
   "source": [
    "#### 4. 符合正太分布的随机小数（均值和方差需要传入）\n",
    "- normal(loc=0.0, scale=1.0, size=None)\n",
    "- loc：均值\n",
    "- scale ：方差\n",
    "- normal默认是标准正太分布\n",
    "- randn() 符合标准正太分布的一个随机小数\n",
    "- size：传入元组表示维度"
   ]
  },
  {
   "cell_type": "code",
   "execution_count": 30,
   "id": "feadbfd7",
   "metadata": {},
   "outputs": [
    {
     "data": {
      "text/plain": [
       "-0.5348694305948958"
      ]
     },
     "execution_count": 30,
     "metadata": {},
     "output_type": "execute_result"
    }
   ],
   "source": [
    "np.random.normal()"
   ]
  },
  {
   "cell_type": "code",
   "execution_count": 31,
   "id": "138d95b1",
   "metadata": {},
   "outputs": [
    {
     "data": {
      "text/plain": [
       "3.688010701698519"
      ]
     },
     "execution_count": 31,
     "metadata": {},
     "output_type": "execute_result"
    }
   ],
   "source": [
    "np.random.normal(2, 4)"
   ]
  },
  {
   "cell_type": "code",
   "execution_count": 33,
   "id": "50d05fc6",
   "metadata": {},
   "outputs": [
    {
     "data": {
      "text/plain": [
       "array([[ 0.90563062, -2.72085542, -0.266634  ,  1.29744644],\n",
       "       [-0.50721192,  0.5093526 , -0.12635508, -1.83985823],\n",
       "       [-0.55974308,  0.10364342, -0.4874388 ,  0.1755633 ]])"
      ]
     },
     "execution_count": 33,
     "metadata": {},
     "output_type": "execute_result"
    }
   ],
   "source": [
    "np.random.normal(size=(3,4))"
   ]
  },
  {
   "cell_type": "code",
   "execution_count": 34,
   "id": "e813f80a",
   "metadata": {},
   "outputs": [
    {
     "data": {
      "text/plain": [
       "array([[[ 2.77022901,  2.94628114,  4.89616963,  1.18852988],\n",
       "        [ 3.94467558, -0.19912988, -0.7510624 ,  0.9917585 ],\n",
       "        [ 1.55112359,  1.71840587,  1.91535287,  1.63519916]],\n",
       "\n",
       "       [[ 3.36630953,  0.25735797,  2.99091576,  2.61015618],\n",
       "        [ 2.3056878 ,  2.07259595,  1.76325742,  2.64154274],\n",
       "        [-2.25095138,  0.53904199,  0.05878357,  1.49243096]]])"
      ]
     },
     "execution_count": 34,
     "metadata": {},
     "output_type": "execute_result"
    }
   ],
   "source": [
    "np.random.normal(1, 2, size=(2, 3,4))"
   ]
  },
  {
   "cell_type": "markdown",
   "id": "73ee9497",
   "metadata": {},
   "source": [
    "#### 5. 生成0~1之间的随机小数\n",
    "- random(size=None)  左闭右开区间 [0,1)\n",
    "- size：传入元组表示维度"
   ]
  },
  {
   "cell_type": "code",
   "execution_count": 35,
   "id": "69922c8f",
   "metadata": {},
   "outputs": [
    {
     "data": {
      "text/plain": [
       "0.7655605197302492"
      ]
     },
     "execution_count": 35,
     "metadata": {},
     "output_type": "execute_result"
    }
   ],
   "source": [
    "np.random.random()"
   ]
  },
  {
   "cell_type": "code",
   "execution_count": 37,
   "id": "d89cb285",
   "metadata": {},
   "outputs": [
    {
     "data": {
      "text/plain": [
       "array([[0.67244657, 0.68182581, 0.48312288],\n",
       "       [0.32146098, 0.38984176, 0.25742743]])"
      ]
     },
     "execution_count": 37,
     "metadata": {},
     "output_type": "execute_result"
    }
   ],
   "source": [
    "np.random.random((2,3))"
   ]
  },
  {
   "cell_type": "code",
   "execution_count": 38,
   "id": "a303b592",
   "metadata": {},
   "outputs": [
    {
     "data": {
      "text/plain": [
       "array([[[0.96039107, 0.17659401, 0.19683013, 0.68451833],\n",
       "        [0.50651515, 0.30970798, 0.05665532, 0.39166964],\n",
       "        [0.40122881, 0.86383783, 0.50683867, 0.70122881]],\n",
       "\n",
       "       [[0.39048292, 0.83563202, 0.87752641, 0.76305009],\n",
       "        [0.110547  , 0.68401315, 0.63588462, 0.10222048],\n",
       "        [0.89978415, 0.33350306, 0.62715411, 0.04814283]]])"
      ]
     },
     "execution_count": 38,
     "metadata": {},
     "output_type": "execute_result"
    }
   ],
   "source": [
    "np.random.random((2,3,4))"
   ]
  },
  {
   "cell_type": "markdown",
   "id": "0ef23924",
   "metadata": {},
   "source": [
    "#### 6. 产生给定区间的数组，并且打乱顺序\n",
    "- permutation(x)\n",
    "- x：表示最大值\n",
    "- permutation(x)：生成从0到x的不包括x的x个数，并且乱序"
   ]
  },
  {
   "cell_type": "code",
   "execution_count": 45,
   "id": "10e1a14e",
   "metadata": {},
   "outputs": [
    {
     "data": {
      "text/plain": [
       "array([6, 2, 8, 7, 9, 5, 0, 1, 4, 3])"
      ]
     },
     "execution_count": 45,
     "metadata": {},
     "output_type": "execute_result"
    }
   ],
   "source": [
    "np.random.permutation(10)"
   ]
  },
  {
   "cell_type": "code",
   "execution_count": 46,
   "id": "ad84cb76",
   "metadata": {},
   "outputs": [
    {
     "data": {
      "text/plain": [
       "array([16, 18,  8, 13,  4,  5, 14, 17,  6, 10,  2,  7,  1,  0, 12, 15,  9,\n",
       "       19, 11,  3])"
      ]
     },
     "execution_count": 46,
     "metadata": {},
     "output_type": "execute_result"
    }
   ],
   "source": [
    "np.random.permutation(20)"
   ]
  },
  {
   "cell_type": "markdown",
   "id": "d3e658eb",
   "metadata": {},
   "source": [
    "#### 7. 将有序数组打乱\n",
    "- shuffle(x)\n",
    "- x：数组、列表，高纬度也可"
   ]
  },
  {
   "cell_type": "code",
   "execution_count": 48,
   "id": "75e3f403",
   "metadata": {},
   "outputs": [
    {
     "data": {
      "text/plain": [
       "array([0, 1, 2, 3, 4, 5, 6, 7, 8, 9])"
      ]
     },
     "execution_count": 48,
     "metadata": {},
     "output_type": "execute_result"
    }
   ],
   "source": [
    "data = np.arange(10)\n",
    "data"
   ]
  },
  {
   "cell_type": "code",
   "execution_count": 50,
   "id": "b160430e",
   "metadata": {},
   "outputs": [
    {
     "data": {
      "text/plain": [
       "array([8, 6, 0, 2, 7, 9, 4, 3, 1, 5])"
      ]
     },
     "execution_count": 50,
     "metadata": {},
     "output_type": "execute_result"
    }
   ],
   "source": [
    "np.random.shuffle(data)\n",
    "data"
   ]
  },
  {
   "cell_type": "code",
   "execution_count": 52,
   "id": "44642659",
   "metadata": {},
   "outputs": [],
   "source": [
    "data_list = [i for i in range(15)]"
   ]
  },
  {
   "cell_type": "code",
   "execution_count": 53,
   "id": "ed194f6e",
   "metadata": {},
   "outputs": [
    {
     "data": {
      "text/plain": [
       "[10, 2, 11, 14, 3, 9, 7, 6, 13, 0, 12, 5, 1, 4, 8]"
      ]
     },
     "execution_count": 53,
     "metadata": {},
     "output_type": "execute_result"
    }
   ],
   "source": [
    "np.random.shuffle(data_list)\n",
    "data_list"
   ]
  },
  {
   "cell_type": "code",
   "execution_count": 55,
   "id": "e138238f",
   "metadata": {},
   "outputs": [
    {
     "data": {
      "text/plain": [
       "array([[ 0,  1,  2,  3,  4],\n",
       "       [ 5,  6,  7,  8,  9],\n",
       "       [10, 11, 12, 13, 14],\n",
       "       [15, 16, 17, 18, 19]])"
      ]
     },
     "execution_count": 55,
     "metadata": {},
     "output_type": "execute_result"
    }
   ],
   "source": [
    "data = np.arange(20).reshape(4,5)\n",
    "data"
   ]
  },
  {
   "cell_type": "code",
   "execution_count": 56,
   "id": "15196864",
   "metadata": {},
   "outputs": [
    {
     "data": {
      "text/plain": [
       "array([[15, 16, 17, 18, 19],\n",
       "       [ 5,  6,  7,  8,  9],\n",
       "       [ 0,  1,  2,  3,  4],\n",
       "       [10, 11, 12, 13, 14]])"
      ]
     },
     "execution_count": 56,
     "metadata": {},
     "output_type": "execute_result"
    }
   ],
   "source": [
    "np.random.shuffle(data)\n",
    "data"
   ]
  },
  {
   "cell_type": "markdown",
   "id": "a0afd0b7",
   "metadata": {},
   "source": [
    "#### 8. 随机种子，\n",
    "- seed(seed=None)\n",
    "- seed ： 给定seed后，在随机种子下面的，每个随机函数产生的随机数据都不会被改变\n",
    "- 最好将seed(seed=None)设置在最前面"
   ]
  }
 ],
 "metadata": {
  "kernelspec": {
   "display_name": "Python 3 (ipykernel)",
   "language": "python",
   "name": "python3"
  },
  "language_info": {
   "codemirror_mode": {
    "name": "ipython",
    "version": 3
   },
   "file_extension": ".py",
   "mimetype": "text/x-python",
   "name": "python",
   "nbconvert_exporter": "python",
   "pygments_lexer": "ipython3",
   "version": "3.9.7"
  }
 },
 "nbformat": 4,
 "nbformat_minor": 5
}
