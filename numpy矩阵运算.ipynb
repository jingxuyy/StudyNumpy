{
 "cells": [
  {
   "cell_type": "markdown",
   "id": "ef7fde94",
   "metadata": {},
   "source": [
    "## numpy矩阵运算"
   ]
  },
  {
   "cell_type": "code",
   "execution_count": 1,
   "id": "4652bad4",
   "metadata": {},
   "outputs": [],
   "source": [
    "import numpy as np"
   ]
  },
  {
   "cell_type": "markdown",
   "id": "9efa804b",
   "metadata": {},
   "source": [
    "> numpy提供了大量的矩阵相关的计算方法"
   ]
  },
  {
   "cell_type": "markdown",
   "id": "4f8ae503",
   "metadata": {},
   "source": [
    "### 创建矩阵\n",
    "- 1. numpy提供的二维数组array可以视为矩阵\n",
    "- 2. 通过numpy.matrix()创建矩阵\n",
    "- 3. 通过nump。mat()创建矩阵 （过于麻烦，省略）"
   ]
  },
  {
   "cell_type": "code",
   "execution_count": 3,
   "id": "aecce838",
   "metadata": {},
   "outputs": [
    {
     "data": {
      "text/plain": [
       "array([[10, 11, 12, 13, 14, 15],\n",
       "       [16, 17, 18, 19, 20, 21],\n",
       "       [22, 23, 24, 25, 26, 27],\n",
       "       [28, 29, 30, 31, 32, 33],\n",
       "       [34, 35, 36, 37, 38, 39]])"
      ]
     },
     "execution_count": 3,
     "metadata": {},
     "output_type": "execute_result"
    }
   ],
   "source": [
    "matrix1 = np.arange(10,40).reshape(5,6)\n",
    "matrix1"
   ]
  },
  {
   "cell_type": "code",
   "execution_count": 4,
   "id": "eb6961b9",
   "metadata": {},
   "outputs": [
    {
     "data": {
      "text/plain": [
       "matrix([[10, 11, 12, 13, 14, 15],\n",
       "        [16, 17, 18, 19, 20, 21],\n",
       "        [22, 23, 24, 25, 26, 27],\n",
       "        [28, 29, 30, 31, 32, 33],\n",
       "        [34, 35, 36, 37, 38, 39]])"
      ]
     },
     "execution_count": 4,
     "metadata": {},
     "output_type": "execute_result"
    }
   ],
   "source": [
    "matrix2 = np.matrix(matrix1)\n",
    "matrix2"
   ]
  },
  {
   "cell_type": "markdown",
   "id": "387acd35",
   "metadata": {},
   "source": [
    "- 由于numpy的二维数组可以直接视为矩阵进行矩阵计算，所以通过数组创建矩阵更为常见"
   ]
  },
  {
   "cell_type": "markdown",
   "id": "1d115541",
   "metadata": {},
   "source": [
    "- 创建单位矩阵，方正，且主对角线元素为1，其余为0\n",
    "    - numpy.eye()"
   ]
  },
  {
   "cell_type": "code",
   "execution_count": 22,
   "id": "bf377e5f",
   "metadata": {},
   "outputs": [
    {
     "data": {
      "text/plain": [
       "array([[1., 0., 0., 0., 0.],\n",
       "       [0., 1., 0., 0., 0.],\n",
       "       [0., 0., 1., 0., 0.],\n",
       "       [0., 0., 0., 1., 0.],\n",
       "       [0., 0., 0., 0., 1.]])"
      ]
     },
     "execution_count": 22,
     "metadata": {},
     "output_type": "execute_result"
    }
   ],
   "source": [
    "np.eye(5)"
   ]
  },
  {
   "cell_type": "markdown",
   "id": "7788701d",
   "metadata": {},
   "source": [
    "- 创建指定对角线元素的对角矩阵\n",
    "    - numpy.diag()"
   ]
  },
  {
   "cell_type": "code",
   "execution_count": 57,
   "id": "abcedeb5",
   "metadata": {},
   "outputs": [
    {
     "data": {
      "text/plain": [
       "array([[1, 0, 0],\n",
       "       [0, 2, 0],\n",
       "       [0, 0, 3]])"
      ]
     },
     "execution_count": 57,
     "metadata": {},
     "output_type": "execute_result"
    }
   ],
   "source": [
    "np.diag([1,2,3])"
   ]
  },
  {
   "cell_type": "code",
   "execution_count": 58,
   "id": "c18423f2",
   "metadata": {},
   "outputs": [
    {
     "data": {
      "text/plain": [
       "array([[0, 0, 0, 0, 0, 0, 0],\n",
       "       [0, 1, 0, 0, 0, 0, 0],\n",
       "       [0, 0, 2, 0, 0, 0, 0],\n",
       "       [0, 0, 0, 3, 0, 0, 0],\n",
       "       [0, 0, 0, 0, 4, 0, 0],\n",
       "       [0, 0, 0, 0, 0, 5, 0],\n",
       "       [0, 0, 0, 0, 0, 0, 6]])"
      ]
     },
     "execution_count": 58,
     "metadata": {},
     "output_type": "execute_result"
    }
   ],
   "source": [
    "np.diag(np.arange(7))"
   ]
  },
  {
   "cell_type": "markdown",
   "id": "769ce99c",
   "metadata": {},
   "source": [
    "### 矩阵运算"
   ]
  },
  {
   "cell_type": "markdown",
   "id": "4aa8850c",
   "metadata": {},
   "source": [
    "#### 1. 矩阵转置\n",
    "- 使用array的属性T\n",
    "- 使用numpy.transpose()方法"
   ]
  },
  {
   "cell_type": "code",
   "execution_count": 5,
   "id": "c026790b",
   "metadata": {},
   "outputs": [
    {
     "data": {
      "text/plain": [
       "array([[0, 1, 2, 3, 4],\n",
       "       [5, 6, 7, 8, 9]])"
      ]
     },
     "execution_count": 5,
     "metadata": {},
     "output_type": "execute_result"
    }
   ],
   "source": [
    "matrix = np.arange(10).reshape(2,5)\n",
    "matrix"
   ]
  },
  {
   "cell_type": "code",
   "execution_count": 6,
   "id": "fec25bff",
   "metadata": {},
   "outputs": [
    {
     "data": {
      "text/plain": [
       "array([[0, 5],\n",
       "       [1, 6],\n",
       "       [2, 7],\n",
       "       [3, 8],\n",
       "       [4, 9]])"
      ]
     },
     "execution_count": 6,
     "metadata": {},
     "output_type": "execute_result"
    }
   ],
   "source": [
    "matrix.T"
   ]
  },
  {
   "cell_type": "code",
   "execution_count": 7,
   "id": "2eaf0fdc",
   "metadata": {},
   "outputs": [
    {
     "data": {
      "text/plain": [
       "array([[0, 5],\n",
       "       [1, 6],\n",
       "       [2, 7],\n",
       "       [3, 8],\n",
       "       [4, 9]])"
      ]
     },
     "execution_count": 7,
     "metadata": {},
     "output_type": "execute_result"
    }
   ],
   "source": [
    "np.transpose(matrix)"
   ]
  },
  {
   "cell_type": "markdown",
   "id": "f3b13eb1",
   "metadata": {},
   "source": [
    "#### 2. 矩阵乘法\n",
    "- 矩阵乘法：第一个矩阵维度 (m,k) 第二个为(k,n) 结果（m,n） 也就是第一个矩阵的列数要等于第二个矩阵的行数\n",
    "- 使用 ndarray.dot(ndarray)\n",
    "- 使用 numpy.dot(ndarray, ndarray)\n",
    "- 使用 numpy.matmul(ndarray, ndarray)\n",
    "- 使用 @ 运算符 ndarray@ndarray"
   ]
  },
  {
   "cell_type": "code",
   "execution_count": 9,
   "id": "3031de22",
   "metadata": {},
   "outputs": [
    {
     "data": {
      "text/plain": [
       "array([[0, 1, 2, 3, 4],\n",
       "       [5, 6, 7, 8, 9]])"
      ]
     },
     "metadata": {},
     "output_type": "display_data"
    },
    {
     "data": {
      "text/plain": [
       "array([[ 0,  1,  2,  3,  4,  5,  6],\n",
       "       [ 7,  8,  9, 10, 11, 12, 13],\n",
       "       [14, 15, 16, 17, 18, 19, 20],\n",
       "       [21, 22, 23, 24, 25, 26, 27],\n",
       "       [28, 29, 30, 31, 32, 33, 34]])"
      ]
     },
     "metadata": {},
     "output_type": "display_data"
    }
   ],
   "source": [
    "matrix1 = np.arange(10).reshape(2,5)\n",
    "matrix2 = np.arange(35).reshape(5,7)\n",
    "display(matrix1, matrix2)"
   ]
  },
  {
   "cell_type": "code",
   "execution_count": 10,
   "id": "d1fded0d",
   "metadata": {},
   "outputs": [
    {
     "data": {
      "text/plain": [
       "array([[210, 220, 230, 240, 250, 260, 270],\n",
       "       [560, 595, 630, 665, 700, 735, 770]])"
      ]
     },
     "execution_count": 10,
     "metadata": {},
     "output_type": "execute_result"
    }
   ],
   "source": [
    "matrix1.dot(matrix2)"
   ]
  },
  {
   "cell_type": "code",
   "execution_count": 11,
   "id": "510f743a",
   "metadata": {},
   "outputs": [
    {
     "data": {
      "text/plain": [
       "array([[210, 220, 230, 240, 250, 260, 270],\n",
       "       [560, 595, 630, 665, 700, 735, 770]])"
      ]
     },
     "execution_count": 11,
     "metadata": {},
     "output_type": "execute_result"
    }
   ],
   "source": [
    "np.dot(matrix1,matrix2)"
   ]
  },
  {
   "cell_type": "code",
   "execution_count": 17,
   "id": "e38ca1d0",
   "metadata": {},
   "outputs": [
    {
     "data": {
      "text/plain": [
       "array([[210, 220, 230, 240, 250, 260, 270],\n",
       "       [560, 595, 630, 665, 700, 735, 770]])"
      ]
     },
     "execution_count": 17,
     "metadata": {},
     "output_type": "execute_result"
    }
   ],
   "source": [
    "np.matmul(matrix1,matrix2)"
   ]
  },
  {
   "cell_type": "code",
   "execution_count": 18,
   "id": "ce7f79bf",
   "metadata": {},
   "outputs": [
    {
     "data": {
      "text/plain": [
       "array([[210, 220, 230, 240, 250, 260, 270],\n",
       "       [560, 595, 630, 665, 700, 735, 770]])"
      ]
     },
     "execution_count": 18,
     "metadata": {},
     "output_type": "execute_result"
    }
   ],
   "source": [
    "matrix1 @ matrix2"
   ]
  },
  {
   "cell_type": "markdown",
   "id": "90a3456d",
   "metadata": {},
   "source": [
    "- 矩阵数乘：和矩阵里每个元素相乘"
   ]
  },
  {
   "cell_type": "code",
   "execution_count": 12,
   "id": "309d945d",
   "metadata": {},
   "outputs": [
    {
     "data": {
      "text/plain": [
       "array([[0, 1, 2, 3, 4],\n",
       "       [5, 6, 7, 8, 9]])"
      ]
     },
     "execution_count": 12,
     "metadata": {},
     "output_type": "execute_result"
    }
   ],
   "source": [
    "matrix1"
   ]
  },
  {
   "cell_type": "code",
   "execution_count": 15,
   "id": "87382da3",
   "metadata": {},
   "outputs": [
    {
     "data": {
      "text/plain": [
       "array([[ 0,  3,  6,  9, 12],\n",
       "       [15, 18, 21, 24, 27]])"
      ]
     },
     "execution_count": 15,
     "metadata": {},
     "output_type": "execute_result"
    }
   ],
   "source": [
    "matrix1 * 3"
   ]
  },
  {
   "cell_type": "markdown",
   "id": "336380d0",
   "metadata": {},
   "source": [
    "- 矩阵加法：对应位置元素相加"
   ]
  },
  {
   "cell_type": "code",
   "execution_count": 14,
   "id": "a5daf0f9",
   "metadata": {},
   "outputs": [
    {
     "data": {
      "text/plain": [
       "array([[ 0,  2,  4,  6,  8],\n",
       "       [10, 12, 14, 16, 18]])"
      ]
     },
     "execution_count": 14,
     "metadata": {},
     "output_type": "execute_result"
    }
   ],
   "source": [
    "matrix1 + matrix1"
   ]
  },
  {
   "cell_type": "markdown",
   "id": "1690acd2",
   "metadata": {},
   "source": [
    "- 矩阵减法法：对应位置元素相减"
   ]
  },
  {
   "cell_type": "code",
   "execution_count": 16,
   "id": "c6436de6",
   "metadata": {},
   "outputs": [
    {
     "data": {
      "text/plain": [
       "array([[0, 0, 0, 0, 0],\n",
       "       [0, 0, 0, 0, 0]])"
      ]
     },
     "execution_count": 16,
     "metadata": {},
     "output_type": "execute_result"
    }
   ],
   "source": [
    "matrix1 - matrix1"
   ]
  },
  {
   "cell_type": "markdown",
   "id": "cc162a57",
   "metadata": {},
   "source": [
    "- 矩阵元素乘法，对应位置元素相乘（真正矩阵里没有这种运算，这里为了方便取了这个名字）\n",
    "    - 使用 *\n",
    "    - 使用 numpy.multiply(ndarray,ndarray)"
   ]
  },
  {
   "cell_type": "code",
   "execution_count": 19,
   "id": "a107de63",
   "metadata": {},
   "outputs": [
    {
     "data": {
      "text/plain": [
       "array([[0, 1, 2, 3, 4],\n",
       "       [5, 6, 7, 8, 9]])"
      ]
     },
     "execution_count": 19,
     "metadata": {},
     "output_type": "execute_result"
    }
   ],
   "source": [
    "matrix1 = np.arange(10).reshape(2,5)\n",
    "matrix1"
   ]
  },
  {
   "cell_type": "code",
   "execution_count": 20,
   "id": "1450da3d",
   "metadata": {},
   "outputs": [
    {
     "data": {
      "text/plain": [
       "array([[ 0,  1,  4,  9, 16],\n",
       "       [25, 36, 49, 64, 81]])"
      ]
     },
     "execution_count": 20,
     "metadata": {},
     "output_type": "execute_result"
    }
   ],
   "source": [
    "matrix1 * matrix1"
   ]
  },
  {
   "cell_type": "code",
   "execution_count": 21,
   "id": "1e26a30e",
   "metadata": {},
   "outputs": [
    {
     "data": {
      "text/plain": [
       "array([[ 0,  1,  4,  9, 16],\n",
       "       [25, 36, 49, 64, 81]])"
      ]
     },
     "execution_count": 21,
     "metadata": {},
     "output_type": "execute_result"
    }
   ],
   "source": [
    "np.multiply(matrix1,matrix1)"
   ]
  },
  {
   "cell_type": "markdown",
   "id": "8489f80a",
   "metadata": {},
   "source": [
    "- 计算方正的迹：也就是方形矩阵的主对角线元素的和\n",
    "    - numpy.trace()"
   ]
  },
  {
   "cell_type": "code",
   "execution_count": 24,
   "id": "fdb0903e",
   "metadata": {},
   "outputs": [
    {
     "data": {
      "text/plain": [
       "array([[ 0,  1,  2,  3,  4],\n",
       "       [ 5,  6,  7,  8,  9],\n",
       "       [10, 11, 12, 13, 14],\n",
       "       [15, 16, 17, 18, 19],\n",
       "       [20, 21, 22, 23, 24]])"
      ]
     },
     "execution_count": 24,
     "metadata": {},
     "output_type": "execute_result"
    }
   ],
   "source": [
    "matrix = np.arange(25).reshape(5,-1)\n",
    "matrix"
   ]
  },
  {
   "cell_type": "code",
   "execution_count": 25,
   "id": "75eb981a",
   "metadata": {},
   "outputs": [
    {
     "data": {
      "text/plain": [
       "60"
      ]
     },
     "execution_count": 25,
     "metadata": {},
     "output_type": "execute_result"
    }
   ],
   "source": [
    "np.trace(matrix)"
   ]
  },
  {
   "cell_type": "markdown",
   "id": "a929f78a",
   "metadata": {},
   "source": [
    "### numpy还提供了numpy.linalg模块，用于计算矩阵、线性代数的计算"
   ]
  },
  {
   "cell_type": "markdown",
   "id": "070633f4",
   "metadata": {},
   "source": [
    "#### 1. 求逆矩阵\n",
    "- 矩阵必须是方阵\n",
    "- 矩阵可逆\n",
    "- numpy.linalg.inv()"
   ]
  },
  {
   "cell_type": "code",
   "execution_count": 29,
   "id": "d6201bda",
   "metadata": {},
   "outputs": [],
   "source": [
    "from numpy import linalg"
   ]
  },
  {
   "cell_type": "code",
   "execution_count": 33,
   "id": "86ac5124",
   "metadata": {},
   "outputs": [
    {
     "data": {
      "text/plain": [
       "array([[ 0,  1,  2,  3,  4],\n",
       "       [ 5,  6,  7,  8,  9],\n",
       "       [10, 11, 12, 13, 14],\n",
       "       [15, 16, 17, 18, 19],\n",
       "       [20, 21, 22, 23, 24]])"
      ]
     },
     "execution_count": 33,
     "metadata": {},
     "output_type": "execute_result"
    }
   ],
   "source": [
    "matrix = np.arange(25).reshape(5,5)\n",
    "matrix"
   ]
  },
  {
   "cell_type": "code",
   "execution_count": 32,
   "id": "a6b53165",
   "metadata": {},
   "outputs": [
    {
     "ename": "LinAlgError",
     "evalue": "Singular matrix",
     "output_type": "error",
     "traceback": [
      "\u001b[1;31m---------------------------------------------------------------------------\u001b[0m",
      "\u001b[1;31mLinAlgError\u001b[0m                               Traceback (most recent call last)",
      "Cell \u001b[1;32mIn[32], line 1\u001b[0m\n\u001b[1;32m----> 1\u001b[0m \u001b[43mlinalg\u001b[49m\u001b[38;5;241;43m.\u001b[39;49m\u001b[43minv\u001b[49m\u001b[43m(\u001b[49m\u001b[43mmatrix\u001b[49m\u001b[43m)\u001b[49m\n",
      "File \u001b[1;32m<__array_function__ internals>:200\u001b[0m, in \u001b[0;36minv\u001b[1;34m(*args, **kwargs)\u001b[0m\n",
      "File \u001b[1;32mD:\\Users\\86136\\anaconda3\\lib\\site-packages\\numpy\\linalg\\linalg.py:538\u001b[0m, in \u001b[0;36minv\u001b[1;34m(a)\u001b[0m\n\u001b[0;32m    536\u001b[0m signature \u001b[38;5;241m=\u001b[39m \u001b[38;5;124m'\u001b[39m\u001b[38;5;124mD->D\u001b[39m\u001b[38;5;124m'\u001b[39m \u001b[38;5;28;01mif\u001b[39;00m isComplexType(t) \u001b[38;5;28;01melse\u001b[39;00m \u001b[38;5;124m'\u001b[39m\u001b[38;5;124md->d\u001b[39m\u001b[38;5;124m'\u001b[39m\n\u001b[0;32m    537\u001b[0m extobj \u001b[38;5;241m=\u001b[39m get_linalg_error_extobj(_raise_linalgerror_singular)\n\u001b[1;32m--> 538\u001b[0m ainv \u001b[38;5;241m=\u001b[39m \u001b[43m_umath_linalg\u001b[49m\u001b[38;5;241;43m.\u001b[39;49m\u001b[43minv\u001b[49m\u001b[43m(\u001b[49m\u001b[43ma\u001b[49m\u001b[43m,\u001b[49m\u001b[43m \u001b[49m\u001b[43msignature\u001b[49m\u001b[38;5;241;43m=\u001b[39;49m\u001b[43msignature\u001b[49m\u001b[43m,\u001b[49m\u001b[43m \u001b[49m\u001b[43mextobj\u001b[49m\u001b[38;5;241;43m=\u001b[39;49m\u001b[43mextobj\u001b[49m\u001b[43m)\u001b[49m\n\u001b[0;32m    539\u001b[0m \u001b[38;5;28;01mreturn\u001b[39;00m wrap(ainv\u001b[38;5;241m.\u001b[39mastype(result_t, copy\u001b[38;5;241m=\u001b[39m\u001b[38;5;28;01mFalse\u001b[39;00m))\n",
      "File \u001b[1;32mD:\\Users\\86136\\anaconda3\\lib\\site-packages\\numpy\\linalg\\linalg.py:89\u001b[0m, in \u001b[0;36m_raise_linalgerror_singular\u001b[1;34m(err, flag)\u001b[0m\n\u001b[0;32m     88\u001b[0m \u001b[38;5;28;01mdef\u001b[39;00m \u001b[38;5;21m_raise_linalgerror_singular\u001b[39m(err, flag):\n\u001b[1;32m---> 89\u001b[0m     \u001b[38;5;28;01mraise\u001b[39;00m LinAlgError(\u001b[38;5;124m\"\u001b[39m\u001b[38;5;124mSingular matrix\u001b[39m\u001b[38;5;124m\"\u001b[39m)\n",
      "\u001b[1;31mLinAlgError\u001b[0m: Singular matrix"
     ]
    }
   ],
   "source": [
    "linalg.inv(matrix)  # 不可逆"
   ]
  },
  {
   "cell_type": "code",
   "execution_count": 34,
   "id": "de5fb1c4",
   "metadata": {},
   "outputs": [
    {
     "data": {
      "text/plain": [
       "array([[1, 2],\n",
       "       [4, 5]])"
      ]
     },
     "execution_count": 34,
     "metadata": {},
     "output_type": "execute_result"
    }
   ],
   "source": [
    "matrix = np.array([[1,2],[4,5]])\n",
    "matrix"
   ]
  },
  {
   "cell_type": "code",
   "execution_count": 35,
   "id": "4369c342",
   "metadata": {},
   "outputs": [
    {
     "data": {
      "text/plain": [
       "array([[-1.66666667,  0.66666667],\n",
       "       [ 1.33333333, -0.33333333]])"
      ]
     },
     "execution_count": 35,
     "metadata": {},
     "output_type": "execute_result"
    }
   ],
   "source": [
    "linalg.inv(matrix)"
   ]
  },
  {
   "cell_type": "markdown",
   "id": "ce003916",
   "metadata": {},
   "source": [
    "#### 2. 计算行列式\n",
    "- 只有方阵才有行列式\n",
    "- numpy.linalg.det()"
   ]
  },
  {
   "cell_type": "code",
   "execution_count": 40,
   "id": "45bc1656",
   "metadata": {},
   "outputs": [
    {
     "data": {
      "text/plain": [
       "array([[1, 2],\n",
       "       [4, 5]])"
      ]
     },
     "execution_count": 40,
     "metadata": {},
     "output_type": "execute_result"
    }
   ],
   "source": [
    "matrix = np.array([[1,2],[4,5]])\n",
    "matrix"
   ]
  },
  {
   "cell_type": "code",
   "execution_count": 41,
   "id": "95284122",
   "metadata": {},
   "outputs": [
    {
     "data": {
      "text/plain": [
       "-2.9999999999999996"
      ]
     },
     "execution_count": 41,
     "metadata": {},
     "output_type": "execute_result"
    }
   ],
   "source": [
    "linalg.det(matrix)"
   ]
  },
  {
   "cell_type": "markdown",
   "id": "3767d8b9",
   "metadata": {},
   "source": [
    "#### 3. 计算特征值和特征向量\n",
    "- linalg.eigvals() 特征值\n",
    "- linalg.eig() 特征向量"
   ]
  },
  {
   "cell_type": "code",
   "execution_count": 42,
   "id": "c0efec72",
   "metadata": {},
   "outputs": [
    {
     "data": {
      "text/plain": [
       "array([-0.46410162,  6.46410162])"
      ]
     },
     "execution_count": 42,
     "metadata": {},
     "output_type": "execute_result"
    }
   ],
   "source": [
    "linalg.eigvals(matrix)"
   ]
  },
  {
   "cell_type": "code",
   "execution_count": 43,
   "id": "9b95d6bb",
   "metadata": {},
   "outputs": [
    {
     "data": {
      "text/plain": [
       "(array([-0.46410162,  6.46410162]),\n",
       " array([[-0.80689822, -0.34372377],\n",
       "        [ 0.59069049, -0.9390708 ]]))"
      ]
     },
     "execution_count": 43,
     "metadata": {},
     "output_type": "execute_result"
    }
   ],
   "source": [
    "linalg.eig(matrix)"
   ]
  },
  {
   "cell_type": "markdown",
   "id": "9e554fb4",
   "metadata": {},
   "source": [
    "#### 4. 求解线性方程\n",
    "> 1. x - 4*z = 0 \n",
    "> 2. -2*x + 2*y + 5*z = 8\n",
    "> 3. x - 8*y + 9*z = -9\n",
    "\n",
    "求解：x,y,z\n",
    "- 使用linalg.solve()方法"
   ]
  },
  {
   "cell_type": "code",
   "execution_count": 47,
   "id": "f73129ee",
   "metadata": {},
   "outputs": [
    {
     "data": {
      "text/plain": [
       "array([[ 1,  0, -4],\n",
       "       [-2,  2,  5],\n",
       "       [ 1, -8,  9]])"
      ]
     },
     "execution_count": 47,
     "metadata": {},
     "output_type": "execute_result"
    }
   ],
   "source": [
    "matrix = np.array([[1,0,-4],[-2,2,5],[1,-8,9]])\n",
    "matrix"
   ]
  },
  {
   "cell_type": "code",
   "execution_count": 50,
   "id": "39af2358",
   "metadata": {},
   "outputs": [
    {
     "data": {
      "text/plain": [
       "array([ 0,  8, -9])"
      ]
     },
     "execution_count": 50,
     "metadata": {},
     "output_type": "execute_result"
    }
   ],
   "source": [
    "matrix_A = np.array([0,8,-9])\n",
    "matrix_A"
   ]
  },
  {
   "cell_type": "code",
   "execution_count": 51,
   "id": "9bb52334",
   "metadata": {},
   "outputs": [
    {
     "data": {
      "text/plain": [
       "array([92. , 38.5, 23. ])"
      ]
     },
     "execution_count": 51,
     "metadata": {},
     "output_type": "execute_result"
    }
   ],
   "source": [
    "linalg.solve(matrix, matrix_A)"
   ]
  },
  {
   "cell_type": "markdown",
   "id": "8415aa66",
   "metadata": {},
   "source": [
    "#### 5. 矩阵奇异值分解\n",
    "- linalg.svd()\n",
    "- 对矩阵 A 进行奇异值分解 得到三个矩阵 S, V, D 其中V是对角矩阵 np.dot(np.dot(S,V),D)=A"
   ]
  },
  {
   "cell_type": "code",
   "execution_count": 52,
   "id": "71745ecb",
   "metadata": {},
   "outputs": [
    {
     "data": {
      "text/plain": [
       "array([[ 0,  1,  2,  3,  4],\n",
       "       [ 5,  6,  7,  8,  9],\n",
       "       [10, 11, 12, 13, 14],\n",
       "       [15, 16, 17, 18, 19],\n",
       "       [20, 21, 22, 23, 24]])"
      ]
     },
     "execution_count": 52,
     "metadata": {},
     "output_type": "execute_result"
    }
   ],
   "source": [
    "matrix = np.arange(25).reshape(5,5)\n",
    "matrix"
   ]
  },
  {
   "cell_type": "code",
   "execution_count": 54,
   "id": "2c41c33b",
   "metadata": {},
   "outputs": [
    {
     "data": {
      "text/plain": [
       "array([[-0.06767881, -0.77163436,  0.62387979, -0.10228113, -0.01767993],\n",
       "       [-0.22699517, -0.49847085, -0.59633074,  0.17664114,  0.55963162],\n",
       "       [-0.38631153, -0.22530735, -0.28489476,  0.35103754, -0.77175619],\n",
       "       [-0.54562789,  0.04785615, -0.13673742, -0.82287399, -0.06466276],\n",
       "       [-0.70494424,  0.32101965,  0.39408313,  0.39747644,  0.29446726]])"
      ]
     },
     "metadata": {},
     "output_type": "display_data"
    },
    {
     "data": {
      "text/plain": [
       "array([6.99085940e+01, 3.57609824e+00, 6.39273548e-15, 1.24087941e-15,\n",
       "       2.39254844e-16])"
      ]
     },
     "metadata": {},
     "output_type": "display_data"
    },
    {
     "data": {
      "text/plain": [
       "array([[-0.39024378, -0.41787354, -0.4455033 , -0.47313306, -0.50076282],\n",
       "       [ 0.66911119,  0.35409279,  0.03907438, -0.27594403, -0.59096243],\n",
       "       [ 0.35081431,  0.06267898, -0.5839024 , -0.42348937,  0.59389848],\n",
       "       [-0.22554577,  0.5517669 , -0.61603913,  0.4789606 , -0.18914261],\n",
       "       [ 0.47545602, -0.62579919, -0.28205279,  0.53967907, -0.10728311]])"
      ]
     },
     "metadata": {},
     "output_type": "display_data"
    }
   ],
   "source": [
    "S, V, D = linalg.svd(matrix)\n",
    "display(S, V, D)"
   ]
  },
  {
   "cell_type": "code",
   "execution_count": 56,
   "id": "91d6850a",
   "metadata": {},
   "outputs": [
    {
     "data": {
      "text/plain": [
       "array([[1.20372232e-15, 1.00000000e+00, 2.00000000e+00, 3.00000000e+00,\n",
       "        4.00000000e+00],\n",
       "       [5.00000000e+00, 6.00000000e+00, 7.00000000e+00, 8.00000000e+00,\n",
       "        9.00000000e+00],\n",
       "       [1.00000000e+01, 1.10000000e+01, 1.20000000e+01, 1.30000000e+01,\n",
       "        1.40000000e+01],\n",
       "       [1.50000000e+01, 1.60000000e+01, 1.70000000e+01, 1.80000000e+01,\n",
       "        1.90000000e+01],\n",
       "       [2.00000000e+01, 2.10000000e+01, 2.20000000e+01, 2.30000000e+01,\n",
       "        2.40000000e+01]])"
      ]
     },
     "execution_count": 56,
     "metadata": {},
     "output_type": "execute_result"
    }
   ],
   "source": [
    "np.dot(np.dot(S,np.diag(V)),D)"
   ]
  },
  {
   "cell_type": "markdown",
   "id": "27622ea9",
   "metadata": {},
   "source": [
    "#### 6. 广义逆矩阵\n",
    "- linalg.pinv()"
   ]
  },
  {
   "cell_type": "code",
   "execution_count": 59,
   "id": "cd275de8",
   "metadata": {},
   "outputs": [
    {
     "data": {
      "text/plain": [
       "array([[ 0,  1,  2,  3,  4],\n",
       "       [ 5,  6,  7,  8,  9],\n",
       "       [10, 11, 12, 13, 14],\n",
       "       [15, 16, 17, 18, 19],\n",
       "       [20, 21, 22, 23, 24]])"
      ]
     },
     "execution_count": 59,
     "metadata": {},
     "output_type": "execute_result"
    }
   ],
   "source": [
    "matrix = np.arange(25).reshape(5,5)\n",
    "matrix"
   ]
  },
  {
   "cell_type": "code",
   "execution_count": 60,
   "id": "fe07084e",
   "metadata": {},
   "outputs": [
    {
     "data": {
      "text/plain": [
       "array([[-1.44000000e-01, -9.20000000e-02, -4.00000000e-02,\n",
       "         1.20000000e-02,  6.40000000e-02],\n",
       "       [-7.60000000e-02, -4.80000000e-02, -2.00000000e-02,\n",
       "         8.00000000e-03,  3.60000000e-02],\n",
       "       [-8.00000000e-03, -4.00000000e-03, -7.80625564e-17,\n",
       "         4.00000000e-03,  8.00000000e-03],\n",
       "       [ 6.00000000e-02,  4.00000000e-02,  2.00000000e-02,\n",
       "         1.30104261e-17, -2.00000000e-02],\n",
       "       [ 1.28000000e-01,  8.40000000e-02,  4.00000000e-02,\n",
       "        -4.00000000e-03, -4.80000000e-02]])"
      ]
     },
     "execution_count": 60,
     "metadata": {},
     "output_type": "execute_result"
    }
   ],
   "source": [
    "linalg.pinv(matrix)"
   ]
  },
  {
   "cell_type": "code",
   "execution_count": null,
   "id": "f8e54673",
   "metadata": {},
   "outputs": [],
   "source": []
  }
 ],
 "metadata": {
  "kernelspec": {
   "display_name": "Python 3 (ipykernel)",
   "language": "python",
   "name": "python3"
  },
  "language_info": {
   "codemirror_mode": {
    "name": "ipython",
    "version": 3
   },
   "file_extension": ".py",
   "mimetype": "text/x-python",
   "name": "python",
   "nbconvert_exporter": "python",
   "pygments_lexer": "ipython3",
   "version": "3.9.7"
  }
 },
 "nbformat": 4,
 "nbformat_minor": 5
}
