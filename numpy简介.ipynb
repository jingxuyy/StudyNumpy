{
 "cells": [
  {
   "cell_type": "markdown",
   "id": "64f4af9f",
   "metadata": {},
   "source": [
    "# Numpy\n",
    "> NumPy(Numerical Python) 是科学计算基础库，提供大量科学计算相关功能，比如数据统计，随机数生成等。其提供最核心类型为多维数组类型（ndarray），支持大量的维度数组与矩阵运算，Numpy 支持向量处理 ndarray 对象，提高程序运算速度。"
   ]
  },
  {
   "cell_type": "markdown",
   "id": "60ec9b90",
   "metadata": {},
   "source": [
    "- numpy类似python中的list列表\n",
    "- 但是python原生的列表做数学计算操作受限，另外没有很方便的方法提供调用\n",
    "- numpy 支持的数据类型比 Python 内置的类型要多很多，基本上可以和 C 语言的数据类型对应上"
   ]
  },
  {
   "cell_type": "markdown",
   "id": "75863c41",
   "metadata": {},
   "source": [
    "## Array"
   ]
  },
  {
   "cell_type": "markdown",
   "id": "6dad56d0",
   "metadata": {},
   "source": [
    "- numpy 提供了类似列表的数组 array\n",
    "- array中每个元素的数据类型必须一致\n",
    "- array可以创建高维数组，例如：二维数组、三维数组等等"
   ]
  },
  {
   "cell_type": "markdown",
   "id": "804f1919",
   "metadata": {},
   "source": [
    "## Array支持的数据类型"
   ]
  },
  {
   "cell_type": "markdown",
   "id": "fa812c56",
   "metadata": {},
   "source": [
    "- 带符号整数：int8  int16  int32  int64\n",
    "- 无符号整数：uint8  uint16  uint32  uint64\n",
    "- 浮点数：float16  float32  float64\n",
    "- 其它不一一列举，因为numpy主要用于科学计算，整数和浮点数最常用"
   ]
  },
  {
   "cell_type": "markdown",
   "id": "56532498",
   "metadata": {},
   "source": [
    "## 数据类型相同的有序的数据集合，如果初始化的数据类型不同，会强制类型统-优先级:str>float>int"
   ]
  }
 ],
 "metadata": {
  "kernelspec": {
   "display_name": "Python 3 (ipykernel)",
   "language": "python",
   "name": "python3"
  },
  "language_info": {
   "codemirror_mode": {
    "name": "ipython",
    "version": 3
   },
   "file_extension": ".py",
   "mimetype": "text/x-python",
   "name": "python",
   "nbconvert_exporter": "python",
   "pygments_lexer": "ipython3",
   "version": "3.9.7"
  }
 },
 "nbformat": 4,
 "nbformat_minor": 5
}
